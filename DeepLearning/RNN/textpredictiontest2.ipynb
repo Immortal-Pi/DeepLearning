{
 "cells": [
  {
   "cell_type": "code",
   "execution_count": 24,
   "id": "76ece334-8a17-46b4-a52f-46920dfda718",
   "metadata": {},
   "outputs": [],
   "source": [
    "from keras.models import Sequential\n",
    "from keras.layers import Dense, Activation, LSTM, Dropout\n",
    "from keras.optimizers import RMSprop\n",
    "from keras.utils.data_utils import get_file\n",
    "import keras\n",
    "import random\n",
    "import numpy as np"
   ]
  },
  {
   "cell_type": "code",
   "execution_count": 4,
   "id": "23f1f42b-1a60-43e7-a32c-433469a266dd",
   "metadata": {},
   "outputs": [
    {
     "name": "stdout",
     "output_type": "stream",
     "text": [
      "581862\n",
      "580560\n"
     ]
    }
   ],
   "source": [
    "text=open('datasets/SherlockHolmes.txt').read().lower()\n",
    "\n",
    "text=text[1302:]\n",
    "print(len(text))"
   ]
  },
  {
   "cell_type": "code",
   "execution_count": 6,
   "id": "9425ce8f-5950-4b21-a64f-52f1488834a2",
   "metadata": {},
   "outputs": [
    {
     "name": "stdout",
     "output_type": "stream",
     "text": [
      "{'é', 'e', 'a', 'm', 'b', 'à', 'i', 'x', 'r', 'j', ' ', 'n', 't', 'â', 'l', 'w', 'c', ',', 'o', 'f', 'v', 'z', 'p', 'g', 'k', 'y', 'è', 's', 'h', 'd', \"'\", 'q', 'u'}\n"
     ]
    }
   ],
   "source": [
    "for ch in ['0','1', '2', '3', '4', '5', '6', '7', '8', '9', '!', '\"', '$', '%', '&', '~', '`', '(', ')', '*',\n",
    "          '-', '/', ';', '@', '?', ':', '©', '¢', 'ã', '\\xa0', '\\n', '\\r', '.']:\n",
    "    if ch in text:\n",
    "        text=text.replace(ch,' ')\n",
    "print(set(text))"
   ]
  },
  {
   "cell_type": "code",
   "execution_count": 14,
   "id": "62d5f164-2cc1-4e59-91b0-759e5f0d35f0",
   "metadata": {},
   "outputs": [
    {
     "data": {
      "text/plain": [
       "('s and predominates the whole of her sex  it was no', 't')"
      ]
     },
     "execution_count": 14,
     "metadata": {},
     "output_type": "execute_result"
    }
   ],
   "source": [
    "window=50\n",
    "step=3\n",
    "\n",
    "def window_transform(text,window,step):\n",
    "    input=[]\n",
    "    output=[]\n",
    "    n_batches=int((len(text)-window)/step)\n",
    "    for i in range(n_batches-1):\n",
    "        input.append(text[i*step:i*step+window])\n",
    "        output.append(text[i*step+window])\n",
    "\n",
    "    return input,output\n",
    "input,output=window_transform(text,window,step)\n",
    "input[6],output[6]"
   ]
  },
  {
   "cell_type": "code",
   "execution_count": 22,
   "id": "ac3d1b5e-86a3-4203-a32e-1e1e6c111c05",
   "metadata": {},
   "outputs": [],
   "source": [
    "chars=sorted(list(set(text)))\n",
    "char_to_indices=dict((c,n) for n,c in enumerate(chars))\n",
    "indices_to_char=dict((n,c) for n,c in enumerate(chars))"
   ]
  },
  {
   "cell_type": "code",
   "execution_count": 26,
   "id": "48588b39-2a98-443d-b050-3642253bb19b",
   "metadata": {},
   "outputs": [
    {
     "data": {
      "text/plain": [
       "((580560, 50, 33), (580560, 33))"
      ]
     },
     "execution_count": 26,
     "metadata": {},
     "output_type": "execute_result"
    }
   ],
   "source": [
    "def encodeio(text,window,step):\n",
    "    num_chars=len(chars)\n",
    "    input,output=window_transform(text,window,step)\n",
    "    x=np.zeros((len(text),window,num_chars),dtype=bool)\n",
    "    y=np.zeros((len(text),num_chars),dtype=bool)\n",
    "    \n",
    "    for i,sentence in enumerate(input):\n",
    "        for j,char in enumerate(sentence):\n",
    "            x[i,j,char_to_indices[char]]=1\n",
    "        y[i,char_to_indices[output[i]]]=1\n",
    "    return x,y\n",
    "\n",
    "\n",
    "x,y=encodeio(text,window,step)\n",
    "x.shape,y.shape"
   ]
  },
  {
   "cell_type": "code",
   "execution_count": 40,
   "id": "12d86e05-1c43-4c9e-8dfe-4b8df8b05459",
   "metadata": {},
   "outputs": [
    {
     "name": "stdout",
     "output_type": "stream",
     "text": [
      "Epoch 1/10\n",
      "40/40 [==============================] - 1s 12ms/step - loss: 3.0649 - accuracy: 0.1968\n",
      "Epoch 2/10\n",
      "40/40 [==============================] - 0s 8ms/step - loss: 2.8431 - accuracy: 0.2174\n",
      "Epoch 3/10\n",
      "40/40 [==============================] - 0s 8ms/step - loss: 2.8099 - accuracy: 0.2193\n",
      "Epoch 4/10\n",
      "40/40 [==============================] - 0s 8ms/step - loss: 2.7570 - accuracy: 0.2295\n",
      "Epoch 5/10\n",
      "40/40 [==============================] - 0s 9ms/step - loss: 2.6761 - accuracy: 0.2411\n",
      "Epoch 6/10\n",
      "40/40 [==============================] - 0s 9ms/step - loss: 2.5772 - accuracy: 0.2633\n",
      "Epoch 7/10\n",
      "40/40 [==============================] - 0s 8ms/step - loss: 2.4936 - accuracy: 0.2767\n",
      "Epoch 8/10\n",
      "40/40 [==============================] - 0s 8ms/step - loss: 2.4347 - accuracy: 0.2841\n",
      "Epoch 9/10\n",
      "40/40 [==============================] - 0s 8ms/step - loss: 2.3979 - accuracy: 0.2904\n",
      "Epoch 10/10\n",
      "40/40 [==============================] - 0s 7ms/step - loss: 2.3662 - accuracy: 0.2977\n"
     ]
    },
    {
     "data": {
      "text/plain": [
       "<keras.callbacks.History at 0x1d6f36bb760>"
      ]
     },
     "execution_count": 40,
     "metadata": {},
     "output_type": "execute_result"
    }
   ],
   "source": [
    "model = Sequential([\n",
    "    keras.layers.LSTM(120,input_shape=(window,len(chars))),\n",
    "    keras.layers.Dropout(0.22),\n",
    "    keras.layers.Dense(len(chars),activation='linear'),\n",
    "    keras.layers.Dense(len(chars),activation='softmax')\n",
    "    \n",
    "])\n",
    "model.compile(loss='categorical_crossentropy',optimizer='adam',metrics=['accuracy'])\n",
    "x_small=x[:20000,:,:]\n",
    "y_small=y[:20000,:]\n",
    "model.fit(x_small,y_small,batch_size=500,epochs=10)\n"
   ]
  },
  {
   "cell_type": "code",
   "execution_count": 41,
   "id": "f0df3b1e-cb0c-4414-b739-5e55d0e1c367",
   "metadata": {},
   "outputs": [
    {
     "name": "stdout",
     "output_type": "stream",
     "text": [
      "complete senquence: otion akin to love for irene adler  all emotions, and that o\n",
      "input sequence: otion akin to love for irene adler  all emotions, \n",
      "output sequence: an the  he\n"
     ]
    }
   ],
   "source": [
    "def predict_next_chars(model,input_char,num_to_predict):\n",
    "    pred_text=''\n",
    "    for i in range(num_to_predict):\n",
    "        test_x=np.zeros((1,window,len(chars)))\n",
    "        \n",
    "        for j, char in enumerate(input_char):\n",
    "            test_x[0,j,char_to_indices[char]]=1\n",
    "        test_prediction=model.predict(test_x,verbose=0)[0]\n",
    "\n",
    "        r=np.argmax(test_prediction)\n",
    "        d=indices_to_char[r]\n",
    "        pred_text+=d\n",
    "        input_char+=d\n",
    "        input_char=input_char[1:]\n",
    "    return pred_text\n",
    "\n",
    "\n",
    "start=89\n",
    "num_to_predict=10\n",
    "input_chars=text[start:start+window]\n",
    "print('complete senquence:',text[start:start+window+num_to_predict])\n",
    "print('input sequence:',input_chars)\n",
    "print('output sequence:',predict_next_chars(model,input_chars,num_to_predict))"
   ]
  },
  {
   "cell_type": "code",
   "execution_count": null,
   "id": "5e5ea693-95fa-4c0c-a3a6-8fbac4758367",
   "metadata": {},
   "outputs": [],
   "source": []
  }
 ],
 "metadata": {
  "kernelspec": {
   "display_name": "tf",
   "language": "python",
   "name": "tf"
  },
  "language_info": {
   "codemirror_mode": {
    "name": "ipython",
    "version": 3
   },
   "file_extension": ".py",
   "mimetype": "text/x-python",
   "name": "python",
   "nbconvert_exporter": "python",
   "pygments_lexer": "ipython3",
   "version": "3.9.18"
  }
 },
 "nbformat": 4,
 "nbformat_minor": 5
}
