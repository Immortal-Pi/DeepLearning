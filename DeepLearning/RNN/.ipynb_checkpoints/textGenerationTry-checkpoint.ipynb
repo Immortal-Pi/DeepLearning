{
 "cells": [
  {
   "cell_type": "code",
   "execution_count": 1,
   "id": "3eefc676-ab7a-4676-8439-9dac7bae7ea5",
   "metadata": {},
   "outputs": [],
   "source": [
    "from keras.models import Sequential\n",
    "from keras.layers import Dense, Activation, LSTM, Dropout\n",
    "from keras.optimizers import RMSprop\n",
    "from keras.utils.data_utils import get_file\n",
    "import keras\n",
    "import random\n",
    "import numpy as np"
   ]
  },
  {
   "cell_type": "markdown",
   "id": "d44e59ce-af14-4fda-8fc2-d84509b09a83",
   "metadata": {},
   "source": [
    "# text generation using RNN - how to make a better prediction character by character "
   ]
  },
  {
   "cell_type": "code",
   "execution_count": 2,
   "id": "486197df-2580-412f-b9ad-3d805daee158",
   "metadata": {},
   "outputs": [
    {
     "name": "stdout",
     "output_type": "stream",
     "text": [
      "given script has 581862 characters\n"
     ]
    }
   ],
   "source": [
    "text=open('datasets/SherlockHolmes.txt').read().lower()\n",
    "print('given script has '+ str(len(text))+' characters')"
   ]
  },
  {
   "cell_type": "markdown",
   "id": "f6aca9c0-b5b4-4055-a90b-8299731e6a2a",
   "metadata": {},
   "source": [
    "# strip the dataset and perform basic perprocessing "
   ]
  },
  {
   "cell_type": "code",
   "execution_count": 3,
   "id": "21d8715c-7159-4973-a071-65f4c4d8f53a",
   "metadata": {},
   "outputs": [
    {
     "name": "stdout",
     "output_type": "stream",
     "text": [
      "{'â', 'j', 'u', 'à', 'z', \"'\", 'i', 'a', 's', 'h', 'é', 'f', 'd', 'w', ',', ' ', 'n', 'l', 'c', 'v', 'o', 'q', 'k', 'r', 'è', 'b', 'g', 'e', 'y', 'p', 't', 'x', 'm'}\n"
     ]
    }
   ],
   "source": [
    "text=text[1302:]\n",
    "for ch in ['0','1', '2', '3', '4', '5', '6', '7', '8', '9', '!', '\"', '$', '%', '&', '~', '`', '(', ')', '*',\n",
    "          '-', '/', ';', '@', '?', ':', '©', '¢', 'ã', '\\xa0', '\\n', '\\r', '.']:\n",
    "    if ch in text:\n",
    "        text=text.replace(ch,' ')\n",
    "print(set(text))"
   ]
  },
  {
   "cell_type": "markdown",
   "id": "06afe5e4-fce9-4533-8414-98dc6b1a2a74",
   "metadata": {},
   "source": [
    "# create sliding window function, all the characters inside the window are treated as input \n",
    "- window size =50 and step size =3"
   ]
  },
  {
   "cell_type": "code",
   "execution_count": 14,
   "id": "a63f96b2-6cec-49fc-945a-0f5c2dfaeef6",
   "metadata": {},
   "outputs": [],
   "source": [
    "def window_transform(text,window,step_size):\n",
    "    input=[]\n",
    "    output=[]\n",
    "    n_batches=int((len(text)-window)/step_size)\n",
    "\n",
    "    for i in range(n_batches-1):\n",
    "        a=text[i*step_size:(i*step_size)+window]\n",
    "        # print('a '+str(i*step_size)+':'+str((i*step_size)+window))\n",
    "        input.append(a)\n",
    "        b=text[(i*step_size)+window]\n",
    "        # print('b '+str((i*step_size)+window))\n",
    "        output.append(b)\n",
    "    return input,output\n",
    "\n",
    "\n",
    "window=50\n",
    "step_size=3\n",
    "input,output = window_transform(text,window,step_size)\n",
    "# print(input,output)"
   ]
  },
  {
   "cell_type": "code",
   "execution_count": 29,
   "id": "0e18c812-8d15-4436-89aa-bfad03602a34",
   "metadata": {},
   "outputs": [
    {
     "data": {
      "text/plain": [
       "('s and predominates the whole of her sex  it was no', 't')"
      ]
     },
     "execution_count": 29,
     "metadata": {},
     "output_type": "execute_result"
    }
   ],
   "source": [
    "input[6], output[6]"
   ]
  },
  {
   "cell_type": "markdown",
   "id": "0798bb75-58c3-4cb3-8ccd-9a1e63e205df",
   "metadata": {},
   "source": [
    "# sort the output of set(text) and map to unique numerical value "
   ]
  },
  {
   "cell_type": "code",
   "execution_count": 33,
   "id": "63f4ed77-91f0-40f7-a164-8412a98d251b",
   "metadata": {},
   "outputs": [
    {
     "data": {
      "text/plain": [
       "{0: ' ',\n",
       " 1: \"'\",\n",
       " 2: ',',\n",
       " 3: 'a',\n",
       " 4: 'b',\n",
       " 5: 'c',\n",
       " 6: 'd',\n",
       " 7: 'e',\n",
       " 8: 'f',\n",
       " 9: 'g',\n",
       " 10: 'h',\n",
       " 11: 'i',\n",
       " 12: 'j',\n",
       " 13: 'k',\n",
       " 14: 'l',\n",
       " 15: 'm',\n",
       " 16: 'n',\n",
       " 17: 'o',\n",
       " 18: 'p',\n",
       " 19: 'q',\n",
       " 20: 'r',\n",
       " 21: 's',\n",
       " 22: 't',\n",
       " 23: 'u',\n",
       " 24: 'v',\n",
       " 25: 'w',\n",
       " 26: 'x',\n",
       " 27: 'y',\n",
       " 28: 'z',\n",
       " 29: 'à',\n",
       " 30: 'â',\n",
       " 31: 'è',\n",
       " 32: 'é'}"
      ]
     },
     "execution_count": 33,
     "metadata": {},
     "output_type": "execute_result"
    }
   ],
   "source": [
    "#sort \n",
    "chars = sorted(list(set(text)))\n",
    "#encoding \n",
    "char_to_indices = dict((c,i) for i,c in enumerate(chars))\n",
    "#decoding\n",
    "indices_to_chars= dict((i,c) for i,c in enumerate(chars))\n",
    "\n"
   ]
  },
  {
   "cell_type": "markdown",
   "id": "b3956df3-5bdd-4f31-b417-87e41d9f0a6a",
   "metadata": {},
   "source": [
    "# we have each character mapped to a numerical value, we need to transform the input/output vector in the same numerical format "
   ]
  },
  {
   "cell_type": "code",
   "execution_count": null,
   "id": "8ea3b3ca-832f-4eae-924c-fbb14e2b4d72",
   "metadata": {},
   "outputs": [],
   "source": [
    "def encode_io_pairs(text,window,step_size):\n",
    "    num_chars = len(chars)\n",
    "    inputs,outputs=window_transform(text,window,step_size)\n",
    "    #create empty vessels for one-hot encoded input/output\n",
    "    x=np.zeros((len(inputs),window,num_chars),dtype=np.bool)\n",
    "    y=np.zeros((len(inputs),num_chars),dtype=np.bool)\n",
    "    print(x)\n",
    "    print(y)\n",
    "    #loop over inputs/outputs and transform and store in x/y\n",
    "    \n",
    "\n",
    "x,y = encode_io_pair(text,window,step_size)"
   ]
  }
 ],
 "metadata": {
  "kernelspec": {
   "display_name": "tf",
   "language": "python",
   "name": "tf"
  },
  "language_info": {
   "codemirror_mode": {
    "name": "ipython",
    "version": 3
   },
   "file_extension": ".py",
   "mimetype": "text/x-python",
   "name": "python",
   "nbconvert_exporter": "python",
   "pygments_lexer": "ipython3",
   "version": "3.9.18"
  }
 },
 "nbformat": 4,
 "nbformat_minor": 5
}
