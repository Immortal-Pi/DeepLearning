{
 "cells": [
  {
   "cell_type": "code",
   "execution_count": 13,
   "metadata": {},
   "outputs": [
    {
     "name": "stdout",
     "output_type": "stream",
     "text": [
      "Given script has 581862 characters\n"
     ]
    }
   ],
   "source": [
    "text = open('Sherlock Holmes.txt').read().lower()\n",
    "print('Given script has ' + str(len(text)) + ' characters')"
   ]
  },
  {
   "cell_type": "code",
   "execution_count": 14,
   "metadata": {},
   "outputs": [
    {
     "name": "stdout",
     "output_type": "stream",
     "text": [
      "{'k', 'w', 'è', 'â', 'a', ' ', 'v', 'x', 'n', 'e', 'i', ',', 'j', 'à', 'p', 'm', 'z', 'h', 'g', 'y', 'd', 't', 'f', 'q', 's', 'o', 'r', 'u', \"'\", 'b', 'é', 'l', 'c'}\n"
     ]
    }
   ],
   "source": [
    "text = text[1302:]\n",
    "for ch in ['0','1', '2', '3', '4', '5', '6', '7', '8', '9', '!', '\"', '$', '%', '&', '~', '`', '(', ')', '*',\n",
    "          '-', '/', ';', '@', '?', ':', '©', '¢', 'ã', '\\xa0', '\\n', '\\r', '.']:\n",
    "       if ch in text:\n",
    "             text=text.replace(ch,' ')\n",
    "print(set(text))                "
   ]
  },
  {
   "cell_type": "code",
   "execution_count": 18,
   "metadata": {},
   "outputs": [],
   "source": [
    "def window_transform(text, window_size, step_size):    \n",
    "    inputs = []\n",
    "    outputs = []\n",
    "    \n",
    "    n_batches = int((len(text)-window_size) / step_size)    \n",
    "    \n",
    "    for i in range(n_batches-1):\n",
    "        a = text[i * step_size:((i * step_size) + window_size)]\n",
    "        inputs.append(a)\n",
    "        b = text[(i * step_size) + window_size]\n",
    "        outputs.append(b)\n",
    "\n",
    "    return inputs,outputs\n",
    "\n",
    "# Calling the window function\n",
    "window_size = 50\n",
    "step_size = 3\n",
    "inputs, outputs = window_transform(text, window_size, step_size)"
   ]
  },
  {
   "cell_type": "code",
   "execution_count": 34,
   "metadata": {},
   "outputs": [
    {
     "name": "stdout",
     "output_type": "stream",
     "text": [
      "[' ', \"'\", ',', 'a', 'b', 'c', 'd', 'e', 'f', 'g', 'h', 'i', 'j', 'k', 'l', 'm', 'n', 'o', 'p', 'q', 'r', 's', 't', 'u', 'v', 'w', 'x', 'y', 'z', 'à', 'â', 'è', 'é']\n"
     ]
    }
   ],
   "source": [
    "chars = sorted(list(set(text)))\n",
    "print(chars)"
   ]
  },
  {
   "cell_type": "code",
   "execution_count": 35,
   "metadata": {
    "collapsed": true
   },
   "outputs": [],
   "source": [
    "# Encoding \n",
    "chars_to_indices = dict((c, i) for i, c in enumerate(chars))\n",
    "\n",
    "# Decoding\n",
    "indices_to_chars = dict((i, c) for i, c in enumerate(chars))"
   ]
  },
  {
   "cell_type": "code",
   "execution_count": 43,
   "metadata": {},
   "outputs": [],
   "source": [
    "def encode_io_pairs(text, window_size, step_size):    \n",
    "    num_chars = len(chars)\n",
    "    \n",
    "    # cut up text into character input/output pairs\n",
    "    inputs, outputs = window_transform(text, window_size, step_size)\n",
    "    \n",
    "    # create empty vessels for one-hot encoded input/output\n",
    "    X = np.zeros((len(inputs), window_size, num_chars), dtype=np.bool)\n",
    "    y = np.zeros((len(inputs), num_chars), dtype=np.bool)\n",
    "    \n",
    "    # loop over inputs/outputs and tranform and store in X/y\n",
    "    for i, sentence in enumerate(inputs):\n",
    "        for t, char in enumerate(sentence):\n",
    "            X[i, t, chars_to_indices[char]] = 1\n",
    "        y[i, chars_to_indices[outputs[i]]] = 1\n",
    "        \n",
    "    return X,y\n",
    "\n",
    "X, y = encode_io_pairs(text, window_size, step_size)"
   ]
  },
  {
   "cell_type": "code",
   "execution_count": 48,
   "metadata": {},
   "outputs": [
    {
     "name": "stdout",
     "output_type": "stream",
     "text": [
      "Epoch 1/10\n",
      "20000/20000 [==============================] - 44s 2ms/step - loss: 3.0559\n",
      "Epoch 2/10\n",
      "20000/20000 [==============================] - 42s 2ms/step - loss: 2.8379\n",
      "Epoch 3/10\n",
      "20000/20000 [==============================] - 50s 2ms/step - loss: 2.8064\n",
      "Epoch 4/10\n",
      "20000/20000 [==============================] - 50s 2ms/step - loss: 2.7525\n",
      "Epoch 5/10\n",
      "20000/20000 [==============================] - 46s 2ms/step - loss: 2.6520\n",
      "Epoch 6/10\n",
      "20000/20000 [==============================] - 43s 2ms/step - loss: 2.5394\n",
      "Epoch 7/10\n",
      "20000/20000 [==============================] - 43s 2ms/step - loss: 2.4665\n",
      "Epoch 8/10\n",
      "20000/20000 [==============================] - 48s 2ms/step - loss: 2.4178\n",
      "Epoch 9/10\n",
      "20000/20000 [==============================] - 44s 2ms/step - loss: 2.3781\n",
      "Epoch 10/10\n",
      "20000/20000 [==============================] - 42s 2ms/step - loss: 2.3488\n"
     ]
    },
    {
     "data": {
      "text/plain": [
       "<keras.callbacks.History at 0x1b7b0bcb0f0>"
      ]
     },
     "execution_count": 48,
     "metadata": {},
     "output_type": "execute_result"
    }
   ],
   "source": [
    "# Designing the model\n",
    "model = Sequential()\n",
    "model.add(LSTM(120, input_shape=(window_size, len(chars))))\n",
    "model.add(Dropout(0.22))\n",
    "model.add(Dense(len(chars), activation='linear'))\n",
    "model.add(Dense(y.shape[1], activation='softmax'))\n",
    "\n",
    "# Compiling the model\n",
    "model.compile(loss='categorical_crossentropy', optimizer='adam')\n",
    "\n",
    "# Subsetting data for an example\n",
    "Xsmall = X[:20000,:,:]\n",
    "ysmall = y[:20000,:]\n",
    "\n",
    "# Model training\n",
    "model.fit(Xsmall, ysmall, batch_size=500, epochs=10)"
   ]
  },
  {
   "cell_type": "code",
   "execution_count": 49,
   "metadata": {
    "collapsed": true
   },
   "outputs": [],
   "source": [
    "def predict_next_chars(model, input_chars, num_to_predict):     \n",
    "    # create output\n",
    "    predicted_chars = ''\n",
    "    for i in range(num_to_predict):\n",
    "        # convert this round's predicted characters to numerical input    \n",
    "        x_test = np.zeros((1, window_size, len(chars)))\n",
    "        for t, char in enumerate(input_chars):\n",
    "            x_test[0, t, chars_to_indices[char]] = 1.\n",
    "\n",
    "        # make this round's prediction\n",
    "        test_predict = model.predict(x_test,verbose = 0)[0]\n",
    "\n",
    "        # translate numerical prediction back to characters\n",
    "        r = np.argmax(test_predict)                           # predict class of each test input\n",
    "        d = indices_to_chars[r] \n",
    "\n",
    "        # update predicted_chars and input\n",
    "        predicted_chars+=d\n",
    "        input_chars+=d\n",
    "        input_chars = input_chars[1:]\n",
    "    return predicted_chars"
   ]
  },
  {
   "cell_type": "code",
   "execution_count": 80,
   "metadata": {},
   "outputs": [
    {
     "name": "stdout",
     "output_type": "stream",
     "text": [
      "Complete sequence: otion akin to love for irene adler  all emotions, and that o\n",
      "Input sequence: otion akin to love for irene adler  all emotions, \n",
      "Output sequence: an  ou the\n"
     ]
    }
   ],
   "source": [
    "start = 89\n",
    "num_to_predict = 10\n",
    "input_chars = text[start: start + window_size]\n",
    "print('Complete sequence:', text[start:start + window_size + num_to_predict])\n",
    "print('Input sequence:', input_chars)\n",
    "print('Output sequence:', predict_next_chars(model, input_chars, num_to_predict = num_to_predict))"
   ]
  }
 ],
 "metadata": {
  "kernelspec": {
   "display_name": "Python 3",
   "language": "python",
   "name": "python3"
  },
  "language_info": {
   "codemirror_mode": {
    "name": "ipython",
    "version": 3
   },
   "file_extension": ".py",
   "mimetype": "text/x-python",
   "name": "python",
   "nbconvert_exporter": "python",
   "pygments_lexer": "ipython3",
   "version": "3.6.1"
  }
 },
 "nbformat": 4,
 "nbformat_minor": 2
}
