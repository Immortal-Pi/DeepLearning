{
 "cells": [
  {
   "cell_type": "markdown",
   "id": "e1123eec-7d48-48ee-9013-8ab908dbb4f6",
   "metadata": {},
   "source": [
    "# import necessary libraries"
   ]
  },
  {
   "cell_type": "code",
   "execution_count": 6,
   "id": "bb032847-8eb4-436c-adc5-f7b263de7a8c",
   "metadata": {},
   "outputs": [],
   "source": [
    "import numpy as np\n",
    "import pandas as pd\n",
    "import matplotlib.pyplot as plt\n",
    "import keras \n",
    "from keras.models import Sequential\n",
    "from keras.layers import LSTM\n",
    "from keras.layers.core import Dense, Activation, Dropout\n",
    "from sklearn.preprocessing import MinMaxScaler\n",
    "from sklearn.metrics import mean_squared_error\n"
   ]
  },
  {
   "cell_type": "code",
   "execution_count": 8,
   "id": "25516bf6-c686-405c-a393-c7bb068d5608",
   "metadata": {},
   "outputs": [
    {
     "name": "stdout",
     "output_type": "stream",
     "text": [
      "      Unnamed: 0      Symbol Series         Date  Prev Close  Open Price  \\\n",
      "0              0  INFOSYSTCH     EQ  03-Jan-2000    14467.75    15625.00   \n",
      "1              1  INFOSYSTCH     EQ  04-Jan-2000    15625.20    16800.00   \n",
      "2              2  INFOSYSTCH     EQ  05-Jan-2000    16855.90    15701.00   \n",
      "3              3  INFOSYSTCH     EQ  06-Jan-2000    15507.45    15256.65   \n",
      "4              4  INFOSYSTCH     EQ  07-Jan-2000    14266.85    13125.50   \n",
      "...          ...         ...    ...          ...         ...         ...   \n",
      "2491        2491  INFOSYSTCH     EQ  23-Dec-2009     2502.40     2511.00   \n",
      "2492        2492  INFOSYSTCH     EQ  24-Dec-2009     2583.75     2593.90   \n",
      "2493        2493  INFOSYSTCH     EQ  29-Dec-2009     2591.80     2595.10   \n",
      "2494        2494  INFOSYSTCH     EQ  30-Dec-2009     2577.15     2567.10   \n",
      "2495        2495  INFOSYSTCH     EQ  31-Dec-2009     2580.00     2585.00   \n",
      "\n",
      "      High Price  Low Price  Last Price  Close Price  Average Price  \\\n",
      "0       15625.20   15625.00    15625.20     15625.20       15625.18   \n",
      "1       16875.25   16253.00    16875.25     16855.90       16646.38   \n",
      "2       16250.00   15507.45    15507.45     15507.45       15786.38   \n",
      "3       15300.00   14266.85    14266.85     14266.85       14462.82   \n",
      "4       13125.50   13125.50    13125.50     13125.50       13125.50   \n",
      "...          ...        ...         ...          ...            ...   \n",
      "2491     2595.00    2511.00     2585.35      2583.75        2572.11   \n",
      "2492     2600.00    2560.15     2597.70      2591.80        2578.57   \n",
      "2493     2601.90    2563.30     2576.80      2577.15        2576.34   \n",
      "2494     2610.00    2563.70     2576.00      2580.00        2594.45   \n",
      "2495     2614.00    2585.00     2604.70      2601.10        2599.94   \n",
      "\n",
      "      Total Traded Quantity      Turnover No. of Trades Deliverable Qty  \\\n",
      "0                      5137  8.026657e+07             -               -   \n",
      "1                     56186  9.352937e+08             -               -   \n",
      "2                    164605  2.598516e+09             -               -   \n",
      "3                     81997  1.185908e+09             -               -   \n",
      "4                      7589  9.960942e+07             -               -   \n",
      "...                     ...           ...           ...             ...   \n",
      "2491                1338582  3.442976e+09             -          694075   \n",
      "2492                 697893  1.799564e+09             -          319274   \n",
      "2493                 785243  2.023051e+09             -          457862   \n",
      "2494                 621300  1.611930e+09             -          249765   \n",
      "2495                1156906  3.007888e+09             -          660409   \n",
      "\n",
      "     % Dly Qt to Traded Qty  \n",
      "0                         -  \n",
      "1                         -  \n",
      "2                         -  \n",
      "3                         -  \n",
      "4                         -  \n",
      "...                     ...  \n",
      "2491                  51.85  \n",
      "2492                  45.75  \n",
      "2493                  58.31  \n",
      "2494                   40.2  \n",
      "2495                  57.08  \n",
      "\n",
      "[2496 rows x 16 columns]\n"
     ]
    }
   ],
   "source": [
    "data=pd.read_csv('datasets/INFY20002008.csv')\n",
    "print(data)"
   ]
  },
  {
   "cell_type": "code",
   "execution_count": null,
   "id": "365ad3ac-6c4a-45de-a7a7-a1d65f2c7f37",
   "metadata": {},
   "outputs": [],
   "source": [
    "data= data"
   ]
  }
 ],
 "metadata": {
  "kernelspec": {
   "display_name": "tf",
   "language": "python",
   "name": "tf"
  },
  "language_info": {
   "codemirror_mode": {
    "name": "ipython",
    "version": 3
   },
   "file_extension": ".py",
   "mimetype": "text/x-python",
   "name": "python",
   "nbconvert_exporter": "python",
   "pygments_lexer": "ipython3",
   "version": "3.9.18"
  }
 },
 "nbformat": 4,
 "nbformat_minor": 5
}
