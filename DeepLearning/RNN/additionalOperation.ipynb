{
 "cells": [
  {
   "cell_type": "markdown",
   "id": "d067f5e7-beb8-4bfe-851c-3d3bc02489eb",
   "metadata": {},
   "source": [
    "# Additional topics "
   ]
  },
  {
   "cell_type": "markdown",
   "id": "cdecb903-a341-441b-8a28-e6b73a8765c5",
   "metadata": {},
   "source": [
    "- handling variable length sequence\n",
    "    - while building your model there can be cases when model may encounter varaible-length sequeses\n",
    "    - sequence 1 [32,45,78,98] length =4\n",
    "    - sequence 2 [1,8]         length =2\n",
    " \n",
    "- pad_sequences - keras provides a method for above\n"
   ]
  },
  {
   "cell_type": "code",
   "execution_count": 1,
   "id": "0eb1b6a4-7085-49a8-bec3-8d40d8f7cfbc",
   "metadata": {},
   "outputs": [],
   "source": [
    "from keras_preprocessing.sequence import pad_sequences"
   ]
  },
  {
   "cell_type": "code",
   "execution_count": 2,
   "id": "e3058333-6a28-44b1-8fc6-64a67f7e513f",
   "metadata": {},
   "outputs": [
    {
     "data": {
      "text/plain": [
       "array([[ 0,  0,  0, 11,  6],\n",
       "       [ 0,  0,  2,  5,  1],\n",
       "       [ 1,  8,  7,  6,  9]])"
      ]
     },
     "execution_count": 2,
     "metadata": {},
     "output_type": "execute_result"
    }
   ],
   "source": [
    "#create dummy sequences stored in a python list\n",
    "seq=[[11, 6], [2, 5, 1], [1, 8, 7, 6, 9]]\n",
    "#adds padding to the beginning of the sequence\n",
    "pad_sequences(seq,padding='pre')"
   ]
  },
  {
   "cell_type": "code",
   "execution_count": 3,
   "id": "4111ac14-ddd0-42bf-9396-ef1a438d0c69",
   "metadata": {},
   "outputs": [
    {
     "data": {
      "text/plain": [
       "array([[11,  6,  0,  0,  0],\n",
       "       [ 2,  5,  1,  0,  0],\n",
       "       [ 1,  8,  7,  6,  9]])"
      ]
     },
     "execution_count": 3,
     "metadata": {},
     "output_type": "execute_result"
    }
   ],
   "source": [
    "# adds padding to the end of the sequence \n",
    "pad_sequences(seq,padding='post')"
   ]
  },
  {
   "cell_type": "markdown",
   "id": "1f16426d-00d2-4fc8-b984-aca904a77259",
   "metadata": {},
   "source": [
    "# max length padding "
   ]
  },
  {
   "cell_type": "code",
   "execution_count": 4,
   "id": "d65356f7-6503-4ab5-a426-f16ef678c19d",
   "metadata": {},
   "outputs": [
    {
     "data": {
      "text/plain": [
       "array([[11,  6,  0,  0,  0,  0,  0],\n",
       "       [ 2,  5,  1,  0,  0,  0,  0],\n",
       "       [ 1,  8,  7,  6,  9,  0,  0]])"
      ]
     },
     "execution_count": 4,
     "metadata": {},
     "output_type": "execute_result"
    }
   ],
   "source": [
    "pad_sequences(seq,maxlen=7,padding='post')"
   ]
  },
  {
   "cell_type": "code",
   "execution_count": 5,
   "id": "50036fa4-e43d-4d70-be8c-c971e525b920",
   "metadata": {},
   "outputs": [
    {
     "data": {
      "text/plain": [
       "array([[ 0, 11,  6],\n",
       "       [ 2,  5,  1],\n",
       "       [ 7,  6,  9]])"
      ]
     },
     "execution_count": 5,
     "metadata": {},
     "output_type": "execute_result"
    }
   ],
   "source": [
    "pad_sequences(seq,maxlen=3,padding='pre')"
   ]
  },
  {
   "cell_type": "markdown",
   "id": "79b83c98-0234-444e-befc-0407069177d8",
   "metadata": {},
   "source": [
    "# Fetching Hidden and cell states of an LSTM Cell\n",
    "    - we can fetch the output value of the previous timestamp from the hidden layer using return_sequences \n",
    "    - this way we not only have the output of the final timestamp but also the subsequent timestamp outputs"
   ]
  },
  {
   "cell_type": "code",
   "execution_count": 6,
   "id": "1743e40a-c55a-4b03-a106-2896e3cfc26f",
   "metadata": {},
   "outputs": [],
   "source": [
    "from keras.models import Model\n",
    "from keras.layers import Input, LSTM\n",
    "import numpy as np"
   ]
  },
  {
   "cell_type": "code",
   "execution_count": 7,
   "id": "88987976-d5d4-4fd9-af00-bf37eb0f0a61",
   "metadata": {},
   "outputs": [
    {
     "name": "stdout",
     "output_type": "stream",
     "text": [
      "[[[0.2]\n",
      "  [0.3]\n",
      "  [0.4]\n",
      "  [0.5]\n",
      "  [0.6]]]\n"
     ]
    }
   ],
   "source": [
    "inputs = np.array([0.2, 0.3, 0.4, 0.5, 0.6]).reshape((1, 5, 1))\n",
    "print(inputs)"
   ]
  },
  {
   "cell_type": "code",
   "execution_count": null,
   "id": "b6a42018-ba5c-4bf7-b162-86171d3d2d54",
   "metadata": {},
   "outputs": [
    {
     "name": "stdout",
     "output_type": "stream",
     "text": [
      "Outputs from each five timestamps\n"
     ]
    }
   ],
   "source": [
    "#define random LSTM network\n",
    "np.random.seed(42)\n",
    "feed = Input(shape=(5,1))\n",
    "lstm, state_h, state_c,= LSTM(1, return_sequences=True,return_state=True)(feed)\n",
    "model = Model(inputs=feed,outputs=(lstm,state_h,state_c))\n",
    "\n",
    "#Predictions\n",
    "print('Outputs from each five timestamps')\n",
    "model.predict(inputs)"
   ]
  },
  {
   "cell_type": "code",
   "execution_count": 23,
   "id": "f34cb716-ba91-48d6-ae5f-4952bcada568",
   "metadata": {},
   "outputs": [
    {
     "ename": "AttributeError",
     "evalue": "'Functional' object has no attribute 'add'",
     "output_type": "error",
     "traceback": [
      "\u001b[1;31m---------------------------------------------------------------------------\u001b[0m",
      "\u001b[1;31mAttributeError\u001b[0m                            Traceback (most recent call last)",
      "Cell \u001b[1;32mIn[23], line 1\u001b[0m\n\u001b[1;32m----> 1\u001b[0m \u001b[43mmodel\u001b[49m\u001b[38;5;241;43m.\u001b[39;49m\u001b[43madd\u001b[49m(Dropout(\u001b[38;5;241m0.3\u001b[39m))\n",
      "\u001b[1;31mAttributeError\u001b[0m: 'Functional' object has no attribute 'add'"
     ]
    }
   ],
   "source": [
    "model.add(Dropout(0.3))"
   ]
  },
  {
   "cell_type": "markdown",
   "id": "85d2b713-6e4a-4371-8dce-804d50f495d9",
   "metadata": {},
   "source": [
    "# Dropout\n",
    "    - however if we try to use dropout for RNN(LSTM/GRU) it can interfere with the timestamps unless you rely on its arguments noise_shape\n",
    "    - since it take 2 inputs (output of previous state and current input)\n",
    "    - therefore its not always necessary that the output from the previous state may match the dimension of the current input. \n",
    "    - droupout :- Current input\n",
    "    - recurrent_dropout :- Recurrent state(previous output and/or cell state)\n",
    "    - both take values between 0 and 1 "
   ]
  },
  {
   "cell_type": "code",
   "execution_count": null,
   "id": "4ff33782-41c5-4c1a-a409-2b2a7ea83072",
   "metadata": {},
   "outputs": [],
   "source": []
  }
 ],
 "metadata": {
  "kernelspec": {
   "display_name": "tf",
   "language": "python",
   "name": "tf"
  },
  "language_info": {
   "codemirror_mode": {
    "name": "ipython",
    "version": 3
   },
   "file_extension": ".py",
   "mimetype": "text/x-python",
   "name": "python",
   "nbconvert_exporter": "python",
   "pygments_lexer": "ipython3",
   "version": "3.9.18"
  }
 },
 "nbformat": 4,
 "nbformat_minor": 5
}
