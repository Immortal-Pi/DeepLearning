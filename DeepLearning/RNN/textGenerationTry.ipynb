{
 "cells": [
  {
   "cell_type": "code",
   "execution_count": 4,
   "id": "3eefc676-ab7a-4676-8439-9dac7bae7ea5",
   "metadata": {},
   "outputs": [],
   "source": [
    "from keras.models import Sequential\n",
    "from keras.layers import Dense, Activation, LSTM, Dropout\n",
    "from keras.optimizers import RMSprop\n",
    "from keras.utils.data_utils import get_file\n",
    "import keras\n",
    "import random\n",
    "import numpy as np"
   ]
  },
  {
   "cell_type": "markdown",
   "id": "d44e59ce-af14-4fda-8fc2-d84509b09a83",
   "metadata": {},
   "source": [
    "# text generation using RNN - how to make a better prediction character by character "
   ]
  },
  {
   "cell_type": "code",
   "execution_count": 5,
   "id": "486197df-2580-412f-b9ad-3d805daee158",
   "metadata": {},
   "outputs": [
    {
     "name": "stdout",
     "output_type": "stream",
     "text": [
      "given script has 581862 characters\n"
     ]
    }
   ],
   "source": [
    "text=open('datasets/SherlockHolmes.txt').read().lower()\n",
    "print('given script has '+ str(len(text))+' characters')"
   ]
  },
  {
   "cell_type": "markdown",
   "id": "f6aca9c0-b5b4-4055-a90b-8299731e6a2a",
   "metadata": {},
   "source": [
    "# strip the dataset and perform basic perprocessing "
   ]
  },
  {
   "cell_type": "code",
   "execution_count": 6,
   "id": "21d8715c-7159-4973-a071-65f4c4d8f53a",
   "metadata": {},
   "outputs": [
    {
     "name": "stdout",
     "output_type": "stream",
     "text": [
      "{'t', 'é', 'd', 'e', 'x', 'i', 'w', 'm', 'h', 'u', 'o', 'â', 'z', \"'\", 'p', 'l', 'à', 'n', 'f', 'g', 'r', 'v', 's', 'q', ',', 'b', 'a', 'j', 'c', ' ', 'y', 'k', 'è'}\n"
     ]
    }
   ],
   "source": [
    "text=text[1302:]\n",
    "for ch in ['0','1', '2', '3', '4', '5', '6', '7', '8', '9', '!', '\"', '$', '%', '&', '~', '`', '(', ')', '*',\n",
    "          '-', '/', ';', '@', '?', ':', '©', '¢', 'ã', '\\xa0', '\\n', '\\r', '.']:\n",
    "    if ch in text:\n",
    "        text=text.replace(ch,' ')\n",
    "print(set(text))"
   ]
  },
  {
   "cell_type": "markdown",
   "id": "06afe5e4-fce9-4533-8414-98dc6b1a2a74",
   "metadata": {},
   "source": [
    "# create sliding window function, all the characters inside the window are treated as input \n",
    "- window size =50 and step size =3"
   ]
  },
  {
   "cell_type": "code",
   "execution_count": 7,
   "id": "a63f96b2-6cec-49fc-945a-0f5c2dfaeef6",
   "metadata": {},
   "outputs": [],
   "source": [
    "def window_transform(text,window,step_size):\n",
    "    input=[]\n",
    "    output=[]\n",
    "    n_batches=int((len(text)-window)/step_size)\n",
    "\n",
    "    for i in range(n_batches-1):\n",
    "        a=text[i*step_size:(i*step_size)+window]\n",
    "        # print('a '+str(i*step_size)+':'+str((i*step_size)+window))\n",
    "        input.append(a)\n",
    "        b=text[(i*step_size)+window]\n",
    "        # print('b '+str((i*step_size)+window))\n",
    "        output.append(b)\n",
    "    return input,output\n",
    "\n",
    "\n",
    "window=50\n",
    "step_size=3\n",
    "input,output = window_transform(text,window,step_size)\n",
    "# print(input,output)"
   ]
  },
  {
   "cell_type": "code",
   "execution_count": 29,
   "id": "0e18c812-8d15-4436-89aa-bfad03602a34",
   "metadata": {},
   "outputs": [
    {
     "data": {
      "text/plain": [
       "('s and predominates the whole of her sex  it was no', 't')"
      ]
     },
     "execution_count": 29,
     "metadata": {},
     "output_type": "execute_result"
    }
   ],
   "source": [
    "input[6], output[6]"
   ]
  },
  {
   "cell_type": "markdown",
   "id": "0798bb75-58c3-4cb3-8ccd-9a1e63e205df",
   "metadata": {},
   "source": [
    "# sort the output of set(text) and map to unique numerical value "
   ]
  },
  {
   "cell_type": "code",
   "execution_count": 8,
   "id": "63f4ed77-91f0-40f7-a164-8412a98d251b",
   "metadata": {},
   "outputs": [],
   "source": [
    "#sort \n",
    "chars = sorted(list(set(text)))\n",
    "#encoding \n",
    "char_to_indices = dict((c,i) for i,c in enumerate(chars))\n",
    "#decoding\n",
    "indices_to_chars= dict((i,c) for i,c in enumerate(chars))\n",
    "\n"
   ]
  },
  {
   "cell_type": "markdown",
   "id": "b3956df3-5bdd-4f31-b417-87e41d9f0a6a",
   "metadata": {},
   "source": [
    "# we have each character mapped to a numerical value, we need to transform the input/output vector in the same numerical format "
   ]
  },
  {
   "cell_type": "code",
   "execution_count": 20,
   "id": "8ea3b3ca-832f-4eae-924c-fbb14e2b4d72",
   "metadata": {},
   "outputs": [
    {
     "name": "stdout",
     "output_type": "stream",
     "text": [
      "(193502, 50, 33) (193502, 33)\n"
     ]
    }
   ],
   "source": [
    "def encode_io_pairs(text,window,step_size):\n",
    "    num_chars = len(chars)\n",
    "    inputs,outputs=window_transform(text,window,step_size)\n",
    "    #create empty vessels for one-hot encoded input/output\n",
    "    x=np.zeros((len(inputs),window,num_chars),dtype=bool)\n",
    "    y=np.zeros((len(inputs),num_chars),dtype=bool)\n",
    "   \n",
    "    #loop over inputs/outputs and transform and store in x/y\n",
    "    for i,sentence in enumerate(inputs):\n",
    "        for t,char in enumerate(sentence):\n",
    "            x[i,t,char_to_indices[char]]=1\n",
    "        y[i, char_to_indices[outputs[i]]]=1\n",
    "    return x,y        \n",
    "\n",
    "x,y = encode_io_pairs(text,window,step_size)\n",
    "print(x.shape,y.shape)"
   ]
  },
  {
   "cell_type": "markdown",
   "id": "a387ecf3-b68e-4bb3-92a3-dac2285f29be",
   "metadata": {},
   "source": [
    "# build LSTM network starting with starting with the first layer having 120 nodes followed by a fully connected linear layer and a softmax layer "
   ]
  },
  {
   "cell_type": "code",
   "execution_count": 31,
   "id": "a9dfc3c0-6476-4f46-8c06-657272abf21c",
   "metadata": {},
   "outputs": [
    {
     "name": "stdout",
     "output_type": "stream",
     "text": [
      "Epoch 1/10\n",
      "40/40 [==============================] - 2s 15ms/step - loss: 3.0635\n",
      "Epoch 2/10\n",
      "40/40 [==============================] - 0s 9ms/step - loss: 2.8398\n",
      "Epoch 3/10\n",
      "40/40 [==============================] - 0s 9ms/step - loss: 2.7978\n",
      "Epoch 4/10\n",
      "40/40 [==============================] - 0s 8ms/step - loss: 2.7394\n",
      "Epoch 5/10\n",
      "40/40 [==============================] - 0s 8ms/step - loss: 2.6580\n",
      "Epoch 6/10\n",
      "40/40 [==============================] - 0s 8ms/step - loss: 2.5726\n",
      "Epoch 7/10\n",
      "40/40 [==============================] - 0s 8ms/step - loss: 2.4885\n",
      "Epoch 8/10\n",
      "40/40 [==============================] - 0s 8ms/step - loss: 2.4283\n",
      "Epoch 9/10\n",
      "40/40 [==============================] - 0s 8ms/step - loss: 2.3856\n",
      "Epoch 10/10\n",
      "40/40 [==============================] - 0s 8ms/step - loss: 2.3541\n"
     ]
    },
    {
     "data": {
      "text/plain": [
       "<keras.callbacks.History at 0x269a23b8d30>"
      ]
     },
     "execution_count": 31,
     "metadata": {},
     "output_type": "execute_result"
    }
   ],
   "source": [
    "model = Sequential([\n",
    "    keras.layers.LSTM(120,input_shape=(window,len(chars))),\n",
    "    keras.layers.Dropout(0.22),\n",
    "    keras.layers.Dense(len(chars), activation='linear'),\n",
    "    keras.layers.Dense(len(chars), activation='softmax')\n",
    "])\n",
    "\n",
    "#compiling the model\n",
    "model.compile(loss='categorical_crossentropy',optimizer='adam')\n",
    "xsmall=x[:20000,:,:]\n",
    "ysmall=y[:20000,:]\n",
    "model.fit(xsmall,ysmall,batch_size=500,epochs=10)"
   ]
  },
  {
   "cell_type": "markdown",
   "id": "2e487b7c-3ec5-4e01-97d7-d087df099fb1",
   "metadata": {},
   "source": [
    "- top proceed with prediction\n",
    "  - our script accepts window size of 50 and takes the output as the 51st character\n",
    "  - we need to predict a character\n",
    "  - later remove the first charecter from our previous window and add the newly predicted character at the end making it still a window of size 50\n",
    "  - predict the second character and keep following the process"
   ]
  },
  {
   "cell_type": "code",
   "execution_count": 32,
   "id": "43f78186-e9d0-4801-b6dd-7cc9f2c62c5a",
   "metadata": {},
   "outputs": [
    {
     "name": "stdout",
     "output_type": "stream",
     "text": [
      "complete sequence: otion akin to love for irene adler  all emotions, and that o\n",
      "input sequence: otion akin to love for irene adler  all emotions, \n",
      "output sequence: an  ou the\n"
     ]
    }
   ],
   "source": [
    "def predict_next_chars(model,input_chars,num_to_predict):\n",
    "    pred_chars=''\n",
    "    for i in range(num_to_predict):\n",
    "        #convert this round's predicted charaters to numberical input\n",
    "        x_test=np.zeros((1,window,len(chars)))\n",
    "        for t, char in enumerate(input_chars):\n",
    "            x_test[0,t,char_to_indices[char]] = 1\n",
    "\n",
    "        #make this round's prediction \n",
    "        test_predict = model.predict(x_test,verbose=0)[0]\n",
    "\n",
    "        #translate the numerical prediction back to characters\n",
    "        r=np.argmax(test_predict)\n",
    "        d=indices_to_chars[r]\n",
    "\n",
    "        #update predicted chars and input\n",
    "        pred_chars+=d\n",
    "        input_chars+=d\n",
    "        input_chars = input_chars[1:]\n",
    "    return pred_chars\n",
    "\n",
    "\n",
    "start=89\n",
    "num_to_predict=10\n",
    "input_chars = text[start:start+window]\n",
    "print('complete sequence:', text[start:start+window+num_to_predict])\n",
    "print('input sequence:', input_chars)\n",
    "print('output sequence:', predict_next_chars(model,input_char,num_to_predict=num_to_predict))"
   ]
  },
  {
   "cell_type": "code",
   "execution_count": null,
   "id": "7f407c35-3f14-4115-be74-076ddff6a5a1",
   "metadata": {},
   "outputs": [],
   "source": []
  },
  {
   "cell_type": "code",
   "execution_count": null,
   "id": "fb0de28f-11b8-4d89-b764-b42add96fb6e",
   "metadata": {},
   "outputs": [],
   "source": []
  }
 ],
 "metadata": {
  "kernelspec": {
   "display_name": "tf",
   "language": "python",
   "name": "tf"
  },
  "language_info": {
   "codemirror_mode": {
    "name": "ipython",
    "version": 3
   },
   "file_extension": ".py",
   "mimetype": "text/x-python",
   "name": "python",
   "nbconvert_exporter": "python",
   "pygments_lexer": "ipython3",
   "version": "3.9.18"
  }
 },
 "nbformat": 4,
 "nbformat_minor": 5
}
