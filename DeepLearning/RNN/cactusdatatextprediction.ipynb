{
 "cells": [
  {
   "cell_type": "code",
   "execution_count": 2,
   "id": "9f7ca661-967c-4b34-b109-11e997b467b9",
   "metadata": {},
   "outputs": [],
   "source": [
    "from keras.models import Sequential\n",
    "from keras.layers import Dense, Activation, LSTM, Dropout\n",
    "from keras.optimizers import RMSprop\n",
    "from keras.utils.data_utils import get_file\n",
    "import keras\n",
    "import random\n",
    "import numpy as np"
   ]
  },
  {
   "cell_type": "code",
   "execution_count": 57,
   "id": "6fbb0f84-099e-4bfd-afef-1f03151e75d7",
   "metadata": {},
   "outputs": [
    {
     "data": {
      "text/plain": [
       "'national park service, u. s. department of the interior. they\\ninclude such outstanding scenic areas as grand canyon and yosemite\\nnational parks and other parks and monuments set aside for their scenic,\\nscientific, historic or archeologic values. these superb areas are yours\\nand are a part of your heritage as american citizens.\\n\\nthe national park service has the job of preserving the parks and\\nmonuments in their natural, unspoiled condition and of making them\\navailable for your enjoyment in such a manner as to leave them\\nunimpaired for the inspiration of future generations. to achieve this\\nhigh purpose it has been necessary to prohibit such activities as\\nwoodcutting, hunting, grazing, mining and even flower-picking. the men\\nin the uniform of the national park service are here to serve you, and\\nwill welcome the opportunity to make your stay at saguaro national\\nmonument more enjoyable.\\n\\nwe hope you will cooperate with us “by taking only pictures and\\ninspiration and leaving only footprints and goodwill.”\\n\\n\\n                         tips to photographers\\n\\nphotographers will note that several trails have been laid out for their\\nconvenience. these lead to particularly fine specimens and groups of\\nsaguaros, but have not been developed as permanent trails. they are\\nmerely guides to the better photographic locations.\\n\\nthe best time to photograph the cactus forest is late in the afternoon\\nwhen the lengthening shadows make the cactus stand out in bold relief.\\nexcellent views of the forest, with the santa catalina mountains in the\\nbackground, may be had from the hilltops as you drive north on the loop\\nroad. the arizona sun is brighter than you think, so use a light meter.\\n\\n\\n                    conservation—can a layman help?\\n\\nif you are interested in the work of the national park service and in\\nthe cause of conservation in general, you can give active expression of\\nthis interest, and lend support by aligning yourself with one of the\\nnumerous conservation organizations which act as spokesmen for those who\\nwish our scenic heritage to be kept unimpaired for the enjoyment of\\nfuture generations.\\n\\nnames and addresses of conservation organizations may be obtained from\\nthe ranger.\\n\\n                         keep america beautiful\\n\\n    [illustration: ray manley photo]\\n\\n\\n_the national monument_\\n\\nin 1933 president herbert hoover by presidential proclamation created\\nsaguaro national monument. within its boundaries is found the\\nmagnificent forest of mature saguaros that is recognized as the finest\\nstand of this great cactus in the united states. it is one of the few\\nnational monuments dedicated to the protection and preservation of a\\nnative plant species.\\n\\nit is also one of the most diversified of our national monuments. with\\nan altitudinal range of over 5,000 feet its 63,000-acre area encompasses\\nthe peaks of two mountain ranges. against this background of towering\\nmountains the cactus forest is presented as a rare jewel mounted in an\\nincomparable setting.\\n\\n\\n_the giant cactus_\\n\\nthe saguaro (_carnegiea gigantea_) is the largest cactus native to the\\nunited states. common in northwestern mexico, its range north of the\\nborder is limited to southern arizona, with the exception of a few\\nisolated small colonies along the california side of the colorado river.\\nit grows on low desert plains and foothills in the hot dry climate of\\nthe lower sonoran zone. a prominent feature of this desert landscape is\\nthe great variety of xerophytic (especially modified to exist on limited\\nwater supply) plants, especially the cacti. in response to the arid\\nconditions under which it must survive the saguaro exhibits a degree of\\nadaptability equalled by few plants anywhere.\\n\\nthe construction of the saguaro is simple, yet effective. the stem is\\nsupported by an inner framework of from 12 to 30 slender vertical ribs.\\narranged in a circle and joined at various places these ribs form an\\nopenwork tube that possesses great strength and rigidity. in and around\\nthis tube is a spongy tissue capable of absorbing a great amount of\\nwater. this is facilitated by the accordion-like pleats of the interior\\nsurface of the stem. these extend or close together as the moisture\\ncontent of the plant increases or diminishes.\\n\\nthe roots that serve this living storage tank are no less remarkable.\\nthe tap root is small and acts as little more than a pad to support the\\ngreat weight of the plant. the radial roots are heavy and of great\\nlength. they radiate out from the base of the saguaro, usually no more\\nthan a foot below the surface of the ground, but often to a distance\\nequal to the height of the plant. they serve the double purpose of\\ngathering food and moisture, and of holding the great bulk of the trunk\\nupright against the fierce desert storms. in their progress through the\\nrocky soil in which the saguaro usually grows they become contorted and\\nact as anchors which are not easily dislodged.\\n\\n    [illustration: george olin photo\\n    _the red pulp and shiny black seeds of the saguaro fruit are eagerly\\n    taken by almost all animals. even man finds it delicious. the\\n    scarlet lining of the opened and split pod is often mistaken by\\n    newcomers for a red flower._]\\n\\n    [illustration: ray manley photo\\n    _the saguaro blooms at night, and on bright days closes about 10 the\\n    next morning. they attract swarms of insects, which in turn lure\\n    many birds. this is the state flower of arizona and blooms in may\\n    and june._]\\n\\nthe associations of the saguaro with other plants of the desert have not\\nas yet been fully studied. however, it is apparent that for the first\\nyears of its life the young saguaro seedling requires the protection\\nfurnished by a shrub or tree. here it makes slow but steady progress\\nuntil at 50 years of age it may be 10 to 12 feet tall. during the next\\ncentury it may attain a height of 40 feet and a weight of several tons,\\ndwarfing its protector of former years.\\n\\nthe ecological importance of the saguaro to animals is better known. two\\nspecies of woodpeckers, the gila woodpecker and the gilded flicker,\\ndrill deep holes into the plant and fashion nests in the cool interior.\\nactually this causes little damage to the saguaro, which soon forms a\\nthick scar tissue around the walls of the excavation, sealing it away\\nfrom the rest of the plant. in succeeding years these nests may be taken\\nover by elf owls, sparrow hawks, flycatchers, or purple martins. larger\\nbirds build their nests among the branches of the saguaro. chief among\\nthese are the red tail hawks and great horned owls.\\n\\n    [illustration: ray manley photo\\n    _yucca blooms_\\n\\n    yucca elata (palmilla, _soapweed_) _is one of the best known plants\\n    of the southwest. the beautiful white plumes of flowers appear in\\n    may and june._]\\n\\n\\n\\n\\n                         _cactus forest drive_\\n\\n\\nwhile at saguaro you will find it is desirable to take advantage of the\\nrecreational and educational facilities provided for your use. after you\\nleave the administration building, signs along the 9.1-mile loop road\\nwill direct your attention to special exhibits along the way. each area\\nhas been chosen because of features especially interesting to the\\nvisitor. limited exploring and hiking trips are encouraged along cactus\\nforest drive. a picnic area provided with fireplaces, tables and ramadas\\nis located at the 8-mile point.\\n\\namong the many stops along the cactus forest drive five have been\\nselected as especially important to an understanding of the natural\\nfeatures of the monument. each has “in place” information which will add\\nto your appreciation of the cactus forest.\\n\\n\\nfirst stop\\n\\nrock parapet—approximately 200 years ago prevailing climatic conditions\\nwere of such nature as to permit germination of a large number of\\nsaguaro seeds, creating the more or less even-aged stand of giant\\nsaguaros we see here today.\\n\\nthe tanque verde mountains to the east are composed largely of\\ncrystalline rocks formed under conditions of great heat and pressure.\\nthey were elevated by movements of the earth’s crust and now are\\ngradually being eroded away.\\n\\nthe tucson valley to the north is in reality a deep canyon (2,000 to\\n3,000 feet) filled with debris.\\n\\n\\nsecond stop\\n\\ncristate saguaro—this abnormal growth, called a cristate, is of rare\\noccurrence. many theories have been advanced as to what causes these\\n“crests” but none hold true in all cases. although the cause is unknown,\\nthe pattern of their growth is simple. instead of growing in three\\ndirections the cells of a cristate grow only upward and outward in two.\\nthis results in a fan-shaped malformation with a long growing line in\\nthe center of the upper edge. although a cristate may apparently develop\\nfrom an injury, there is every reason to believe that, once established,\\nthe tendency to cristate becomes a genetic character. seed from\\ncristates often produce cristate plants. an excellent specimen of\\ncristate barrel cactus may be seen at the entrance to the nature trail.\\n\\n\\nthird stop\\n\\nnature trail—along this 300-yard trail you will find most of the\\nimportant plants native to the cactus forest. each plant is labelled\\nwith both common and scientific names, together with much additional\\ninformation.\\n\\n    [illustration: _the desert and the mountains_\\n\\n    the tanque verde (green tank) _and rincon (inside corner) mountains\\n    are an important part of saguaro national monument. this is\\n    presently the “back country” of the monument. the mountainous\\n    section has a wide variety of interests in the field of biology. the\\n    range of climates and life zones combine to make one of the most\\n    interesting stories to be found in any of your national parks or\\n    monuments._]\\n\\n  saguaro national monument\\n    acreage—63,000\\n    elevation—2,600 to 8,590 ft.\\n  n.w. corner\\n    el. 2,600 ft.\\n  rincon creek\\n  pantano wash\\n  agua verde creek\\n  cactus forest loop drive\\n    observation hill\\n    old spanish trail\\n    visitor use bldg\\n    park headquarters\\n  lunch area\\n  desert to mountain hwy.\\n  juniper basin\\n    el. 3,000 ft.\\n  mica mtn.\\n    el. 8,590 ft.\\n  forest use area\\n  rincon peak\\n    el. 8,465 ft.\\n\\n    [illustration: george olin photo\\n    _redtail hawk_\\n\\n    _this large buteo is a common resident of the monument. it\\n    frequently nests among the arms of the saguaro. since its food\\n    consists mainly of small rodents it is one of the most beneficial of\\n    our birds._]\\n\\n\\nfourth stop\\n\\nview of west slope of tanque verde mountains—saguaro cacti growing up to\\nan elevation of 4,000 feet.\\n\\nthe country you see here is a good example of what is called the lower\\nsonoran life zone. here you may expect such typical desert animals as\\nthe roadrunner, gambel quail, kangaroo rat, jackrabbit and the javelina\\nor “wild pig”.\\n\\n\\nfifth stop\\n\\njavelina den (_hah-veh-lee-nah_)—in these undercuts the javelinas (or\\npeccary) often hide during the day to escape from the heat of the sun.\\nat night many javelinas are often present in this particular area due to\\nthe abundance of jojoba bushes.\\n\\nfrom the view point near the javelina den a striking view may be had of\\nthe distant santa cruz valley. on a clear day seven mountain ranges may\\nbe seen from this spot.\\n\\n    [illustration: _screech owl_—_these small grayish owls (usually with\\n    more conspicuous “ear” tufts) are permanent and valued residents of\\n    the saguaro country. on their silent night-time hunts they eat great\\n    numbers of mice and insects._]\\n\\n    [illustration: _western box turtle_—_occasionally observed in the\\n    cactus forest._]\\n\\n    [illustration: _gila (hee-lah) monster_—_the only poisonous lizard\\n    in the united states; it is protected in arizona by law. its skin is\\n    beaded and its color is marbled black with pinkish or yellowish. the\\n    gila monster reproduces by eggs which are laid in the sand._]\\n\\n    [illustration: _peccary_—_bands of peccaries, so-called wild pigs,\\n    are commonly seen along the cactus forest drive._]\\n\\n    [illustration: _palmer thrasher_—_robin-sized, with curved bill,\\n    long tail and gray-brown back. often nests in the cholla cactus._]\\n\\n    [illustration: _mexican mule deer_—_most people are accustomed to\\n    thinking of deer as animals of the forest, but surprisingly enough\\n    the rough foothill country in the desert supports a large population\\n    of deer. the mule deer is a true vegetarian and during the fall and\\n    winter browses extensively on trees and shrubs and during spring and\\n    summer consumes a variety of grasses and herbs. the young are born\\n    in late spring or summer and the fawns are sometimes seen at that\\n    time of year._]\\n\\n    [illustration: _gilded flicker_—_many of the small holes in the\\n    saguaros were made by this bird as it hollows out a cavity for its\\n    nest._]\\n\\n    [illustration: _roadrunner_—_this odd looking, ground-dwelling\\n    relative of the cuckoos resides in brushy places throughout the\\n    southwest. it eats insects, spiders, lizards, small snakes and mice.\\n    rattlesnakes sometimes are killed by roadrunners._]\\n\\n    [illustration: _whitewinged dove_—_large numbers of these birds may\\n    be seen in the cactus forest when the saguaro fruits are ripe._]\\n\\n    [illustration: _gambel quail_—_a common desert dweller that may be\\n    observed at any season of the year. it nests on the ground._]\\n\\n    [illustration: _arizona rock squirrel_—_distinguished from the gray\\n    squirrels by their less bushy tail and mottled coat. they are ground\\n    dwellers, but can climb trees if necessary._]\\n\\n    [illustration: _white-throated wood rat_—_commonly known as the pack\\n    rat, this interesting animal builds its nest in a mound of cactus\\n    segments. marauders think twice before they molest this spiny home.\\n    seldom seen in daylight. note the baby, lower left._]\\n\\n    [illustration: _above_—_harris ground squirrel_—_a small ground\\n    squirrel with striped back and a bushy tail usually held erect. they\\n    are active during the day and may be seen from april through\\n    november._]\\n\\n    [illustration: _below_—_arizona round-tailed ground\\n    squirrel_—_another common ground squirrel of the desert. it has a\\n    short tail and is tan in color._]\\n\\n        “all photographs on pages 9-12 by marvin h. frost, sr.”\\n                            5th ed. 4-56 20m\\n\\n\\nsaguaro national monument, a unit of the national park system, is one of\\n180 areas administered by the national park service, u. s. department of\\nthe interior.\\n\\nthe traveling public is becoming increasingly aware of the national\\nmonuments, which have received less publicity than the great, well-known\\nnational parks, yet which possess extremely interesting features.\\n\\nmany of these are in the southwest; we hope you will take the\\nopportunity to visit one or more of them on your trip.\\n\\n\\n_administered as a group by the general superintendent, southwestern\\nnational monuments, box 1562, gila pueblo, globe, arizona_\\n\\n  in utah:\\n    arches national monument, moab\\n    natural bridges national monument (care of arches)\\n    rainbow bridge national monument (care of navajo)\\n  in new mexico:\\n    aztec ruins national monument, aztec\\n    chaco canyon national monument, bloomfield\\n    el morro national monument, el morro\\n    gila cliff dwellings national monument (care of general supt.)\\n    gran quivira national monument, gran quivira\\n  in arizona:\\n    canyon de chelly national monument, chinle\\n    casa grande national monument, coolidge\\n    chiricahua national monument, dos cabezas\\n    coronado national memorial, star route, hereford, arizona\\n    montezuma castle national monument, camp verde\\n    navajo national monument, tonalea\\n    sunset crater national monument (care of wupatki)\\n    tonto national monument, roosevelt\\n    tumacacori national monument, tumacacori\\n    tuzigoot national monument, clarkdale\\n    walnut canyon national monument, rt. 1, box 790, flagstaff\\n    wupatki national monument, tuba star route, flagstaff\\n\\n_other areas administered by the national park service in the southwest\\nfollow:_\\n\\n  in arizona:\\n    grand canyon national park, grand canyon\\n    grand canyon national monument, grand canyon\\n    organ pipe cactus national monument, ajo\\n    petrified forest national monument, holbrook\\n    pipe spring national monument, moccasin\\n    saguaro national monument, rt. 8, box 350, tucson\\n  in colorado:\\n    black canyon of the gunnison national monument (care of colorado\\n          national monument)\\n    colorado national monument, fruita\\n    great sand dunes national monument, box 60, alamosa\\n    mesa verde national park\\n  in nevada:\\n    lake mead national recreation area, boulder city\\n    lehman caves national monument, baker\\n  in new mexico:\\n    bandelier national monument, santa fe\\n    capulin mountain national monument, capulin\\n    carlsbad caverns national park, carlsbad\\n    white sands national monument, box 231, alamogordo\\n  in oklahoma:\\n    platt national park, sulphur\\n  in texas:\\n    big bend national park\\n  in utah:\\n    bryce canyon national park, springdale\\n    capitol reef national monument, torrey\\n    cedar breaks national monument (care of zion)\\n    timpanogos cave national monument, pleasant grove\\n    zion national park, springdale\\n    zion national monument (care of zion)\\n\\n\\n                    this booklet is published by the\\n                    southwestern national monuments\\n                box 1562 h, gila pueblo, globe, arizona\\n\\n _which is a non-profit distributing organization pledged to aid in the\\n                              preservation\\n  and interpretation of southwestern features of outstanding national\\n                               interest._\\n\\n\\nthe association lists for sale interesting and excellent publications\\nfor adults _and_ children and very many color slides on southwestern\\nsubjects. these make fine gifts for birthdays, parties, and special\\noccasions, and many prove to be of value to children in their school\\nwork and hobbies.\\n\\nmay we recommend, for instance, the following items which give\\nadditional information on saguaro national monument and the southwest?\\n\\n  ****3. arizona’s national monuments. king, ed. comprehensive chapters,\\n          written by rangers, on the 16 monuments in the state and grand\\n          canyon. beautifully illustrated, 8 color plates, maps. 116 pp\\n                                                                   $3.00\\n  ***45. flowers of the southwest deserts. dodge and janish. more than\\n          140 of the most interesting and common desert plants\\n          beautifully drawn in 100 plates, with descriptive text. 112\\n          pp., color cover, paper\\n                                                                   $1.00\\n  ***60. flowers of the southwest mesas. patraw and janish. companion\\n          volume to the deserts flower booklet, but covering the plants\\n          of the plateau country of the southwest. more than 140 species\\n          are beautifully illustrated in the 100 plates of line drawings\\n          by jeanne r. janish, with descriptive text, 112 pp., color\\n          cover, paper\\n                                                                   $1.00\\n  ***61. flowers of the southwest mountains. arnberger and janish.\\n          descriptions and illustrations of plants and trees of the\\n          southern rocky mountains and other southwestern ranges above\\n          7,000 feet elevation. 112 pp., color cover, paper\\n                                                                   $1.00\\n  ***64. poisonous dwellers of the desert. dodge. invaluable handbook\\n          for any person living in the desert. tells the facts about\\n          dangerous insects, snakes, etc., giving treatment for bites\\n          and stings, and dispels myths about harmless creatures\\n          mistakenly believed poisonous. 48 pp\\n                                                                   $0.50\\n  ***67. animals of the southwest deserts. george olin and jerry cannon.\\n          interestingly written accounts of 42 desert dwelling mammals\\n          with 75 line drawings. 112 pp., color paper cover\\n                                                                   $1.00\\n  **107. tumacacori’s yesterdays. by earl jackson. the interestingly\\n          written story of 18th and early 19th century indian and\\n          spanish life in southern arizona and sonora as reflected in\\n          the history of the mission of san jose de tumacacori, now\\n          tumacacori national monument. 96 pp., color paper cover, 53\\n          excellent illus\\n                                                                   $0.75\\n  **131. nalakihu. by dale s. king. thorough and concise reports on an\\n          interesting pueblo in wupatki national monument. technical but\\n          has interesting summaries and discussions. 193 pp., 81 plates,\\n          17 tables\\n                                                                   $4.00\\n  **650. for the dean. erik k. reed and dale s. king, eds. handsome\\n          volume of anthropological essays by 23 of his former students\\n          in honor of the noted dr. byron cummings of the u. of arizona.\\n          valuable contribution to science, consisting mostly of\\n          southwestern subjects. authors include haury, mcgregor,\\n          hawley, wedel, willey, spicer, etc., and subjects cover wide\\n          field: pueblo witchcraft, cocopah history, papago physical\\n          status, great kivas, etc. 319 pp., illus., cloth\\n                                                                   $6.00\\n\\n\\nfor the complete list of almost 100 publications and 1700 color slides\\non southwestern indians, geology, ruins, plants, animals, history, etc.,\\nask the ranger, or you can obtain one by mail by writing the\\n\\n                              southwestern\\n                           national monuments\\n                 box 1562 h—gila pueblo, globe, arizona\\n\\n    [illustration: petroglyph of gambel quail]\\n\\n                                    _offset by_ killian printing service\\n                                                          globe, arizona\\n\\n\\n\\n\\n                          transcriber’s notes\\n\\n\\n—silently corrected a few typos.\\n\\n—retained publication information from the printed edition: this ebook\\n  is public-domain in the country of publication.\\n\\n—in the text versions only, text in italics is delimited by\\n  _underscores_.\\n\\n\\n\\n\\n\\n\\n\\nend of the project gutenberg ebook of cactus forest drive, saguaro national\\nmonument, by anonymous\\n\\n*** end of this project gutenberg ebook cactus forest drive ***\\n\\n***** this file should be named 59787-0.txt or 59787-0.zip *****\\nthis and all associated files of various formats will be found in:\\n        http://www.gutenberg.org/5/9/7/8/59787/\\n\\nproduced by stephen hutcheson, lisa corcoran and the online\\ndistributed proofreading team at http://www.pgdp.net\\n\\nupdated editions will replace the previous one--the old editions will\\nbe renamed.\\n\\ncreating the works from print editions not protected by u.s. copyright\\nlaw means that no one owns a united states copyright in these works,\\nso the foundation (and you!) can copy and distribute it in the united\\nstates without permission and without paying copyright\\nroyalties. special rules, set forth in the general terms of use part\\nof this license, apply to copying and distributing project\\ngutenberg-tm electronic works to protect the project gutenberg-tm\\nconcept and trademark. project gutenberg is a registered trademark,\\nand may not be used if you charge for the ebooks, unless you receive\\nspecific permission. if you do not charge anything for copies of this\\nebook, complying with the rules is very easy. you may use this ebook\\nfor nearly any purpose such as creation of derivative works, reports,\\nperformances and research. they may be modified and printed and given\\naway--you may do practically anything in the united states with ebooks\\nnot protected by u.s. copyright law. redistribution is subject to the\\ntrademark license, especially commercial redistribution.\\n\\nstart: full license\\n\\nthe full project gutenberg license\\nplease read this before you distribute or use this work\\n\\nto protect the project gutenberg-tm mission of promoting the free\\ndistribution of electronic works, by using or distributing this work\\n(or any other work associated in any way with the phrase \"project\\ngutenberg\"), you agree to comply with all the terms of the full\\nproject gutenberg-tm license available with this file or online at\\nwww.gutenberg.org/license.\\n\\nsection 1. general terms of use and redistributing project\\ngutenberg-tm electronic works\\n\\n1.a. by reading or using any part of this project gutenberg-tm\\nelectronic work, you indicate that you have read, understand, agree to\\nand accept all the terms of this license and intellectual property\\n(trademark/copyright) agreement. if you do not agree to abide by all\\nthe terms of this agreement, you must cease using and return or\\ndestroy all copies of project gutenberg-tm electronic works in your\\npossession. if you paid a fee for obtaining a copy of or access to a\\nproject gutenberg-tm electronic work and you do not agree to be bound\\nby the terms of this agreement, you may obtain a refund from the\\nperson or entity to whom you paid the fee as set forth in paragraph\\n1.e.8.\\n\\n1.b. \"project gutenberg\" is a registered trademark. it may only be\\nused on or associated in any way with an electronic work by people who\\nagree to be bound by the terms of this agreement. there are a few\\nthings that you can do with most project gutenberg-tm electronic works\\neven without complying with the full terms of this agreement. see\\nparagraph 1.c below. there are a lot of things you can do with project\\ngutenberg-tm electronic works if you follow the terms of this\\nagreement and help preserve free future access to project gutenberg-tm\\nelectronic works. see paragraph 1.e below.\\n\\n1.c. the project gutenberg literary archive foundation (\"the\\nfoundation\" or pglaf), owns a compilation copyright in the collection\\nof project gutenberg-tm electronic works. nearly all the individual\\nworks in the collection are in the public domain in the united\\nstates. if an individual work is unprotected by copyright law in the\\nunited states and you are located in the united states, we do not\\nclaim a right to prevent you from copying, distributing, performing,\\ndisplaying or creating derivative works based on the work as long as\\nall references to project gutenberg are removed. of course, we hope\\nthat you will support the project gutenberg-tm mission of promoting\\nfree access to electronic works by freely sharing project gutenberg-tm\\nworks in compliance with the terms of this agreement for keeping the\\nproject gutenberg-tm name associated with the work. you can easily\\ncomply with the terms of this agreement by keeping this work in the\\nsame format with its attached full project gutenberg-tm license when\\nyou share it without charge with others.\\n\\n1.d. the copyright laws of the place where you are located also govern\\nwhat you can do with this work. copyright laws in most countries are\\nin a constant state of change. if you are outside the united states,\\ncheck the laws of your country in addition to the terms of this\\nagreement before downloading, copying, displaying, performing,\\ndistributing or creating derivative works based on this work or any\\nother project gutenberg-tm work. the foundation makes no\\nrepresentations concerning the copyright status of any work in any\\ncountry outside the united states.\\n\\n1.e. unless you have removed all references to project gutenberg:\\n\\n1.e.1. the following sentence, with active links to, or other\\nimmediate access to, the full project gutenberg-tm license must appear\\nprominently whenever any copy of a project gutenberg-tm work (any work\\non which the phrase \"project gutenberg\" appears, or with which the\\nphrase \"project gutenberg\" is associated) is accessed, displayed,\\nperformed, viewed, copied or distributed:\\n\\n  this ebook is for the use of anyone anywhere in the united states and\\n  most other parts of the world at no cost and with almost no\\n  restrictions whatsoever. you may copy it, give it away or re-use it\\n  under the terms of the project gutenberg license included with this\\n  ebook or online at www.gutenberg.org. if you are not located in the\\n  united states, you\\'ll have to check the laws of the country where you\\n  are located before using this ebook.\\n\\n1.e.2. if an individual project gutenberg-tm electronic work is\\nderived from texts not protected by u.s. copyright law (does not\\ncontain a notice indicating that it is posted with permission of the\\ncopyright holder), the work can be copied and distributed to anyone in\\nthe united states without paying any fees or charges. if you are\\nredistributing or providing access to a work with the phrase \"project\\ngutenberg\" associated with or appearing on the work, you must comply\\neither with the requirements of paragraphs 1.e.1 through 1.e.7 or\\nobtain permission for the use of the work and the project gutenberg-tm\\ntrademark as set forth in paragraphs 1.e.8 or 1.e.9.\\n\\n1.e.3. if an individual project gutenberg-tm electronic work is posted\\nwith the permission of the copyright holder, your use and distribution\\nmust comply with both paragraphs 1.e.1 through 1.e.7 and any\\nadditional terms imposed by the copyright holder. additional terms\\nwill be linked to the project gutenberg-tm license for all works\\nposted with the permission of the copyright holder found at the\\nbeginning of this work.\\n\\n1.e.4. do not unlink or detach or remove the full project gutenberg-tm\\nlicense terms from this work, or any files containing a part of this\\nwork or any other work associated with project gutenberg-tm.\\n\\n1.e.5. do not copy, display, perform, distribute or redistribute this\\nelectronic work, or any part of this electronic work, without\\nprominently displaying the sentence set forth in paragraph 1.e.1 with\\nactive links or immediate access to the full terms of the project\\ngutenberg-tm license.\\n\\n1.e.6. you may convert to and distribute this work in any binary,\\ncompressed, marked up, nonproprietary or proprietary form, including\\nany word processing or hypertext form. however, if you provide access\\nto or distribute copies of a project gutenberg-tm work in a format\\nother than \"plain vanilla ascii\" or other format used in the official\\nversion posted on the official project gutenberg-tm web site\\n(www.gutenberg.org), you must, at no additional cost, fee or expense\\nto the user, provide a copy, a means of exporting a copy, or a means\\nof obtaining a copy upon request, of the work in its original \"plain\\nvanilla ascii\" or other form. any alternate format must include the\\nfull project gutenberg-tm license as specified in paragraph 1.e.1.\\n\\n1.e.7. do not charge a fee for access to, viewing, displaying,\\nperforming, copying or distributing any project gutenberg-tm works\\nunless you comply with paragraph 1.e.8 or 1.e.9.\\n\\n1.e.8. you may charge a reasonable fee for copies of or providing\\naccess to or distributing project gutenberg-tm electronic works\\nprovided that\\n\\n* you pay a royalty fee of 20% of the gross profits you derive from\\n  the use of project gutenberg-tm works calculated using the method\\n  you already use to calculate your applicable taxes. the fee is owed\\n  to the owner of the project gutenberg-tm trademark, but he has\\n  agreed to donate royalties under this paragraph to the project\\n  gutenberg literary archive foundation. royalty payments must be paid\\n  within 60 days following each date on which you prepare (or are\\n  legally required to prepare) your periodic tax returns. royalty\\n  payments should be clearly marked as such and sent to the project\\n  gutenberg literary archive foundation at the address specified in\\n  section 4, \"information about donations to the project gutenberg\\n  literary archive foundation.\"\\n\\n* you provide a full refund of any money paid by a user who notifies\\n  you in writing (or by e-mail) within 30 days of receipt that s/he\\n  does not agree to the terms of the full project gutenberg-tm\\n  license. you must require such a user to return or destroy all\\n  copies of the works possessed in a physical medium and discontinue\\n  all use of and all access to other copies of project gutenberg-tm\\n  works.\\n\\n* you provide, in accordance with paragraph 1.f.3, a full refund of\\n  any money paid for a work or a replacement copy, if a defect in the\\n  electronic work is discovered and reported to you within 90 days of\\n  receipt of the work.\\n\\n* you comply with all other terms of this agreement for free\\n  distribution of project gutenberg-tm works.\\n\\n1.e.9. if you wish to charge a fee or distribute a project\\ngutenberg-tm electronic work or group of works on different terms than\\nare set forth in this agreement, you must obtain permission in writing\\nfrom both the project gutenberg literary archive foundation and the\\nproject gutenberg trademark llc, the owner of the project gutenberg-tm\\ntrademark. contact the foundation as set forth in section 3 below.\\n\\n1.f.\\n\\n1.f.1. project gutenberg volunteers and employees expend considerable\\neffort to identify, do copyright research on, transcribe and proofread\\nworks not protected by u.s. copyright law in creating the project\\ngutenberg-tm collection. despite these efforts, project gutenberg-tm\\nelectronic works, and the medium on which they may be stored, may\\ncontain \"defects,\" such as, but not limited to, incomplete, inaccurate\\nor corrupt data, transcription errors, a copyright or other\\nintellectual property infringement, a defective or damaged disk or\\nother medium, a computer virus, or computer codes that damage or\\ncannot be read by your equipment.\\n\\n1.f.2. limited warranty, disclaimer of damages - except for the \"right\\nof replacement or refund\" described in paragraph 1.f.3, the project\\ngutenberg literary archive foundation, the owner of the project\\ngutenberg-tm trademark, and any other party distributing a project\\ngutenberg-tm electronic work under this agreement, disclaim all\\nliability to you for damages, costs and expenses, including legal\\nfees. you agree that you have no remedies for negligence, strict\\nliability, breach of warranty or breach of contract except those\\nprovided in paragraph 1.f.3. you agree that the foundation, the\\ntrademark owner, and any distributor under this agreement will not be\\nliable to you for actual, direct, indirect, consequential, punitive or\\nincidental damages even if you give notice of the possibility of such\\ndamage.\\n\\n1.f.3. limited right of replacement or refund - if you discover a\\ndefect in this electronic work within 90 days of receiving it, you can\\nreceive a refund of the money (if any) you paid for it by sending a\\nwritten explanation to the person you received the work from. if you\\nreceived the work on a physical medium, you must return the medium\\nwith your written explanation. the person or entity that provided you\\nwith the defective work may elect to provide a replacement copy in\\nlieu of a refund. if you received the work electronically, the person\\nor entity providing it to you may choose to give you a second\\nopportunity to receive the work electronically in lieu of a refund. if\\nthe second copy is also defective, you may demand a refund in writing\\nwithout further opportunities to fix the problem.\\n\\n1.f.4. except for the limited right of replacement or refund set forth\\nin paragraph 1.f.3, this work is provided to you \\'as-is\\', with no\\nother warranties of any kind, express or implied, including but not\\nlimited to warranties of merchantability or fitness for any purpose.\\n\\n1.f.5. some states do not allow disclaimers of certain implied\\nwarranties or the exclusion or limitation of certain types of\\ndamages. if any disclaimer or limitation set forth in this agreement\\nviolates the law of the state applicable to this agreement, the\\nagreement shall be interpreted to make the maximum disclaimer or\\nlimitation permitted by the applicable state law. the invalidity or\\nunenforceability of any provision of this agreement shall not void the\\nremaining provisions.\\n\\n1.f.6. indemnity - you agree to indemnify and hold the foundation, the\\ntrademark owner, any agent or employee of the foundation, anyone\\nproviding copies of project gutenberg-tm electronic works in\\naccordance with this agreement, and any volunteers associated with the\\nproduction, promotion and distribution of project gutenberg-tm\\nelectronic works, harmless from all liability, costs and expenses,\\nincluding legal fees, that arise directly or indirectly from any of\\nthe following which you do or cause to occur: (a) distribution of this\\nor any project gutenberg-tm work, (b) alteration, modification, or\\nadditions or deletions to any project gutenberg-tm work, and (c) any\\ndefect you cause.\\n\\nsection 2. information about the mission of project gutenberg-tm\\n\\nproject gutenberg-tm is synonymous with the free distribution of\\nelectronic works in formats readable by the widest variety of\\ncomputers including obsolete, old, middle-aged and new computers. it\\nexists because of the efforts of hundreds of volunteers and donations\\nfrom people in all walks of life.\\n\\nvolunteers and financial support to provide volunteers with the\\nassistance they need are critical to reaching project gutenberg-tm\\'s\\ngoals and ensuring that the project gutenberg-tm collection will\\nremain freely available for generations to come. in 2001, the project\\ngutenberg literary archive foundation was created to provide a secure\\nand permanent future for project gutenberg-tm and future\\ngenerations. to learn more about the project gutenberg literary\\narchive foundation and how your efforts and donations can help, see\\nsections 3 and 4 and the foundation information page at\\nwww.gutenberg.org\\n\\n\\n\\nsection 3. information about the project gutenberg literary archive foundation\\n\\nthe project gutenberg literary archive foundation is a non profit\\n501(c)(3) educational corporation organized under the laws of the\\nstate of mississippi and granted tax exempt status by the internal\\nrevenue service. the foundation\\'s ein or federal tax identification\\nnumber is 64-6221541. contributions to the project gutenberg literary\\narchive foundation are tax deductible to the full extent permitted by\\nu.s. federal laws and your state\\'s laws.\\n\\nthe foundation\\'s principal office is in fairbanks, alaska, with the\\nmailing address: po box 750175, fairbanks, ak 99775, but its\\nvolunteers and employees are scattered throughout numerous\\nlocations. its business office is located at 809 north 1500 west, salt\\nlake city, ut 84116, (801) 596-1887. email contact links and up to\\ndate contact information can be found at the foundation\\'s web site and\\nofficial page at www.gutenberg.org/contact\\n\\nfor additional contact information:\\n\\n    dr. gregory b. newby\\n    chief executive and director\\n    gbnewby@pglaf.org\\n\\nsection 4. information about donations to the project gutenberg\\nliterary archive foundation\\n\\nproject gutenberg-tm depends upon and cannot survive without wide\\nspread public support and donations to carry out its mission of\\nincreasing the number of public domain and licensed works that can be\\nfreely distributed in machine readable form accessible by the widest\\narray of equipment including outdated equipment. many small donations\\n($1 to $5,000) are particularly important to maintaining tax exempt\\nstatus with the irs.\\n\\nthe foundation is committed to complying with the laws regulating\\ncharities and charitable donations in all 50 states of the united\\nstates. compliance requirements are not uniform and it takes a\\nconsiderable effort, much paperwork and many fees to meet and keep up\\nwith these requirements. we do not solicit donations in locations\\nwhere we have not received written confirmation of compliance. to send\\ndonations or determine the status of compliance for any particular\\nstate visit www.gutenberg.org/donate\\n\\nwhile we cannot and do not solicit contributions from states where we\\nhave not met the solicitation requirements, we know of no prohibition\\nagainst accepting unsolicited donations from donors in such states who\\napproach us with offers to donate.\\n\\ninternational donations are gratefully accepted, but we cannot make\\nany statements concerning tax treatment of donations received from\\noutside the united states. u.s. laws alone swamp our small staff.\\n\\nplease check the project gutenberg web pages for current donation\\nmethods and addresses. donations are accepted in a number of other\\nways including checks, online payments and credit card donations. to\\ndonate, please visit: www.gutenberg.org/donate\\n\\nsection 5. general information about project gutenberg-tm electronic works.\\n\\nprofessor michael s. hart was the originator of the project\\ngutenberg-tm concept of a library of electronic works that could be\\nfreely shared with anyone. for forty years, he produced and\\ndistributed project gutenberg-tm ebooks with only a loose network of\\nvolunteer support.\\n\\nproject gutenberg-tm ebooks are often created from several printed\\neditions, all of which are confirmed as not protected by copyright in\\nthe u.s. unless a copyright notice is included. thus, we do not\\nnecessarily keep ebooks in compliance with any particular paper\\nedition.\\n\\nmost people start at our web site which has the main pg search\\nfacility: www.gutenberg.org\\n\\nthis web site includes information about project gutenberg-tm,\\nincluding how to make donations to the project gutenberg literary\\narchive foundation, how to help produce our new ebooks, and how to\\nsubscribe to our email newsletter to hear about new ebooks.\\n'"
      ]
     },
     "execution_count": 57,
     "metadata": {},
     "output_type": "execute_result"
    }
   ],
   "source": [
    "text=open('datasets/CactusForestDrive.txt').read().lower()\n",
    "\n",
    "text=text[1302:]\n",
    "len(text)\n",
    "text"
   ]
  },
  {
   "cell_type": "code",
   "execution_count": 4,
   "id": "b2c38e8c-00d9-44e8-b78c-edfe47ca0517",
   "metadata": {},
   "outputs": [
    {
     "name": "stdout",
     "output_type": "stream",
     "text": [
      "{'o', 'i', '“', 'e', 's', 'c', ' ', 'r', '_', ',', 'j', 'q', 'h', 'b', '—', '[', ']', 'z', 'd', 'a', '”', 't', 'f', 'v', 'u', '’', \"'\", 'k', 'p', 'm', 'g', 'w', 'n', 'x', 'y', 'l'}\n"
     ]
    }
   ],
   "source": [
    "for ch in ['0','1', '2', '3', '4', '5', '6', '7', '8', '9', '!', '\"', '$', '%', '&', '~', '`', '(', ')', '*',\n",
    "          '-', '/', ';', '@', '?', ':', '©', '¢', 'ã', '\\xa0', '\\n', '\\r', '.']:\n",
    "    if ch in text:\n",
    "        text=text.replace(ch,' ')\n",
    "print(set(text))"
   ]
  },
  {
   "cell_type": "code",
   "execution_count": 58,
   "id": "c1d66f85-9dbb-4f48-b7e2-7d84d6111119",
   "metadata": {},
   "outputs": [
    {
     "data": {
      "text/plain": [
       "{0: '\\n',\n",
       " 1: ' ',\n",
       " 2: '!',\n",
       " 3: '\"',\n",
       " 4: '$',\n",
       " 5: '%',\n",
       " 6: \"'\",\n",
       " 7: '(',\n",
       " 8: ')',\n",
       " 9: '*',\n",
       " 10: ',',\n",
       " 11: '-',\n",
       " 12: '.',\n",
       " 13: '/',\n",
       " 14: '0',\n",
       " 15: '1',\n",
       " 16: '2',\n",
       " 17: '3',\n",
       " 18: '4',\n",
       " 19: '5',\n",
       " 20: '6',\n",
       " 21: '7',\n",
       " 22: '8',\n",
       " 23: '9',\n",
       " 24: ':',\n",
       " 25: ';',\n",
       " 26: '?',\n",
       " 27: '@',\n",
       " 28: '[',\n",
       " 29: ']',\n",
       " 30: '_',\n",
       " 31: 'a',\n",
       " 32: 'b',\n",
       " 33: 'c',\n",
       " 34: 'd',\n",
       " 35: 'e',\n",
       " 36: 'f',\n",
       " 37: 'g',\n",
       " 38: 'h',\n",
       " 39: 'i',\n",
       " 40: 'j',\n",
       " 41: 'k',\n",
       " 42: 'l',\n",
       " 43: 'm',\n",
       " 44: 'n',\n",
       " 45: 'o',\n",
       " 46: 'p',\n",
       " 47: 'q',\n",
       " 48: 'r',\n",
       " 49: 's',\n",
       " 50: 't',\n",
       " 51: 'u',\n",
       " 52: 'v',\n",
       " 53: 'w',\n",
       " 54: 'x',\n",
       " 55: 'y',\n",
       " 56: 'z',\n",
       " 57: '—',\n",
       " 58: '’',\n",
       " 59: '“',\n",
       " 60: '”'}"
      ]
     },
     "execution_count": 58,
     "metadata": {},
     "output_type": "execute_result"
    }
   ],
   "source": [
    "chars=sorted(set(list(text)))\n",
    "char_to_indices= dict((c,i) for i,c in enumerate(chars))\n",
    "indices_to_char= dict((i,c) for i,c in enumerate(chars))\n",
    "indices_to_char"
   ]
  },
  {
   "cell_type": "code",
   "execution_count": 18,
   "id": "73d0dd2f-ec79-42ed-b4d2-1269259bebea",
   "metadata": {},
   "outputs": [
    {
     "data": {
      "text/plain": [
       "('ational monument is one of more than     units adm', 'i')"
      ]
     },
     "execution_count": 18,
     "metadata": {},
     "output_type": "execute_result"
    }
   ],
   "source": [
    "def create_datasets(text,window,step):\n",
    "    input,output=[],[]\n",
    "    n_batches=int((len(text)-window)/step)\n",
    "    for i in range(n_batches-1):\n",
    "        input.append(text[i*step:i*step+window])\n",
    "        output.append(text[i*step+window])\n",
    "    return input,output\n",
    "\n",
    "window=50\n",
    "step=3\n",
    "input,output=create_datasets(text,window,step)\n",
    "input[11], output[11]"
   ]
  },
  {
   "cell_type": "code",
   "execution_count": 59,
   "id": "bee79ef2-5dfb-40a5-a34f-8e7731fa1b05",
   "metadata": {},
   "outputs": [
    {
     "name": "stdout",
     "output_type": "stream",
     "text": [
      "(13748, 50, 61) (13748, 61)\n"
     ]
    }
   ],
   "source": [
    "def encodeio(text,window,step):\n",
    "    num_chars=len(chars)\n",
    "    \n",
    "    input,output=create_datasets(text,window,step)\n",
    "    x=np.zeros((len(input),window,num_chars),dtype=bool)\n",
    "    y=np.zeros((len(input),num_chars),dtype=bool)\n",
    "    for i,sentence in enumerate(input):\n",
    "        for j,char in enumerate(sentence):\n",
    "            x[i,j,char_to_indices[char]]=1\n",
    "        y[i,char_to_indices[output[i]]]=1\n",
    "    return x,y\n",
    "\n",
    "\n",
    "x,y=encodeio(text,window,step)\n",
    "print(x.shape,y.shape)"
   ]
  },
  {
   "cell_type": "code",
   "execution_count": 75,
   "id": "77059c91-6e33-48fd-9422-59788b022016",
   "metadata": {},
   "outputs": [
    {
     "name": "stdout",
     "output_type": "stream",
     "text": [
      "Epoch 1/10\n",
      "28/28 [==============================] - 2s 16ms/step - loss: 3.5475 - accuracy: 0.1632\n",
      "Epoch 2/10\n",
      "28/28 [==============================] - 0s 9ms/step - loss: 3.0544 - accuracy: 0.1841\n",
      "Epoch 3/10\n",
      "28/28 [==============================] - 0s 9ms/step - loss: 3.0215 - accuracy: 0.1849\n",
      "Epoch 4/10\n",
      "28/28 [==============================] - 0s 9ms/step - loss: 2.9990 - accuracy: 0.1845\n",
      "Epoch 5/10\n",
      "28/28 [==============================] - 0s 9ms/step - loss: 2.9616 - accuracy: 0.1871\n",
      "Epoch 6/10\n",
      "28/28 [==============================] - 0s 9ms/step - loss: 2.9124 - accuracy: 0.1960\n",
      "Epoch 7/10\n",
      "28/28 [==============================] - 0s 9ms/step - loss: 2.8498 - accuracy: 0.2202\n",
      "Epoch 8/10\n",
      "28/28 [==============================] - 0s 9ms/step - loss: 2.7709 - accuracy: 0.2367\n",
      "Epoch 9/10\n",
      "28/28 [==============================] - 0s 9ms/step - loss: 2.6983 - accuracy: 0.2583\n",
      "Epoch 10/10\n",
      "28/28 [==============================] - 0s 9ms/step - loss: 2.6300 - accuracy: 0.2795\n"
     ]
    },
    {
     "data": {
      "text/plain": [
       "<keras.callbacks.History at 0x24aed7b33d0>"
      ]
     },
     "execution_count": 75,
     "metadata": {},
     "output_type": "execute_result"
    }
   ],
   "source": [
    "model=Sequential([\n",
    "    keras.layers.LSTM(120,input_shape=(window,len(chars))),\n",
    "    keras.layers.Dropout(0.22),\n",
    "    keras.layers.Dense(len(chars),activation='linear'),\n",
    "    keras.layers.Dense(len(chars),activation='softmax')\n",
    "])\n",
    "xsmall=x[:20000,::]\n",
    "ysmall=y[:20000,:]\n",
    "model.compile(loss='categorical_crossentropy',optimizer='adam',metrics=['accuracy'])\n",
    "model.fit(x,y,epochs=10,batch_size=500)"
   ]
  },
  {
   "cell_type": "code",
   "execution_count": 77,
   "id": "a275dd11-7ae2-4163-a88e-3da9a71be921",
   "metadata": {},
   "outputs": [
    {
     "name": "stdout",
     "output_type": "stream",
     "text": [
      "complete sequence: ng scenic areas as grand canyon and yosemite\n",
      "national parks \n",
      "input sequence: ng scenic areas as grand canyon and yosemite\n",
      "natio\n",
      "output sequence: n  on  or \n"
     ]
    }
   ],
   "source": [
    "def predict_next_chars(model,input_chars,num_to_predict):\n",
    "    pred=''\n",
    "    for i in range(num_to_predict):\n",
    "        x_test=np.zeros((1,window,len(chars)))\n",
    "\n",
    "        for i, char in enumerate(input_chars):\n",
    "            x_test[0,i,char_to_indices[char]]=1\n",
    "        x_predict=model.predict(x_test,verbose=0)[0]\n",
    "        \n",
    "        r=np.argmax(x_predict)\n",
    "        # print(r)\n",
    "        d=indices_to_char[r]\n",
    "        # print(d)\n",
    "        pred+=d\n",
    "        input_chars+=d\n",
    "        input_chars=input_chars[1:]\n",
    "    return pred\n",
    "\n",
    "start=84\n",
    "num_to_predict=10\n",
    "input_chars = text[start:start+window]\n",
    "print('complete sequence:', text[start:start+window+num_to_predict])\n",
    "print('input sequence:', input_chars)\n",
    "print('output sequence:', predict_next_chars(model,input_chars,num_to_predict=num_to_predict))"
   ]
  },
  {
   "cell_type": "code",
   "execution_count": null,
   "id": "2a1c8be4-b4f2-4908-a2ee-50968ea45066",
   "metadata": {},
   "outputs": [],
   "source": []
  },
  {
   "cell_type": "code",
   "execution_count": null,
   "id": "3e05a11e-d6fe-49ea-8994-b0824b486b16",
   "metadata": {},
   "outputs": [],
   "source": []
  }
 ],
 "metadata": {
  "kernelspec": {
   "display_name": "tf",
   "language": "python",
   "name": "tf"
  },
  "language_info": {
   "codemirror_mode": {
    "name": "ipython",
    "version": 3
   },
   "file_extension": ".py",
   "mimetype": "text/x-python",
   "name": "python",
   "nbconvert_exporter": "python",
   "pygments_lexer": "ipython3",
   "version": "3.9.18"
  }
 },
 "nbformat": 4,
 "nbformat_minor": 5
}
