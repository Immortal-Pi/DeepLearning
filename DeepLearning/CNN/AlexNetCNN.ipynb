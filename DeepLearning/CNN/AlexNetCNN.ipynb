{
 "cells": [
  {
   "cell_type": "code",
   "execution_count": 1,
   "id": "2c57fd13-9d90-4013-af5b-d1bc7e9ec5d0",
   "metadata": {},
   "outputs": [],
   "source": [
    "import numpy as np\n",
    "from keras.datasets import mnist\n",
    "import matplotlib.pyplot as plt\n",
    "from keras.models import Sequential\n",
    "from keras.utils import to_categorical\n",
    "from keras.layers import Dense, Dropout, Activation, Flatten\n",
    "from keras.layers import Conv2D, MaxPooling2D\n",
    "from keras.layers import BatchNormalization"
   ]
  },
  {
   "cell_type": "code",
   "execution_count": 2,
   "id": "8bd10d02-495f-42cd-b399-8fd9aeb3efc8",
   "metadata": {},
   "outputs": [
    {
     "data": {
      "text/plain": [
       "((60000, 28, 28), (10000, 28, 28))"
      ]
     },
     "execution_count": 2,
     "metadata": {},
     "output_type": "execute_result"
    }
   ],
   "source": [
    "#load data\n",
    "(xtrain,ytrain),(xtest,ytest)=mnist.load_data()\n",
    "\n",
    "# xtrain=xtrain[:6000,:,:]\n",
    "# xtest=xtest[:2000,:,:]\n",
    "xtrain.shape, xtest.shape\n",
    "# print(xtrain)"
   ]
  },
  {
   "cell_type": "code",
   "execution_count": 3,
   "id": "ad9e9edd-7156-4418-871c-8c28ee2a2987",
   "metadata": {},
   "outputs": [
    {
     "data": {
      "image/png": "[encoded data removed]",
      "text/plain": [
       "<Figure size 640x480 with 1 Axes>"
      ]
     },
     "metadata": {},
     "output_type": "display_data"
    },
    {
     "name": "stdout",
     "output_type": "stream",
     "text": [
      "1\n"
     ]
    }
   ],
   "source": [
    "plt.imshow(xtrain[200])\n",
    "plt.show()\n",
    "print(ytrain[200])\n"
   ]
  },
  {
   "cell_type": "code",
   "execution_count": 4,
   "id": "2831455b-00eb-4e73-bd99-d3f7ccb27651",
   "metadata": {},
   "outputs": [
    {
     "data": {
      "text/plain": [
       "((60000, 28, 28), (10000, 28, 28))"
      ]
     },
     "execution_count": 4,
     "metadata": {},
     "output_type": "execute_result"
    }
   ],
   "source": [
    "# xtrain=xtrain.reshape((-1,28,28,3))\n",
    "# xtest=xtest.reshape((-1,28,28,3))\n",
    "xtrain.shape, xtest.shape"
   ]
  },
  {
   "cell_type": "code",
   "execution_count": 5,
   "id": "debe59d3-48b2-47e4-853f-b5536804f42b",
   "metadata": {},
   "outputs": [],
   "source": [
    "#normalize the data\n",
    "xtrain=xtrain/255.\n",
    "xtest=xtest/255."
   ]
  },
  {
   "cell_type": "code",
   "execution_count": 6,
   "id": "6e63d630-1126-447a-ac6f-7189fe0803eb",
   "metadata": {},
   "outputs": [],
   "source": [
    "model = Sequential([\n",
    "    # 1st convolutional layer \n",
    "    Conv2D(filters=96, input_shape=(28,28,1),kernel_size=(11,11),strides=(4,4),padding='valid',activation='relu'),\n",
    "    MaxPooling2D(pool_size=(2,2),strides=(2,2),padding='valid'),\n",
    "    BatchNormalization(),\n",
    "\n",
    "    # 2nd Convolutional layer\n",
    "    # Conv2D(filters=256,kernel_size=(3,3),strides=(1,1),padding='valid',activation='relu'),\n",
    "    # MaxPooling2D(pool_size=(2,2),strides=(2,2),padding='valid'),\n",
    "    # BatchNormalization(),\n",
    "\n",
    "    # #3d Convolutional layer\n",
    "    # Conv2D(filters=384,kernel_size=(3,3),strides=(1,1),padding='same',activation='relu'),\n",
    "    # # MaxPooling2D(pool_size=(2,2),strides=(2,2),padding='valid'),\n",
    "    # BatchNormalization(),\n",
    "\n",
    "    # #4th convolutional layer\n",
    "    # Conv2D(filters=384,kernel_size=(3,3),strides=(1,1),padding='valid',activation='relu'),\n",
    "    # # MaxPooling2D(pool_size=(2,2),strides=(2,2),padding='valid'),\n",
    "    # BatchNormalization(),\n",
    "\n",
    "    # #5th convolutional layer\n",
    "    # Conv2D(filters=256,kernel_size=(3,3),strides=(1,1),padding='valid',activation='relu'),\n",
    "    # MaxPooling2D(pool_size=(2,2),strides=(2,2),padding='valid'),\n",
    "    # BatchNormalization(),\n",
    "\n",
    "    Flatten(),\n",
    "\n",
    "    #1st Dense layer\n",
    "    Dense(4096, input_shape=(28,28,1), activation='relu'),\n",
    "    Dropout(0.4),\n",
    "    BatchNormalization(),\n",
    "\n",
    "    #2nd Dense layer\n",
    "    Dense(4096, activation='relu'),\n",
    "    Dropout(0.4),\n",
    "    BatchNormalization(),\n",
    "\n",
    "    #output layer\n",
    "    Dense(10, activation='softmax')\n",
    "    \n",
    "])"
   ]
  },
  {
   "cell_type": "code",
   "execution_count": 7,
   "id": "bf99f2c6-62b1-4d7b-97e5-f4a995480a24",
   "metadata": {},
   "outputs": [
    {
     "data": {
      "text/plain": [
       "((60000,), (60000, 28, 28))"
      ]
     },
     "execution_count": 7,
     "metadata": {},
     "output_type": "execute_result"
    }
   ],
   "source": [
    "model.compile(optimizer='Adam',loss='categorical_crossentropy',metrics=['accuracy'])\n",
    "y=to_categorical(ytrain)\n",
    "ytrain.shape, xtrain.shape"
   ]
  },
  {
   "cell_type": "code",
   "execution_count": 8,
   "id": "d8cde358-d885-400e-96a7-d1212c5228b2",
   "metadata": {},
   "outputs": [
    {
     "name": "stdout",
     "output_type": "stream",
     "text": [
      "Epoch 1/10\n",
      "938/938 [==============================] - 19s 7ms/step - loss: 0.2558 - accuracy: 0.9398\n",
      "Epoch 2/10\n",
      "938/938 [==============================] - 6s 7ms/step - loss: 0.1375 - accuracy: 0.9647\n",
      "Epoch 3/10\n",
      "938/938 [==============================] - 6s 7ms/step - loss: 0.1056 - accuracy: 0.9726\n",
      "Epoch 4/10\n",
      "938/938 [==============================] - 6s 7ms/step - loss: 0.0932 - accuracy: 0.9750\n",
      "Epoch 5/10\n",
      "938/938 [==============================] - 6s 7ms/step - loss: 0.0891 - accuracy: 0.9766\n",
      "Epoch 6/10\n",
      "938/938 [==============================] - 6s 7ms/step - loss: 0.0744 - accuracy: 0.9798\n",
      "Epoch 7/10\n",
      "938/938 [==============================] - 6s 7ms/step - loss: 0.0689 - accuracy: 0.9818\n",
      "Epoch 8/10\n",
      "938/938 [==============================] - 6s 7ms/step - loss: 0.0560 - accuracy: 0.9838\n",
      "Epoch 9/10\n",
      "938/938 [==============================] - 6s 7ms/step - loss: 0.0556 - accuracy: 0.9843\n",
      "Epoch 10/10\n",
      "938/938 [==============================] - 6s 7ms/step - loss: 0.0469 - accuracy: 0.9868\n"
     ]
    },
    {
     "data": {
      "text/plain": [
       "<keras.callbacks.History at 0x1a7c5d30c40>"
      ]
     },
     "execution_count": 8,
     "metadata": {},
     "output_type": "execute_result"
    }
   ],
   "source": [
    "model.fit(x=xtrain,y=to_categorical(ytrain),epochs=10,batch_size=64,shuffle=True)"
   ]
  },
  {
   "cell_type": "code",
   "execution_count": 10,
   "id": "fc00de42-f41a-4da2-b4d4-167808c0f5de",
   "metadata": {},
   "outputs": [
    {
     "name": "stdout",
     "output_type": "stream",
     "text": [
      "313/313 [==============================] - 1s 3ms/step - loss: 0.0703 - accuracy: 0.9846\n",
      "[0.07034025341272354, 0.9846000075340271]\n"
     ]
    }
   ],
   "source": [
    "eval = model.evaluate(xtest, to_categorical(ytest))\n",
    "print(eval)"
   ]
  },
  {
   "cell_type": "code",
   "execution_count": 11,
   "id": "8e185df5-abb2-4d23-9b04-06f4e41a8409",
   "metadata": {},
   "outputs": [
    {
     "name": "stdout",
     "output_type": "stream",
     "text": [
      "4/4 [==============================] - 1s 24ms/step\n"
     ]
    },
    {
     "data": {
      "image/png": "[encoded data removed]",
      "text/plain": [
       "<Figure size 640x480 with 1 Axes>"
      ]
     },
     "metadata": {},
     "output_type": "display_data"
    },
    {
     "name": "stdout",
     "output_type": "stream",
     "text": [
      "predictions: 9\n"
     ]
    }
   ],
   "source": [
    "# Predictions\n",
    "predictions = model.predict(xtest[0:100])\n",
    "\n",
    "\n",
    "plt.imshow(xtest[99].reshape(28,28))\n",
    "plt.show()\n",
    "print(f'predictions: {np.argmax(predictions[99])}')"
   ]
  },
  {
   "cell_type": "code",
   "execution_count": 24,
   "id": "c4873863-4252-4e26-8675-7a1ee7bcd368",
   "metadata": {},
   "outputs": [
    {
     "name": "stdout",
     "output_type": "stream",
     "text": [
      "(28, 28, 1) (100, 28, 28)\n"
     ]
    },
    {
     "ename": "InvalidArgumentError",
     "evalue": "Graph execution error:\n\ntranspose expects a vector of size 3. But input(1) is a vector of size 4\n\t [[{{node sequential/conv2d/Conv2D-0-TransposeNHWCToNCHW-LayoutOptimizer}}]] [Op:__inference_predict_function_42296]",
     "output_type": "error",
     "traceback": [
      "\u001b[1;31m---------------------------------------------------------------------------\u001b[0m",
      "\u001b[1;31mInvalidArgumentError\u001b[0m                      Traceback (most recent call last)",
      "Cell \u001b[1;32mIn[24], line 8\u001b[0m\n\u001b[0;32m      6\u001b[0m input_image\u001b[38;5;241m.\u001b[39mreshape(input_image\u001b[38;5;241m.\u001b[39mshape[\u001b[38;5;241m0\u001b[39m],input_image\u001b[38;5;241m.\u001b[39mshape[\u001b[38;5;241m1\u001b[39m])\n\u001b[0;32m      7\u001b[0m \u001b[38;5;28mprint\u001b[39m(input_image\u001b[38;5;241m.\u001b[39mshape, xtest[\u001b[38;5;241m0\u001b[39m:\u001b[38;5;241m100\u001b[39m]\u001b[38;5;241m.\u001b[39mshape)\n\u001b[1;32m----> 8\u001b[0m prediction2\u001b[38;5;241m=\u001b[39m\u001b[43mmodel\u001b[49m\u001b[38;5;241;43m.\u001b[39;49m\u001b[43mpredict\u001b[49m\u001b[43m(\u001b[49m\u001b[43minput_image\u001b[49m\u001b[43m)\u001b[49m\n",
      "File \u001b[1;32mE:\\anaconda3\\envs\\tf\\lib\\site-packages\\keras\\utils\\traceback_utils.py:70\u001b[0m, in \u001b[0;36mfilter_traceback.<locals>.error_handler\u001b[1;34m(*args, **kwargs)\u001b[0m\n\u001b[0;32m     67\u001b[0m     filtered_tb \u001b[38;5;241m=\u001b[39m _process_traceback_frames(e\u001b[38;5;241m.\u001b[39m__traceback__)\n\u001b[0;32m     68\u001b[0m     \u001b[38;5;66;03m# To get the full stack trace, call:\u001b[39;00m\n\u001b[0;32m     69\u001b[0m     \u001b[38;5;66;03m# `tf.debugging.disable_traceback_filtering()`\u001b[39;00m\n\u001b[1;32m---> 70\u001b[0m     \u001b[38;5;28;01mraise\u001b[39;00m e\u001b[38;5;241m.\u001b[39mwith_traceback(filtered_tb) \u001b[38;5;28;01mfrom\u001b[39;00m \u001b[38;5;28;01mNone\u001b[39;00m\n\u001b[0;32m     71\u001b[0m \u001b[38;5;28;01mfinally\u001b[39;00m:\n\u001b[0;32m     72\u001b[0m     \u001b[38;5;28;01mdel\u001b[39;00m filtered_tb\n",
      "File \u001b[1;32mE:\\anaconda3\\envs\\tf\\lib\\site-packages\\tensorflow\\python\\eager\\execute.py:54\u001b[0m, in \u001b[0;36mquick_execute\u001b[1;34m(op_name, num_outputs, inputs, attrs, ctx, name)\u001b[0m\n\u001b[0;32m     52\u001b[0m \u001b[38;5;28;01mtry\u001b[39;00m:\n\u001b[0;32m     53\u001b[0m   ctx\u001b[38;5;241m.\u001b[39mensure_initialized()\n\u001b[1;32m---> 54\u001b[0m   tensors \u001b[38;5;241m=\u001b[39m pywrap_tfe\u001b[38;5;241m.\u001b[39mTFE_Py_Execute(ctx\u001b[38;5;241m.\u001b[39m_handle, device_name, op_name,\n\u001b[0;32m     55\u001b[0m                                       inputs, attrs, num_outputs)\n\u001b[0;32m     56\u001b[0m \u001b[38;5;28;01mexcept\u001b[39;00m core\u001b[38;5;241m.\u001b[39m_NotOkStatusException \u001b[38;5;28;01mas\u001b[39;00m e:\n\u001b[0;32m     57\u001b[0m   \u001b[38;5;28;01mif\u001b[39;00m name \u001b[38;5;129;01mis\u001b[39;00m \u001b[38;5;129;01mnot\u001b[39;00m \u001b[38;5;28;01mNone\u001b[39;00m:\n",
      "\u001b[1;31mInvalidArgumentError\u001b[0m: Graph execution error:\n\ntranspose expects a vector of size 3. But input(1) is a vector of size 4\n\t [[{{node sequential/conv2d/Conv2D-0-TransposeNHWCToNCHW-LayoutOptimizer}}]] [Op:__inference_predict_function_42296]"
     ]
    }
   ],
   "source": [
    "from tensorflow.keras.preprocessing import image \n",
    "img = image.load_img(r\"E:\\python\\python_projects\\deepfaceTensorflow\\data\\numbers\\6.png\",target_size=(28,28),color_mode='grayscale')\n",
    "input_image=image.img_to_array(img)\n",
    "input_image=input_image/255\n",
    "\n",
    "input_image.reshape(input_image.shape[0],input_image.shape[1])\n",
    "print(input_image.shape, xtest[0:100].shape)\n",
    "prediction2=model.predict(input_image)"
   ]
  },
  {
   "cell_type": "code",
   "execution_count": null,
   "id": "4ec40680-f0dd-436e-b5fb-3dff9dc273ae",
   "metadata": {},
   "outputs": [],
   "source": []
  }
 ],
 "metadata": {
  "kernelspec": {
   "display_name": "tf",
   "language": "python",
   "name": "tf"
  },
  "language_info": {
   "codemirror_mode": {
    "name": "ipython",
    "version": 3
   },
   "file_extension": ".py",
   "mimetype": "text/x-python",
   "name": "python",
   "nbconvert_exporter": "python",
   "pygments_lexer": "ipython3",
   "version": "3.9.18"
  }
 },
 "nbformat": 4,
 "nbformat_minor": 5
}
