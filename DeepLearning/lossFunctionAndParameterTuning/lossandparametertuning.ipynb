{
 "cells": [
  {
   "cell_type": "markdown",
   "id": "2f14e931-2014-4160-9149-a13f8ad0bf21",
   "metadata": {},
   "source": [
    "# optimization algorithm using CNN for MNIST \n",
    "- CNN model is compiled using Adagrad optimization\n"
   ]
  },
  {
   "cell_type": "code",
   "execution_count": 40,
   "id": "70edbc98-69c5-4a8f-aa1c-a71c987b37df",
   "metadata": {},
   "outputs": [],
   "source": [
    "from keras.datasets import mnist \n",
    "import tensorflow as tf\n",
    "from tensorflow.keras.models import Sequential\n",
    "from tensorflow.keras.layers import Dense, Flatten\n",
    "from tensorflow.keras.layers import Conv2D, MaxPooling2D\n",
    "from tensorflow.keras.layers import BatchNormalization \n",
    "from sklearn.preprocessing import LabelEncoder\n",
    "from keras.utils.np_utils import to_categorical "
   ]
  },
  {
   "cell_type": "code",
   "execution_count": 41,
   "id": "fb364f23-33d1-4f94-8c14-389e8f01211e",
   "metadata": {},
   "outputs": [
    {
     "data": {
      "text/plain": [
       "((60000, 28, 28), (10000, 28, 28))"
      ]
     },
     "execution_count": 41,
     "metadata": {},
     "output_type": "execute_result"
    }
   ],
   "source": [
    "batch_size=250\n",
    "epochs=5\n",
    "no_classes=10\n",
    "validation_split=0.2\n",
    "verbose=1\n",
    "\n",
    "#load KMNIST dataset\n",
    "(xtrain,ytrain),(xtest,ytest)=mnist.load_data()\n",
    "# print(xtrain)\n",
    "xtrain.shape, xtest.shape\n"
   ]
  },
  {
   "cell_type": "code",
   "execution_count": 42,
   "id": "a50333cc-a37a-43fb-8100-dbefc4ad973f",
   "metadata": {},
   "outputs": [
    {
     "data": {
      "text/plain": [
       "array([[0., 0., 0., ..., 1., 0., 0.],\n",
       "       [0., 0., 1., ..., 0., 0., 0.],\n",
       "       [0., 1., 0., ..., 0., 0., 0.],\n",
       "       ...,\n",
       "       [0., 0., 0., ..., 0., 0., 0.],\n",
       "       [0., 0., 0., ..., 0., 0., 0.],\n",
       "       [0., 0., 0., ..., 0., 0., 0.]], dtype=float32)"
      ]
     },
     "execution_count": 42,
     "metadata": {},
     "output_type": "execute_result"
    }
   ],
   "source": [
    "# convert target variables to multiclass classification\n",
    "ytrain_norm=to_categorical(ytrain)\n",
    "ytrain_norm\n",
    "ytest_norm=to_categorical(ytest)\n",
    "ytest_norm"
   ]
  },
  {
   "cell_type": "code",
   "execution_count": 43,
   "id": "2813fc40-ab5e-49f3-bf59-a73694070d91",
   "metadata": {},
   "outputs": [],
   "source": [
    "#keras input shape\n",
    "input_shape=(xtrain.shape[1],xtrain.shape[2],1)\n",
    "#reshape\n",
    "xtrain=xtrain.reshape(xtrain.shape[0],xtrain.shape[1],xtrain.shape[2],1)\n",
    "xtest=xtest.reshape(xtest.shape[0],xtest.shape[1],xtest.shape[2],1)\n",
    "xtrain=xtrain.astype('float32')\n",
    "xtest=xtest.astype('float32')"
   ]
  },
  {
   "cell_type": "code",
   "execution_count": 44,
   "id": "9e92869f-ada1-48c2-8701-a5ab08f4d71d",
   "metadata": {},
   "outputs": [],
   "source": [
    "#normalize the data\n",
    "xtrain=xtrain/255.\n",
    "xtest=xtest/255.\n"
   ]
  },
  {
   "cell_type": "markdown",
   "id": "79a3945b-b391-4976-a0d2-c55d6a721115",
   "metadata": {},
   "source": [
    "# creating the model"
   ]
  },
  {
   "cell_type": "code",
   "execution_count": 45,
   "id": "7dcfc2d5-c5a1-4638-8f22-0f6fa51d4bae",
   "metadata": {},
   "outputs": [],
   "source": [
    "model=Sequential([\n",
    "    Conv2D(32,kernel_size=(3,3),activation='relu', input_shape=input_shape),\n",
    "    BatchNormalization(),\n",
    "    MaxPooling2D(pool_size=(2,2)),\n",
    "    BatchNormalization(),\n",
    "    Conv2D(64,kernel_size=(3,3),activation='relu'),\n",
    "    BatchNormalization(),\n",
    "    MaxPooling2D(pool_size=(2,2)),\n",
    "    BatchNormalization(),\n",
    "    Flatten(),\n",
    "    Dense(256,activation='relu'),\n",
    "    BatchNormalization(),\n",
    "    Dense(10,activation='softmax')\n",
    "])\n",
    "\n"
   ]
  },
  {
   "cell_type": "code",
   "execution_count": 66,
   "id": "fd30aef0-374c-4986-9556-696e75505e89",
   "metadata": {},
   "outputs": [],
   "source": [
    "# Adagrad optimizer\n",
    "model.compile(loss='categorical_crossentropy',optimizer=tf.optimizers.Adagrad(\n",
    "    learning_rate=0.001,\n",
    "    initial_accumulator_value=0.1,\n",
    "    epsilon=1e-07\n",
    "),metrics=['accuracy'])"
   ]
  },
  {
   "cell_type": "code",
   "execution_count": 51,
   "id": "e90ed021-c235-4f82-8a73-ddbf276a834f",
   "metadata": {},
   "outputs": [],
   "source": [
    "# Adadelta optimizer\n",
    "model.compile(loss='categorical_crossentropy',optimizer=tf.optimizers.Adadelta(\n",
    "    learning_rate=0.001,\n",
    "    rho=0.95,\n",
    "    epsilon=1e-07,\n",
    "    name='Adadelta'\n",
    "))"
   ]
  },
  {
   "cell_type": "code",
   "execution_count": 54,
   "id": "66996e82-c167-4a74-bda6-42c4fdff23de",
   "metadata": {},
   "outputs": [],
   "source": [
    "# Adam-adaptive optimizer\n",
    "model.compile(loss='categorical_crossentropy',optimizer=tf.optimizers.Adam(\n",
    "    learning_rate=0.001), metrics=['accuracy'])"
   ]
  },
  {
   "cell_type": "code",
   "execution_count": 61,
   "id": "397697f9-1a8c-42fe-9a65-4ed2deff3601",
   "metadata": {},
   "outputs": [
    {
     "ename": "ModuleNotFoundError",
     "evalue": "No module named 'keras_adabound'",
     "output_type": "error",
     "traceback": [
      "\u001b[1;31m---------------------------------------------------------------------------\u001b[0m",
      "\u001b[1;31mModuleNotFoundError\u001b[0m                       Traceback (most recent call last)",
      "Cell \u001b[1;32mIn[61], line 2\u001b[0m\n\u001b[0;32m      1\u001b[0m \u001b[38;5;66;03m#adabound optimizer\u001b[39;00m\n\u001b[1;32m----> 2\u001b[0m \u001b[38;5;28;01mfrom\u001b[39;00m \u001b[38;5;21;01mkeras_adabound\u001b[39;00m \u001b[38;5;28;01mimport\u001b[39;00m AdaBound\n\u001b[0;32m      3\u001b[0m model\u001b[38;5;241m.\u001b[39mcompile(loss\u001b[38;5;241m=\u001b[39m\u001b[38;5;124m'\u001b[39m\u001b[38;5;124mcategorical_crossentropy\u001b[39m\u001b[38;5;124m'\u001b[39m,optimizer\u001b[38;5;241m=\u001b[39mAdaBound(\n\u001b[0;32m      4\u001b[0m     lr\u001b[38;5;241m=\u001b[39m\u001b[38;5;241m1e-3\u001b[39m, final_lr\u001b[38;5;241m=\u001b[39m\u001b[38;5;241m0.1\u001b[39m\n\u001b[0;32m      5\u001b[0m ))\n",
      "\u001b[1;31mModuleNotFoundError\u001b[0m: No module named 'keras_adabound'"
     ]
    }
   ],
   "source": [
    "#adabound optimizer\n",
    "from keras_adabound import AdaBound\n",
    "model.compile(loss='categorical_crossentropy',optimizer=AdaBound(\n",
    "    lr=1e-3, final_lr=0.1\n",
    "))"
   ]
  },
  {
   "cell_type": "code",
   "execution_count": 67,
   "id": "3afb0474-5794-4762-bb61-dd6d6ca02e83",
   "metadata": {},
   "outputs": [
    {
     "name": "stdout",
     "output_type": "stream",
     "text": [
      "Epoch 1/5\n",
      "192/192 [==============================] - 2s 8ms/step - loss: 0.0018 - accuracy: 0.9999 - val_loss: 0.0305 - val_accuracy: 0.9916\n",
      "Epoch 2/5\n",
      "192/192 [==============================] - 1s 6ms/step - loss: 0.0017 - accuracy: 0.9999 - val_loss: 0.0305 - val_accuracy: 0.9917\n",
      "Epoch 3/5\n",
      "192/192 [==============================] - 1s 7ms/step - loss: 0.0017 - accuracy: 0.9999 - val_loss: 0.0305 - val_accuracy: 0.9918\n",
      "Epoch 4/5\n",
      "192/192 [==============================] - 1s 6ms/step - loss: 0.0016 - accuracy: 0.9999 - val_loss: 0.0303 - val_accuracy: 0.9918\n",
      "Epoch 5/5\n",
      "192/192 [==============================] - 1s 6ms/step - loss: 0.0016 - accuracy: 0.9999 - val_loss: 0.0303 - val_accuracy: 0.9918\n"
     ]
    }
   ],
   "source": [
    "# fit data to model\n",
    "history = model.fit(xtrain,ytrain_norm,batch_size=250,epochs=5,verbose=1,validation_split=0.2)"
   ]
  },
  {
   "cell_type": "markdown",
   "id": "17b8e865-acc9-4822-b478-3bed5b88a7f2",
   "metadata": {},
   "source": [
    "# generate generalization metrics"
   ]
  },
  {
   "cell_type": "code",
   "execution_count": 56,
   "id": "69742a98-b259-4e54-a4a6-831505d6497f",
   "metadata": {},
   "outputs": [
    {
     "data": {
      "text/plain": [
       "[0.03495953232049942, 0.9898999929428101]"
      ]
     },
     "execution_count": 56,
     "metadata": {},
     "output_type": "execute_result"
    }
   ],
   "source": [
    "score = model.evaluate(xtest,ytest_norm,verbose=0)\n",
    "score\n",
    "# print(f'Test loss using Adagrad: {score[0]} / Test accuracy: {score[1]}')"
   ]
  },
  {
   "cell_type": "code",
   "execution_count": null,
   "id": "0b85f519-0fce-4205-9e28-c720a3a2408d",
   "metadata": {},
   "outputs": [],
   "source": []
  }
 ],
 "metadata": {
  "kernelspec": {
   "display_name": "tf",
   "language": "python",
   "name": "tf"
  },
  "language_info": {
   "codemirror_mode": {
    "name": "ipython",
    "version": 3
   },
   "file_extension": ".py",
   "mimetype": "text/x-python",
   "name": "python",
   "nbconvert_exporter": "python",
   "pygments_lexer": "ipython3",
   "version": "3.9.18"
  }
 },
 "nbformat": 4,
 "nbformat_minor": 5
}
