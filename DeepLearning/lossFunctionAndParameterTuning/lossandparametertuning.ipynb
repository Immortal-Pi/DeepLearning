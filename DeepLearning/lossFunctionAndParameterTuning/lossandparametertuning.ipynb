{
 "cells": [
  {
   "cell_type": "markdown",
   "id": "2f14e931-2014-4160-9149-a13f8ad0bf21",
   "metadata": {},
   "source": [
    "# optimization algorithm using CNN for MNIST \n",
    "- CNN model is compiled using Adagrad optimization\n"
   ]
  },
  {
   "cell_type": "code",
   "execution_count": 73,
   "id": "70edbc98-69c5-4a8f-aa1c-a71c987b37df",
   "metadata": {},
   "outputs": [],
   "source": [
    "from keras.datasets import mnist \n",
    "import tensorflow as tf\n",
    "from tensorflow.keras.models import Sequential\n",
    "from tensorflow.keras.layers import Dense, Flatten\n",
    "from tensorflow.keras.layers import Conv2D, MaxPooling2D\n",
    "from tensorflow.keras.layers import BatchNormalization \n",
    "from sklearn.preprocessing import LabelEncoder\n",
    "from keras.utils.np_utils import to_categorical "
   ]
  },
  {
   "cell_type": "code",
   "execution_count": 74,
   "id": "fb364f23-33d1-4f94-8c14-389e8f01211e",
   "metadata": {},
   "outputs": [
    {
     "data": {
      "text/plain": [
       "((60000, 28, 28), (10000, 28, 28))"
      ]
     },
     "execution_count": 74,
     "metadata": {},
     "output_type": "execute_result"
    }
   ],
   "source": [
    "batch_size=250\n",
    "epochs=5\n",
    "no_classes=10\n",
    "validation_split=0.2\n",
    "verbose=1\n",
    "\n",
    "#load KMNIST dataset\n",
    "(xtrain,ytrain),(xtest,ytest)=mnist.load_data()\n",
    "# print(xtrain)\n",
    "xtrain.shape, xtest.shape\n"
   ]
  },
  {
   "cell_type": "code",
   "execution_count": 75,
   "id": "a50333cc-a37a-43fb-8100-dbefc4ad973f",
   "metadata": {},
   "outputs": [
    {
     "data": {
      "text/plain": [
       "array([[0., 0., 0., ..., 1., 0., 0.],\n",
       "       [0., 0., 1., ..., 0., 0., 0.],\n",
       "       [0., 1., 0., ..., 0., 0., 0.],\n",
       "       ...,\n",
       "       [0., 0., 0., ..., 0., 0., 0.],\n",
       "       [0., 0., 0., ..., 0., 0., 0.],\n",
       "       [0., 0., 0., ..., 0., 0., 0.]], dtype=float32)"
      ]
     },
     "execution_count": 75,
     "metadata": {},
     "output_type": "execute_result"
    }
   ],
   "source": [
    "# convert target variables to multiclass classification\n",
    "ytrain_norm=to_categorical(ytrain)\n",
    "ytrain_norm\n",
    "ytest_norm=to_categorical(ytest)\n",
    "ytest_norm"
   ]
  },
  {
   "cell_type": "code",
   "execution_count": 76,
   "id": "2813fc40-ab5e-49f3-bf59-a73694070d91",
   "metadata": {},
   "outputs": [],
   "source": [
    "#keras input shape\n",
    "input_shape=(xtrain.shape[1],xtrain.shape[2],1)\n",
    "#reshape\n",
    "xtrain=xtrain.reshape(xtrain.shape[0],xtrain.shape[1],xtrain.shape[2],1)\n",
    "xtest=xtest.reshape(xtest.shape[0],xtest.shape[1],xtest.shape[2],1)\n",
    "xtrain=xtrain.astype('float32')\n",
    "xtest=xtest.astype('float32')"
   ]
  },
  {
   "cell_type": "code",
   "execution_count": 77,
   "id": "9e92869f-ada1-48c2-8701-a5ab08f4d71d",
   "metadata": {},
   "outputs": [],
   "source": [
    "#normalize the data\n",
    "xtrain=xtrain/255.\n",
    "xtest=xtest/255.\n"
   ]
  },
  {
   "cell_type": "markdown",
   "id": "79a3945b-b391-4976-a0d2-c55d6a721115",
   "metadata": {},
   "source": [
    "# creating the model"
   ]
  },
  {
   "cell_type": "code",
   "execution_count": 78,
   "id": "7dcfc2d5-c5a1-4638-8f22-0f6fa51d4bae",
   "metadata": {},
   "outputs": [],
   "source": [
    "model=Sequential([\n",
    "    Conv2D(32,kernel_size=(3,3),activation='relu', input_shape=input_shape),\n",
    "    BatchNormalization(),\n",
    "    MaxPooling2D(pool_size=(2,2)),\n",
    "    BatchNormalization(),\n",
    "    Conv2D(64,kernel_size=(3,3),activation='relu'),\n",
    "    BatchNormalization(),\n",
    "    MaxPooling2D(pool_size=(2,2)),\n",
    "    BatchNormalization(),\n",
    "    Flatten(),\n",
    "    Dense(256,activation='relu'),\n",
    "    BatchNormalization(),\n",
    "    Dense(10,activation='softmax')\n",
    "])\n",
    "\n"
   ]
  },
  {
   "cell_type": "code",
   "execution_count": 80,
   "id": "fd30aef0-374c-4986-9556-696e75505e89",
   "metadata": {},
   "outputs": [],
   "source": [
    "# Adagrad optimizer\n",
    "model.compile(loss='categorical_crossentropy',optimizer=tf.optimizers.Adagrad(\n",
    "    learning_rate=0.001,\n",
    "    initial_accumulator_value=0.1,\n",
    "    epsilon=1e-07\n",
    "),metrics=['accuracy'])"
   ]
  },
  {
   "cell_type": "code",
   "execution_count": 97,
   "id": "e90ed021-c235-4f82-8a73-ddbf276a834f",
   "metadata": {},
   "outputs": [],
   "source": [
    "# Adadelta optimizer\n",
    "model.compile(loss='categorical_crossentropy',optimizer=tf.optimizers.Adadelta(\n",
    "    learning_rate=0.001,\n",
    "    rho=0.95,\n",
    "    epsilon=1e-07,\n",
    "    name='Adadelta'\n",
    "),metrics=['accuracy'])"
   ]
  },
  {
   "cell_type": "code",
   "execution_count": 87,
   "id": "66996e82-c167-4a74-bda6-42c4fdff23de",
   "metadata": {},
   "outputs": [],
   "source": [
    "# Adam-adaptive optimizer\n",
    "model.compile(loss='categorical_crossentropy',optimizer=tf.optimizers.Adam(\n",
    "    learning_rate=0.001), metrics=['accuracy'])"
   ]
  },
  {
   "cell_type": "code",
   "execution_count": 99,
   "id": "397697f9-1a8c-42fe-9a65-4ed2deff3601",
   "metadata": {},
   "outputs": [],
   "source": [
    "#adabound optimizer\n",
    "from torch_optimizer import AdaBound\n",
    "model.compile(loss='categorical_crossentropy',optimizer=AdaBound(\n",
    "   lr=1e-3, final_lr=0.1\n",
    "))"
   ]
  },
  {
   "cell_type": "code",
   "execution_count": 98,
   "id": "3afb0474-5794-4762-bb61-dd6d6ca02e83",
   "metadata": {},
   "outputs": [
    {
     "name": "stdout",
     "output_type": "stream",
     "text": [
      "Epoch 1/5\n",
      "192/192 [==============================] - 2s 9ms/step - loss: 0.0043 - accuracy: 0.9988 - val_loss: 0.0349 - val_accuracy: 0.9899\n",
      "Epoch 2/5\n",
      "192/192 [==============================] - 1s 6ms/step - loss: 0.0041 - accuracy: 0.9990 - val_loss: 0.0347 - val_accuracy: 0.9899\n",
      "Epoch 3/5\n",
      "192/192 [==============================] - 1s 7ms/step - loss: 0.0039 - accuracy: 0.9991 - val_loss: 0.0345 - val_accuracy: 0.9901\n",
      "Epoch 4/5\n",
      "192/192 [==============================] - 1s 6ms/step - loss: 0.0038 - accuracy: 0.9992 - val_loss: 0.0344 - val_accuracy: 0.9900\n",
      "Epoch 5/5\n",
      "192/192 [==============================] - 1s 6ms/step - loss: 0.0037 - accuracy: 0.9993 - val_loss: 0.0342 - val_accuracy: 0.9900\n"
     ]
    }
   ],
   "source": [
    "# fit data to model\n",
    "history = model.fit(xtrain,ytrain_norm,batch_size=250,epochs=5,verbose=1,validation_split=0.2)"
   ]
  },
  {
   "cell_type": "markdown",
   "id": "17b8e865-acc9-4822-b478-3bed5b88a7f2",
   "metadata": {},
   "source": [
    "# generate generalization metrics"
   ]
  },
  {
   "cell_type": "code",
   "execution_count": 82,
   "id": "69742a98-b259-4e54-a4a6-831505d6497f",
   "metadata": {},
   "outputs": [
    {
     "data": {
      "text/plain": [
       "[0.1225113645195961, 0.9660000205039978]"
      ]
     },
     "execution_count": 82,
     "metadata": {},
     "output_type": "execute_result"
    }
   ],
   "source": [
    "score = model.evaluate(xtest,ytest_norm,verbose=0)\n",
    "score\n",
    "# print(f'Test loss using Adagrad: {score[0]} / Test accuracy: {score[1]}')"
   ]
  },
  {
   "cell_type": "markdown",
   "id": "98afd13d-c3df-4e26-8653-b96f499fb258",
   "metadata": {},
   "source": [
    "# study the performance of the optimizer with respect to cross entropy loss function. a graph was plotted"
   ]
  },
  {
   "cell_type": "code",
   "execution_count": 100,
   "id": "0c7b3e7c-460c-4694-adc4-13a72a015368",
   "metadata": {},
   "outputs": [],
   "source": [
    "import matplotlib.pyplot as plt\n",
    "x=[1,2,3,4,5]\n",
    "\n",
    "loss1=[0.6856,0.2555,0.1913,0.1586,0.1384]\n",
    "accuracy1=[0.7947,0.9301,0.9481,0.9571,0.9626]\n",
    "loss2=[0.0043,0.0041,0.0039,0.0038,0.0037]\n",
    "accuracy2=[0.9988,0.9990,0.9991,0.9992,0.9993]\n",
    "loss3=[0.0665,0.0233,0.0120,0.0057,0.0043]\n",
    "accuracy3=[0.9799,0.9926,0.9966,0.9986,0.9989]\n",
    "loss4=[0.1139,0.0281,0.0153,0.009,0.006]\n",
    "accuracy4=[0.9646,0.992,0.9963,0.9984,0.992]"
   ]
  },
  {
   "cell_type": "code",
   "execution_count": 101,
   "id": "f4def009-62dd-48da-9c8a-cd8e976a0181",
   "metadata": {},
   "outputs": [
    {
     "data": {
      "image/png": "[encoded data removed]",
      "text/plain": [
       "<Figure size 640x850 with 4 Axes>"
      ]
     },
     "metadata": {},
     "output_type": "display_data"
    }
   ],
   "source": [
    "fig, axs = plt.subplots(nrows=2,ncols=2,figsize=(6.4,8.5))\n",
    "\n",
    "#adgrad\n",
    "axs[0,0].plot(x,loss1,label='loss')\n",
    "axs[0,0].plot(x,accuracy1,label='accuracy')\n",
    "axs[0,0].legend()\n",
    "axs[0,0].grid()\n",
    "axs[0,0].set(title='Adagrad')\n",
    "#adadelta\n",
    "axs[0,1].plot(x,loss2,label='loss')\n",
    "axs[0,1].plot(x,accuracy2,label='accuracy')\n",
    "axs[0,1].legend()\n",
    "axs[0,1].grid()\n",
    "axs[0,1].set(title='Adadelta')\n",
    "#adam\n",
    "axs[1,0].plot(x,loss3,label='loss')\n",
    "axs[1,0].plot(x,accuracy3,label='accuracy')\n",
    "axs[1,0].legend()\n",
    "axs[1,0].grid()\n",
    "axs[1,0].set(title='Adam')\n",
    "#adabound\n",
    "axs[1,1].plot(x,loss4,label='loss')\n",
    "axs[1,1].plot(x,accuracy4,label='accuracy')\n",
    "axs[1,1].legend()\n",
    "axs[1,1].grid()\n",
    "axs[1,1].set(title='Adabound')\n",
    "\n",
    "fig.tight_layout()\n",
    "plt.show()"
   ]
  },
  {
   "cell_type": "code",
   "execution_count": null,
   "id": "6955e728-0c9d-43b0-b8da-23b970381cd4",
   "metadata": {},
   "outputs": [],
   "source": []
  }
 ],
 "metadata": {
  "kernelspec": {
   "display_name": "tf",
   "language": "python",
   "name": "tf"
  },
  "language_info": {
   "codemirror_mode": {
    "name": "ipython",
    "version": 3
   },
   "file_extension": ".py",
   "mimetype": "text/x-python",
   "name": "python",
   "nbconvert_exporter": "python",
   "pygments_lexer": "ipython3",
   "version": "3.9.18"
  }
 },
 "nbformat": 4,
 "nbformat_minor": 5
}
