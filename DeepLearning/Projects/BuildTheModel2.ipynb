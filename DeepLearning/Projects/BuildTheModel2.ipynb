{
 "cells": [
  {
   "cell_type": "markdown",
   "id": "53b640aa-9de3-4c59-8ed3-d443c6177de2",
   "metadata": {},
   "source": [
    "# model building using CNN"
   ]
  },
  {
   "cell_type": "markdown",
   "id": "774bbf9f-fb97-4f34-a728-079e8586e717",
   "metadata": {},
   "source": [
    "# step 1 import necessary libraries "
   ]
  },
  {
   "cell_type": "code",
   "execution_count": 90,
   "id": "970cd84d-f745-41ad-be7e-f63db6064bab",
   "metadata": {},
   "outputs": [],
   "source": [
    "import numpy as np\n",
    "import pandas as pd\n",
    "import matplotlib.pyplot as plt\n",
    "import cv2\n",
    "import tensorflow as tf\n",
    "from PIL import Image\n",
    "import os\n",
    "from sklearn.model_selection import train_test_split\n",
    "from keras.utils import to_categorical\n",
    "from keras.models import Sequential, load_model\n",
    "from keras.layers import Conv2D, MaxPool2D, Dense, Flatten, Dropout\n",
    "from sklearn.metrics import accuracy_score"
   ]
  },
  {
   "cell_type": "markdown",
   "id": "de3b35cd-43fb-4239-8bc1-644dc81aa685",
   "metadata": {},
   "source": [
    "# step 2 extract the path for training, testing and label images "
   ]
  },
  {
   "cell_type": "code",
   "execution_count": 106,
   "id": "c3e87225-cf0e-4313-a3df-8760169b252d",
   "metadata": {},
   "outputs": [],
   "source": [
    "data=[]\n",
    "labels=[]\n",
    "no_classes=43\n",
    "dir=os.getcwd()\n",
    "\n",
    "for i in range(no_classes):\n",
    "    path=os.path.join(dir+'\\datasets\\\\Train',str(i))\n",
    "    images=os.listdir(path)\n",
    "    # print(path)\n",
    "    # print(images)\n",
    "    for a in images:\n",
    "        try:  \n",
    "            # print(path+'\\\\'+a)\n",
    "            image=Image.open(path+'\\\\'+a)\n",
    "            image=image.resize((30,30))\n",
    "            image=np.array(image)\n",
    "            data.append(image)\n",
    "            labels.append(i)\n",
    "        except:\n",
    "            print('error loading image')\n",
    "  "
   ]
  },
  {
   "cell_type": "markdown",
   "id": "99985e7a-587d-4631-b4f1-5d7b989f5aed",
   "metadata": {},
   "source": [
    "# step 3: read the images and convert to numpy arrays "
   ]
  },
  {
   "cell_type": "code",
   "execution_count": 108,
   "id": "f3d2e442-9053-4853-adec-20434dad3e4b",
   "metadata": {},
   "outputs": [
    {
     "name": "stdout",
     "output_type": "stream",
     "text": [
      "[ 0  0  0 ... 42 42 42]\n"
     ]
    },
    {
     "data": {
      "text/plain": [
       "((39209, 30, 30, 3), (39209,))"
      ]
     },
     "execution_count": 108,
     "metadata": {},
     "output_type": "execute_result"
    }
   ],
   "source": [
    "data=np.array(data)\n",
    "labels=np.array(labels)\n",
    "print(labels)\n",
    "data.shape, labels.shape"
   ]
  },
  {
   "cell_type": "markdown",
   "id": "2ea49640-52da-4d07-87fb-fa32a16d231f",
   "metadata": {},
   "source": [
    "# step 4: split the training set"
   ]
  },
  {
   "cell_type": "code",
   "execution_count": 109,
   "id": "d4333741-b735-426c-ac75-d154e9393291",
   "metadata": {},
   "outputs": [
    {
     "data": {
      "text/plain": [
       "((31367, 30, 30, 3), (31367,), (7842, 30, 30, 3), (7842,))"
      ]
     },
     "execution_count": 109,
     "metadata": {},
     "output_type": "execute_result"
    }
   ],
   "source": [
    "xtrain,xtest,ytrain,ytest=train_test_split(data,labels,test_size=0.2,random_state=42)\n",
    "xtrain.shape, ytrain.shape, xtest.shape, ytest.shape"
   ]
  },
  {
   "cell_type": "markdown",
   "id": "b1a88e87-76b9-4b0a-ae29-35f8045658bb",
   "metadata": {},
   "source": [
    "# step 5: convert the label using one hot encoding "
   ]
  },
  {
   "cell_type": "code",
   "execution_count": 110,
   "id": "0b86ee27-209e-43a3-a389-c6672c82e56a",
   "metadata": {},
   "outputs": [
    {
     "data": {
      "text/plain": [
       "((31367, 43), (7842, 43))"
      ]
     },
     "execution_count": 110,
     "metadata": {},
     "output_type": "execute_result"
    }
   ],
   "source": [
    "ytrain=to_categorical(ytrain,43)\n",
    "ytest=to_categorical(ytest,43)\n",
    "ytrain.shape, ytest.shape"
   ]
  },
  {
   "cell_type": "markdown",
   "id": "abb7e965-8bba-44ec-a92e-19c0059ef14e",
   "metadata": {},
   "source": [
    "# step 6: build the CNN model"
   ]
  },
  {
   "cell_type": "code",
   "execution_count": 111,
   "id": "9c241c0e-427a-4efd-abb7-2b225f381983",
   "metadata": {},
   "outputs": [],
   "source": [
    "model=Sequential([\n",
    "    Conv2D(filters=32,kernel_size=(5,5),activation='relu',input_shape=((30,30,3))),\n",
    "    Conv2D(filters=32,kernel_size=(5,5),activation='relu'),\n",
    "    MaxPool2D(pool_size=(2,2)),\n",
    "    Dropout(0.25),\n",
    "\n",
    "    Conv2D(filters=64,kernel_size=(3,3),activation='relu'),\n",
    "    Conv2D(filters=64,kernel_size=(3,3),activation='relu'),\n",
    "    MaxPool2D(pool_size=(2,2)),\n",
    "    Dropout(0.25),\n",
    "\n",
    "    Flatten(),\n",
    "    Dense(256,activation='relu'),\n",
    "    Dropout(0.5),\n",
    "    Dense(43,activation='softmax'),\n",
    "    \n",
    "])"
   ]
  },
  {
   "cell_type": "markdown",
   "id": "6e36b90b-f3c1-4721-acaa-623a54c67620",
   "metadata": {},
   "source": [
    "# step 7 compile the model"
   ]
  },
  {
   "cell_type": "code",
   "execution_count": 112,
   "id": "3aa6763e-43c5-4b43-a194-8097c53d1013",
   "metadata": {},
   "outputs": [
    {
     "name": "stdout",
     "output_type": "stream",
     "text": [
      "Epoch 1/15\n",
      "981/981 [==============================] - 6s 5ms/step - loss: 1.8429 - accuracy: 0.5241 - val_loss: 0.4290 - val_accuracy: 0.8940\n",
      "Epoch 2/15\n",
      "981/981 [==============================] - 5s 5ms/step - loss: 0.6158 - accuracy: 0.8211 - val_loss: 0.1818 - val_accuracy: 0.9487\n",
      "Epoch 3/15\n",
      "981/981 [==============================] - 5s 5ms/step - loss: 0.4392 - accuracy: 0.8724 - val_loss: 0.1601 - val_accuracy: 0.9489\n",
      "Epoch 4/15\n",
      "981/981 [==============================] - 5s 5ms/step - loss: 0.3269 - accuracy: 0.9050 - val_loss: 0.1238 - val_accuracy: 0.9642\n",
      "Epoch 5/15\n",
      "981/981 [==============================] - 5s 5ms/step - loss: 0.3008 - accuracy: 0.9153 - val_loss: 0.1260 - val_accuracy: 0.9629\n",
      "Epoch 6/15\n",
      "981/981 [==============================] - 5s 5ms/step - loss: 0.2760 - accuracy: 0.9230 - val_loss: 0.0644 - val_accuracy: 0.9827\n",
      "Epoch 7/15\n",
      "981/981 [==============================] - 5s 5ms/step - loss: 0.2481 - accuracy: 0.9308 - val_loss: 0.1238 - val_accuracy: 0.9615\n",
      "Epoch 8/15\n",
      "981/981 [==============================] - 5s 5ms/step - loss: 0.2444 - accuracy: 0.9336 - val_loss: 0.0650 - val_accuracy: 0.9816\n",
      "Epoch 9/15\n",
      "981/981 [==============================] - 5s 5ms/step - loss: 0.2311 - accuracy: 0.9369 - val_loss: 0.0549 - val_accuracy: 0.9865\n",
      "Epoch 10/15\n",
      "981/981 [==============================] - 5s 5ms/step - loss: 0.2173 - accuracy: 0.9400 - val_loss: 0.0534 - val_accuracy: 0.9856\n",
      "Epoch 11/15\n",
      "981/981 [==============================] - 5s 5ms/step - loss: 0.2467 - accuracy: 0.9362 - val_loss: 0.1196 - val_accuracy: 0.9670\n",
      "Epoch 12/15\n",
      "981/981 [==============================] - 5s 5ms/step - loss: 0.2174 - accuracy: 0.9436 - val_loss: 0.2288 - val_accuracy: 0.9301\n",
      "Epoch 13/15\n",
      "981/981 [==============================] - 5s 5ms/step - loss: 0.2205 - accuracy: 0.9425 - val_loss: 0.0916 - val_accuracy: 0.9779\n",
      "Epoch 14/15\n",
      "981/981 [==============================] - 5s 5ms/step - loss: 0.2454 - accuracy: 0.9373 - val_loss: 0.0605 - val_accuracy: 0.9851\n",
      "Epoch 15/15\n",
      "981/981 [==============================] - 5s 5ms/step - loss: 0.2207 - accuracy: 0.9435 - val_loss: 0.0513 - val_accuracy: 0.9872\n"
     ]
    }
   ],
   "source": [
    "model.compile(loss='categorical_crossentropy',optimizer='adam',metrics=['accuracy'])\n",
    "history=model.fit(xtrain,ytrain,epochs=15,validation_data=(xtest,ytest))\n",
    "model.save('train_data.h5')"
   ]
  },
  {
   "cell_type": "markdown",
   "id": "ed40ce87-226a-49be-afbb-1f06cbc6a868",
   "metadata": {},
   "source": [
    "# step 8: train and validate the model (hyper papameter tuning )"
   ]
  },
  {
   "cell_type": "code",
   "execution_count": null,
   "id": "e5be9ab4-a541-4a91-ad1f-b9a4d7ca10ea",
   "metadata": {},
   "outputs": [],
   "source": []
  },
  {
   "cell_type": "markdown",
   "id": "7655dcd0-b8e4-4976-8847-101f61545155",
   "metadata": {},
   "source": [
    "# step 9: plot the accuracy and loss"
   ]
  },
  {
   "cell_type": "code",
   "execution_count": 113,
   "id": "e5210aa2-76e2-4992-b198-a01e74041086",
   "metadata": {},
   "outputs": [
    {
     "data": {
      "image/png": "[encoded data removed]",
      "text/plain": [
       "<Figure size 640x480 with 1 Axes>"
      ]
     },
     "metadata": {},
     "output_type": "display_data"
    },
    {
     "data": {
      "image/png": "[encoded data removed]",
      "text/plain": [
       "<Figure size 640x480 with 1 Axes>"
      ]
     },
     "metadata": {},
     "output_type": "display_data"
    }
   ],
   "source": [
    "plt.plot(history.history['accuracy'],label='train accuracy')\n",
    "plt.plot(history.history['val_accuracy'],label='val accuracy')\n",
    "plt.xlabel('epochs')\n",
    "plt.ylabel('accuracy')\n",
    "plt.legend()\n",
    "plt.show()\n",
    "\n",
    "plt.plot(history.history['loss'],label='train loss')\n",
    "plt.plot(history.history['val_loss'],label='val loss')\n",
    "plt.legend()\n",
    "plt.show()"
   ]
  },
  {
   "cell_type": "markdown",
   "id": "4e1d5b72-9226-40c6-9a48-fa4b6eb63aaf",
   "metadata": {},
   "source": [
    "# step 10: load the test data along with labels"
   ]
  },
  {
   "cell_type": "code",
   "execution_count": 114,
   "id": "471c74d1-5404-4572-a2fb-215a2fe6c5bf",
   "metadata": {},
   "outputs": [
    {
     "data": {
      "text/plain": [
       "(12630, 30, 30, 3)"
      ]
     },
     "execution_count": 114,
     "metadata": {},
     "output_type": "execute_result"
    }
   ],
   "source": [
    "dir=os.getcwd()\n",
    "path=os.path.join(dir,'datasets\\\\Test')\n",
    "images=os.listdir(path)\n",
    "# print(images)\n",
    "test_images=[]\n",
    "\n",
    "for i in images:\n",
    "    # print(i)\n",
    "    image=Image.open(path+'\\\\'+i)\n",
    "    image=image.resize((30,30))\n",
    "    image=np.array(image)\n",
    "    test_images.append(image)\n",
    "test_images\n",
    "test_images=np.array(test_images)\n",
    "test_images.shape"
   ]
  },
  {
   "cell_type": "markdown",
   "id": "04a9fdc9-9730-41fb-9133-4f6733e4546e",
   "metadata": {},
   "source": [
    "# step 11 predict the class"
   ]
  },
  {
   "cell_type": "code",
   "execution_count": 117,
   "id": "8d51608c-9519-461c-94a0-7c4d74b3479b",
   "metadata": {},
   "outputs": [
    {
     "name": "stdout",
     "output_type": "stream",
     "text": [
      "395/395 [==============================] - 1s 2ms/step\n",
      "accuracy of Test results:0.94972288202692\n",
      "1226/1226 [==============================] - 3s 2ms/step\n",
      "accuracy of Train results:0.9899512866943814\n"
     ]
    }
   ],
   "source": [
    "pred=model.predict(test_images)\n",
    "\n",
    "pred_classes=[]\n",
    "for i in range(pred.shape[0]):\n",
    "    pred_classes.append(np.argmax(pred[i]))\n",
    "pred_classes=np.array(pred_classes)\n",
    "labels1=pd.read_csv('datasets/Test.csv')\n",
    "labels1=labels1['ClassId'].values\n",
    "labels1=np.array(labels1)\n",
    "\n",
    "print(f'accuracy of Test results:{accuracy_score(labels1,pred_classes)}')\n",
    "\n",
    "pred2=model.predict(np.array(data))\n",
    "\n",
    "pred_classes2=[]\n",
    "for i in range(pred2.shape[0]):\n",
    "    pred_classes2.append(np.argmax(pred2[i]))\n",
    "pred_classes2=np.array(pred_classes2)\n",
    "# print(pred_classes2.shape,data.shape)\n",
    "labels.shape, pred_classes2.shape\n",
    "print(f'accuracy of Train results:{accuracy_score(labels,pred_classes2)}')"
   ]
  },
  {
   "cell_type": "code",
   "execution_count": null,
   "id": "907d57a1-7421-498f-a7af-11fff6fde606",
   "metadata": {},
   "outputs": [],
   "source": []
  }
 ],
 "metadata": {
  "kernelspec": {
   "display_name": "tf",
   "language": "python",
   "name": "tf"
  },
  "language_info": {
   "codemirror_mode": {
    "name": "ipython",
    "version": 3
   },
   "file_extension": ".py",
   "mimetype": "text/x-python",
   "name": "python",
   "nbconvert_exporter": "python",
   "pygments_lexer": "ipython3",
   "version": "3.9.18"
  }
 },
 "nbformat": 4,
 "nbformat_minor": 5
}
