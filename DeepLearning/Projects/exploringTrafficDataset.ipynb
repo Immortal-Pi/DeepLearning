{
 "cells": [
  {
   "cell_type": "markdown",
   "id": "a929501f-89b4-4f5c-aed6-026ba3130bf9",
   "metadata": {},
   "source": [
    "# problem statement: Traffic-sign recognition \n",
    "- collection of traffic signal taken under different scene - input\n",
    "- seperate set of images for testing\n",
    "- classify the signs "
   ]
  },
  {
   "cell_type": "code",
   "execution_count": 4,
   "id": "9cfe74a4-c022-4282-baf4-92a496f06f20",
   "metadata": {},
   "outputs": [],
   "source": [
    "# import libraries \n",
    "import numpy as np\n",
    "import pandas as pd\n",
    "import matplotlib.pyplot as plt\n",
    "# import seaborn as sns \n",
    "import cv2\n",
    "import tensorflow as tf\n",
    "from PIL import Image \n",
    "import os\n",
    "from sklearn.model_selection import train_test_split\n",
    "from keras.utils import to_categorical\n",
    "from keras.models import Sequential, load_model\n",
    "from keras.layers import Conv2D, MaxPool2D, Dense, Flatten, Dropout"
   ]
  },
  {
   "cell_type": "code",
   "execution_count": null,
   "id": "b98ebfbf-a327-4bc3-89aa-3417fb171474",
   "metadata": {},
   "outputs": [],
   "source": []
  }
 ],
 "metadata": {
  "kernelspec": {
   "display_name": "tf",
   "language": "python",
   "name": "tf"
  },
  "language_info": {
   "codemirror_mode": {
    "name": "ipython",
    "version": 3
   },
   "file_extension": ".py",
   "mimetype": "text/x-python",
   "name": "python",
   "nbconvert_exporter": "python",
   "pygments_lexer": "ipython3",
   "version": "3.9.18"
  }
 },
 "nbformat": 4,
 "nbformat_minor": 5
}
