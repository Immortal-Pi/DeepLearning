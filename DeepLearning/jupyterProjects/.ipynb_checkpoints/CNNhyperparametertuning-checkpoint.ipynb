{
 "cells": [
  {
   "cell_type": "markdown",
   "id": "e60a8aef",
   "metadata": {},
   "source": [
    "# CNN hyperparameter tuning \n",
    "- stride 1 filter 3x3\n",
    "- stride 2 filter 3x3\n",
    "- stride 3 filter 3x3\n",
    "- stride 1 filter 2x2\n",
    "- stride 1 filter 4x4"
   ]
  },
  {
   "cell_type": "code",
   "execution_count": 2,
   "id": "c13c0a61",
   "metadata": {},
   "outputs": [],
   "source": [
    "#get data\n",
    "#show random picture\n",
    "#split the data test and train\n",
    "#take the image data and normalize the data\n",
    "#label encode\n",
    "#define CNN\n",
    "#prediction and actual accuracy\n",
    "#Confusion matrix visulization\n",
    "\n",
    "import warnings\n",
    "import numpy as np\n",
    "import tensorflow as tf\n",
    "import pandas as pd\n",
    "import os\n",
    "from PIL import Image\n",
    "import imageio.v2 as imageio\n",
    "import matplotlib.pyplot as plt\n",
    "from sklearn.metrics import confusion_matrix\n",
    "from sklearn.model_selection import train_test_split\n",
    "from sklearn.preprocessing import LabelEncoder\n",
    "import keras.layers\n",
    "from keras.utils.np_utils import to_categorical\n",
    "from keras import Sequential\n",
    "from keras.regularizers import L2\n",
    "#get data\n",
    "label_data=pd.read_csv('E:\\python\\python_projects\\deepfaceTensorflow\\DeepLearning\\CNN\\datasets\\cifar10Labels.csv',index_col=0)\n",
    "import keras.callbacks\n",
    "# from warnings\n",
    "from mlxtend.evaluate import confusion_matrix,scoring\n",
    "from mlxtend.plotting import plot_confusion_matrix\n",
    "from skimage.transform import resize\n",
    "from  vis.visualization import visualize_cam,visualize_saliency,overlay\n",
    "from vis.utils import utils"
   ]
  },
  {
   "cell_type": "code",
   "execution_count": 3,
   "id": "03e020df",
   "metadata": {},
   "outputs": [
    {
     "name": "stdout",
     "output_type": "stream",
     "text": [
      "            label\n",
      "id               \n",
      "1            frog\n",
      "2           truck\n",
      "3           truck\n",
      "4            deer\n",
      "5      automobile\n",
      "...           ...\n",
      "49996        bird\n",
      "49997        frog\n",
      "49998       truck\n",
      "49999  automobile\n",
      "50000  automobile\n",
      "\n",
      "[50000 rows x 1 columns]\n"
     ]
    }
   ],
   "source": [
    "print(label_data)"
   ]
  },
  {
   "cell_type": "code",
   "execution_count": 34,
   "id": "198525e8",
   "metadata": {},
   "outputs": [
    {
     "name": "stdout",
     "output_type": "stream",
     "text": [
      "(40000,) (10000,)\n"
     ]
    }
   ],
   "source": [
    "\n",
    "ytrain,ytest=train_test_split(label_data['label'],test_size=0.2,random_state=42)\n",
    "print(ytrain.shape,ytest.shape)"
   ]
  },
  {
   "cell_type": "code",
   "execution_count": 20,
   "id": "d9b7dcb8",
   "metadata": {},
   "outputs": [
    {
     "name": "stdout",
     "output_type": "stream",
     "text": [
      "(40000, 32, 32, 3)\n",
      "(10000, 32, 32, 3)\n"
     ]
    }
   ],
   "source": [
    "temp=[]\n",
    "\n",
    "for i in ytrain.index:\n",
    "    img_path=os.path.join('E:\\python\\python_projects\\deepfaceTensorflow\\DeepLearning\\CNN\\datasets\\cifar10',f'{i}.png')\n",
    "    img=np.array(imageio.imread(img_path)).astype('float32')\n",
    "    temp.append(img)\n",
    "\n",
    "xtrain=np.stack(temp)\n",
    "print(xtrain.shape)\n",
    "temp=[]\n",
    "for i in ytest.index:\n",
    "    img_path=os.path.join('E:\\python\\python_projects\\deepfaceTensorflow\\DeepLearning\\CNN\\datasets\\cifar10',f'{i}.png')\n",
    "    img=np.array(imageio.imread(img_path)).astype('float32')\n",
    "    temp.append(img)\n",
    "xtest=np.stack(temp)\n",
    "print(xtest.shape)\n",
    "\n",
    "\n",
    "xtrain=xtrain/255.\n",
    "xtest=xtest/255."
   ]
  },
  {
   "cell_type": "code",
   "execution_count": 35,
   "id": "8b44446a",
   "metadata": {},
   "outputs": [
    {
     "name": "stdout",
     "output_type": "stream",
     "text": [
      "[[0. 0. 0. ... 0. 0. 0.]\n",
      " [0. 0. 1. ... 0. 0. 0.]\n",
      " [0. 0. 0. ... 0. 0. 0.]\n",
      " ...\n",
      " [0. 0. 0. ... 0. 1. 0.]\n",
      " [0. 0. 0. ... 0. 1. 0.]\n",
      " [0. 0. 0. ... 0. 1. 0.]] [[0. 0. 0. ... 1. 0. 0.]\n",
      " [0. 0. 0. ... 0. 1. 0.]\n",
      " [1. 0. 0. ... 0. 0. 0.]\n",
      " ...\n",
      " [0. 0. 0. ... 0. 1. 0.]\n",
      " [0. 0. 1. ... 0. 0. 0.]\n",
      " [0. 0. 0. ... 0. 0. 0.]]\n"
     ]
    }
   ],
   "source": [
    "lb=LabelEncoder()\n",
    "\n",
    "ytraint=lb.fit_transform(ytrain)\n",
    "ytrain=to_categorical(ytraint)\n",
    "ytestt=lb.fit_transform(ytest)\n",
    "ytest=to_categorical(ytestt)\n",
    "\n",
    "print(ytrain,ytest)"
   ]
  },
  {
   "cell_type": "markdown",
   "id": "2400b877",
   "metadata": {},
   "source": [
    "# stride 1 filter 3X3"
   ]
  },
  {
   "cell_type": "code",
   "execution_count": 52,
   "id": "d5b7d5e3",
   "metadata": {},
   "outputs": [
    {
     "name": "stdout",
     "output_type": "stream",
     "text": [
      "Model: \"sequential_4\"\n",
      "_________________________________________________________________\n",
      " Layer (type)                Output Shape              Param #   \n",
      "=================================================================\n",
      " conv1 (Conv2D)              (None, 32, 32, 32)        896       \n",
      "                                                                 \n",
      " BN1 (Normalization)         (None, 32, 32, 32)        65        \n",
      "                                                                 \n",
      " maxpool1 (MaxPooling2D)     (None, 16, 16, 32)        0         \n",
      "                                                                 \n",
      " conv2 (Conv2D)              (None, 16, 16, 64)        18496     \n",
      "                                                                 \n",
      " BN2 (Normalization)         (None, 16, 16, 64)        129       \n",
      "                                                                 \n",
      " maxpool2 (MaxPooling2D)     (None, 8, 8, 64)          0         \n",
      "                                                                 \n",
      " Flat (Flatten)              (None, 4096)              0         \n",
      "                                                                 \n",
      " pred_layer (Dense)          (None, 10)                40970     \n",
      "                                                                 \n",
      "=================================================================\n",
      "Total params: 60,556\n",
      "Trainable params: 60,362\n",
      "Non-trainable params: 194\n",
      "_________________________________________________________________\n",
      "Epoch 1/5\n",
      " 988/1000 [============================>.] - ETA: 0s - loss: 2.7189 - accuracy: 0.3587WARNING:tensorflow:Can save best model only with val_acc available, skipping.\n",
      "1000/1000 [==============================] - 4s 4ms/step - loss: 2.7082 - accuracy: 0.3598 - val_loss: 1.8366 - val_accuracy: 0.4340\n",
      "Epoch 2/5\n",
      " 991/1000 [============================>.] - ETA: 0s - loss: 1.6314 - accuracy: 0.4991WARNING:tensorflow:Can save best model only with val_acc available, skipping.\n",
      "1000/1000 [==============================] - 3s 3ms/step - loss: 1.6319 - accuracy: 0.4987 - val_loss: 1.6396 - val_accuracy: 0.4974\n",
      "Epoch 3/5\n",
      " 999/1000 [============================>.] - ETA: 0s - loss: 1.4732 - accuracy: 0.5391WARNING:tensorflow:Can save best model only with val_acc available, skipping.\n",
      "1000/1000 [==============================] - 3s 3ms/step - loss: 1.4728 - accuracy: 0.5392 - val_loss: 1.4673 - val_accuracy: 0.5471\n",
      "Epoch 4/5\n",
      " 996/1000 [============================>.] - ETA: 0s - loss: 1.3527 - accuracy: 0.5748WARNING:tensorflow:Can save best model only with val_acc available, skipping.\n",
      "1000/1000 [==============================] - 3s 3ms/step - loss: 1.3525 - accuracy: 0.5750 - val_loss: 1.4391 - val_accuracy: 0.5543\n",
      "Epoch 5/5\n",
      " 995/1000 [============================>.] - ETA: 0s - loss: 1.2792 - accuracy: 0.5927WARNING:tensorflow:Can save best model only with val_acc available, skipping.\n",
      "1000/1000 [==============================] - 3s 3ms/step - loss: 1.2789 - accuracy: 0.5928 - val_loss: 1.3259 - val_accuracy: 0.5786\n"
     ]
    },
    {
     "data": {
      "text/plain": [
       "<keras.callbacks.History at 0x21e0c728a60>"
      ]
     },
     "execution_count": 52,
     "metadata": {},
     "output_type": "execute_result"
    }
   ],
   "source": [
    "\n",
    "num_classes=10\n",
    "model=Sequential([\n",
    "    keras.layers.Conv2D(filters=32,kernel_size=(3,3),strides=1,padding='same',activation='relu',kernel_regularizer=L2(0.01),input_shape=(32,32,3),name='conv1'),\n",
    "    keras.layers.Normalization(name='BN1'),\n",
    "    keras.layers.MaxPool2D(pool_size=(2,2),name='maxpool1'),\n",
    "    keras.layers.Conv2D(filters=64,kernel_size=(3,3),strides=1,padding='same',activation='relu',kernel_regularizer=L2(0.01),input_shape=(32,32,3),name='conv2'),\n",
    "    keras.layers.Normalization(name='BN2'),\n",
    "    keras.layers.MaxPool2D(pool_size=(2,2),name='maxpool2'),\n",
    "    keras.layers.Flatten(name='Flat'),\n",
    "    keras.layers.Dense(num_classes,activation='softmax',name='pred_layer'),\n",
    "    ])\n",
    "model.summary()\n",
    "model.compile(loss='categorical_crossentropy',optimizer=tf.optimizers.Adam(),metrics=['accuracy'])\n",
    "cpfile=r'cifar10.hdf5'\n",
    "cb_checkpoint=keras.callbacks.ModelCheckpoint(cpfile,monitor='val_acc',verbose=1,save_best_only=True,mode='max')\n",
    "model.fit(xtrain,ytrain,validation_split=0.2,epochs=5,callbacks=[cb_checkpoint])\n",
    "\n",
    "\n"
   ]
  },
  {
   "cell_type": "markdown",
   "id": "2731cca6",
   "metadata": {},
   "source": [
    "- evaluate the model\n"
   ]
  },
  {
   "cell_type": "code",
   "execution_count": 53,
   "id": "621517e5",
   "metadata": {},
   "outputs": [
    {
     "name": "stdout",
     "output_type": "stream",
     "text": [
      "1250/1250 [==============================] - 2s 1ms/step\n",
      "[5 2 5 ... 8 9 8]\n",
      "train accuracy: 63.407500000000006\n",
      "313/313 [==============================] - 1s 2ms/step\n",
      "[3 8 0 ... 8 4 6]\n",
      "test accuracy: 58.77\n"
     ]
    }
   ],
   "source": [
    "\n",
    "pred_ytrain=model.predict(xtrain)\n",
    "pred_ytrain=np.argmax(pred_ytrain,axis=1)\n",
    "print(pred_ytrain)\n",
    "print(f'train accuracy: {scoring(ytraint,pred_ytrain,metric=\"accuracy\")*100}')\n",
    "pred_ytest=model.predict(xtest)\n",
    "pred_ytest=np.argmax(pred_ytest,axis=1)\n",
    "print(pred_ytest)\n",
    "print(f'test accuracy: {scoring(ytestt,pred_ytest,metric=\"accuracy\")*100}')"
   ]
  },
  {
   "cell_type": "markdown",
   "id": "97e6b344",
   "metadata": {},
   "source": [
    "# stride 2 filter 3x3"
   ]
  },
  {
   "cell_type": "code",
   "execution_count": 54,
   "id": "53846e03",
   "metadata": {},
   "outputs": [
    {
     "name": "stdout",
     "output_type": "stream",
     "text": [
      "Model: \"sequential_5\"\n",
      "_________________________________________________________________\n",
      " Layer (type)                Output Shape              Param #   \n",
      "=================================================================\n",
      " conv1 (Conv2D)              (None, 16, 16, 32)        896       \n",
      "                                                                 \n",
      " BN1 (Normalization)         (None, 16, 16, 32)        65        \n",
      "                                                                 \n",
      " maxpool1 (MaxPooling2D)     (None, 8, 8, 32)          0         \n",
      "                                                                 \n",
      " conv2 (Conv2D)              (None, 4, 4, 64)          18496     \n",
      "                                                                 \n",
      " BN2 (Normalization)         (None, 4, 4, 64)          129       \n",
      "                                                                 \n",
      " maxpool2 (MaxPooling2D)     (None, 2, 2, 64)          0         \n",
      "                                                                 \n",
      " Flat (Flatten)              (None, 256)               0         \n",
      "                                                                 \n",
      " pred_layer (Dense)          (None, 10)                2570      \n",
      "                                                                 \n",
      "=================================================================\n",
      "Total params: 22,156\n",
      "Trainable params: 21,962\n",
      "Non-trainable params: 194\n",
      "_________________________________________________________________\n",
      "Epoch 1/5\n",
      " 996/1000 [============================>.] - ETA: 0s - loss: 3.0899 - accuracy: 0.2118WARNING:tensorflow:Can save best model only with val_acc available, skipping.\n",
      "1000/1000 [==============================] - 5s 4ms/step - loss: 3.0862 - accuracy: 0.2122 - val_loss: 2.2417 - val_accuracy: 0.2741\n",
      "Epoch 2/5\n",
      " 991/1000 [============================>.] - ETA: 0s - loss: 2.1062 - accuracy: 0.3131WARNING:tensorflow:Can save best model only with val_acc available, skipping.\n",
      "1000/1000 [==============================] - 4s 4ms/step - loss: 2.1054 - accuracy: 0.3130 - val_loss: 1.9870 - val_accuracy: 0.3390\n",
      "Epoch 3/5\n",
      " 999/1000 [============================>.] - ETA: 0s - loss: 1.8622 - accuracy: 0.3790WARNING:tensorflow:Can save best model only with val_acc available, skipping.\n",
      "1000/1000 [==============================] - 4s 4ms/step - loss: 1.8621 - accuracy: 0.3789 - val_loss: 1.8206 - val_accuracy: 0.3800\n",
      "Epoch 4/5\n",
      " 988/1000 [============================>.] - ETA: 0s - loss: 1.7211 - accuracy: 0.4238WARNING:tensorflow:Can save best model only with val_acc available, skipping.\n",
      "1000/1000 [==============================] - 3s 3ms/step - loss: 1.7211 - accuracy: 0.4237 - val_loss: 1.7293 - val_accuracy: 0.4066\n",
      "Epoch 5/5\n",
      " 987/1000 [============================>.] - ETA: 0s - loss: 1.6278 - accuracy: 0.4530WARNING:tensorflow:Can save best model only with val_acc available, skipping.\n",
      "1000/1000 [==============================] - 4s 4ms/step - loss: 1.6270 - accuracy: 0.4528 - val_loss: 1.6004 - val_accuracy: 0.4605\n"
     ]
    },
    {
     "data": {
      "text/plain": [
       "<keras.callbacks.History at 0x21e0c6fbee0>"
      ]
     },
     "execution_count": 54,
     "metadata": {},
     "output_type": "execute_result"
    }
   ],
   "source": [
    "num_classes=10\n",
    "model=Sequential([\n",
    "    keras.layers.Conv2D(filters=32,kernel_size=(3,3),strides=2,padding='same',activation='relu',kernel_regularizer=L2(0.01),input_shape=(32,32,3),name='conv1'),\n",
    "    keras.layers.Normalization(name='BN1'),\n",
    "    keras.layers.MaxPool2D(pool_size=(2,2),name='maxpool1'),\n",
    "    keras.layers.Conv2D(filters=64,kernel_size=(3,3),strides=2,padding='same',activation='relu',kernel_regularizer=L2(0.01),input_shape=(32,32,3),name='conv2'),\n",
    "    keras.layers.Normalization(name='BN2'),\n",
    "    keras.layers.MaxPool2D(pool_size=(2,2),name='maxpool2'),\n",
    "    keras.layers.Flatten(name='Flat'),\n",
    "    keras.layers.Dense(num_classes,activation='softmax',name='pred_layer'),\n",
    "    ])\n",
    "model.summary()\n",
    "model.compile(loss='categorical_crossentropy',optimizer=tf.optimizers.Adam(),metrics=['accuracy'])\n",
    "cpfile=r'cifar10.hdf5'\n",
    "cb_checkpoint=keras.callbacks.ModelCheckpoint(cpfile,monitor='val_acc',verbose=1,save_best_only=True,mode='max')\n",
    "model.fit(xtrain,ytrain,validation_split=0.2,epochs=5,callbacks=[cb_checkpoint])\n"
   ]
  },
  {
   "cell_type": "markdown",
   "id": "7d754f43",
   "metadata": {},
   "source": [
    "- evaluate the model"
   ]
  },
  {
   "cell_type": "code",
   "execution_count": 55,
   "id": "e0a29fe9",
   "metadata": {},
   "outputs": [
    {
     "name": "stdout",
     "output_type": "stream",
     "text": [
      "1250/1250 [==============================] - 2s 1ms/step\n",
      "[8 5 7 ... 8 8 0]\n",
      "train accuracy: 47.894999999999996\n",
      "313/313 [==============================] - 1s 3ms/step\n",
      "[5 8 0 ... 8 4 6]\n",
      "test accuracy: 46.82\n"
     ]
    }
   ],
   "source": [
    "pred_ytrain=model.predict(xtrain)\n",
    "pred_ytrain=np.argmax(pred_ytrain,axis=1)\n",
    "print(pred_ytrain)\n",
    "print(f'train accuracy: {scoring(ytraint,pred_ytrain,metric=\"accuracy\")*100}')\n",
    "pred_ytest=model.predict(xtest)\n",
    "pred_ytest=np.argmax(pred_ytest,axis=1)\n",
    "print(pred_ytest)\n",
    "print(f'test accuracy: {scoring(ytestt,pred_ytest,metric=\"accuracy\")*100}')"
   ]
  },
  {
   "cell_type": "markdown",
   "id": "4eabca57",
   "metadata": {},
   "source": [
    "# stride 3 filter 3x3"
   ]
  },
  {
   "cell_type": "code",
   "execution_count": 56,
   "id": "343444b9",
   "metadata": {},
   "outputs": [
    {
     "name": "stdout",
     "output_type": "stream",
     "text": [
      "Model: \"sequential_6\"\n",
      "_________________________________________________________________\n",
      " Layer (type)                Output Shape              Param #   \n",
      "=================================================================\n",
      " conv1 (Conv2D)              (None, 11, 11, 32)        896       \n",
      "                                                                 \n",
      " BN1 (Normalization)         (None, 11, 11, 32)        65        \n",
      "                                                                 \n",
      " maxpool1 (MaxPooling2D)     (None, 5, 5, 32)          0         \n",
      "                                                                 \n",
      " conv2 (Conv2D)              (None, 2, 2, 64)          18496     \n",
      "                                                                 \n",
      " BN2 (Normalization)         (None, 2, 2, 64)          129       \n",
      "                                                                 \n",
      " maxpool2 (MaxPooling2D)     (None, 1, 1, 64)          0         \n",
      "                                                                 \n",
      " Flat (Flatten)              (None, 64)                0         \n",
      "                                                                 \n",
      " pred_layer (Dense)          (None, 10)                650       \n",
      "                                                                 \n",
      "=================================================================\n",
      "Total params: 20,236\n",
      "Trainable params: 20,042\n",
      "Non-trainable params: 194\n",
      "_________________________________________________________________\n",
      "Epoch 1/5\n",
      " 984/1000 [============================>.] - ETA: 0s - loss: 3.5301 - accuracy: 0.2581WARNING:tensorflow:Can save best model only with val_acc available, skipping.\n",
      "1000/1000 [==============================] - 5s 4ms/step - loss: 3.5084 - accuracy: 0.2587 - val_loss: 2.0968 - val_accuracy: 0.3321\n",
      "Epoch 2/5\n",
      " 991/1000 [============================>.] - ETA: 0s - loss: 1.9741 - accuracy: 0.3687WARNING:tensorflow:Can save best model only with val_acc available, skipping.\n",
      "1000/1000 [==============================] - 4s 4ms/step - loss: 1.9720 - accuracy: 0.3691 - val_loss: 1.8940 - val_accuracy: 0.3880\n",
      "Epoch 3/5\n",
      " 988/1000 [============================>.] - ETA: 0s - loss: 1.7927 - accuracy: 0.4197WARNING:tensorflow:Can save best model only with val_acc available, skipping.\n",
      "1000/1000 [==============================] - 3s 3ms/step - loss: 1.7929 - accuracy: 0.4197 - val_loss: 1.7735 - val_accuracy: 0.4169\n",
      "Epoch 4/5\n",
      " 985/1000 [============================>.] - ETA: 0s - loss: 1.6721 - accuracy: 0.4534WARNING:tensorflow:Can save best model only with val_acc available, skipping.\n",
      "1000/1000 [==============================] - 4s 4ms/step - loss: 1.6712 - accuracy: 0.4535 - val_loss: 1.6484 - val_accuracy: 0.4509\n",
      "Epoch 5/5\n",
      " 990/1000 [============================>.] - ETA: 0s - loss: 1.5916 - accuracy: 0.4790WARNING:tensorflow:Can save best model only with val_acc available, skipping.\n",
      "1000/1000 [==============================] - 3s 3ms/step - loss: 1.5912 - accuracy: 0.4793 - val_loss: 1.5993 - val_accuracy: 0.4691\n"
     ]
    },
    {
     "data": {
      "text/plain": [
       "<keras.callbacks.History at 0x21e0ed29d30>"
      ]
     },
     "execution_count": 56,
     "metadata": {},
     "output_type": "execute_result"
    }
   ],
   "source": [
    "num_classes=10\n",
    "model=Sequential([\n",
    "    keras.layers.Conv2D(filters=32,kernel_size=(3,3),strides=3,padding='same',activation='relu',kernel_regularizer=L2(0.01),input_shape=(32,32,3),name='conv1'),\n",
    "    keras.layers.Normalization(name='BN1'),\n",
    "    keras.layers.MaxPool2D(pool_size=(2,2),name='maxpool1'),\n",
    "    keras.layers.Conv2D(filters=64,kernel_size=(3,3),strides=3,padding='same',activation='relu',kernel_regularizer=L2(0.01),input_shape=(32,32,3),name='conv2'),\n",
    "    keras.layers.Normalization(name='BN2'),\n",
    "    keras.layers.MaxPool2D(pool_size=(2,2),name='maxpool2'),\n",
    "    keras.layers.Flatten(name='Flat'),\n",
    "    keras.layers.Dense(num_classes,activation='softmax',name='pred_layer'),\n",
    "    ])\n",
    "model.summary()\n",
    "model.compile(loss='categorical_crossentropy',optimizer=tf.optimizers.Adam(),metrics=['accuracy'])\n",
    "cpfile=r'cifar10.hdf5'\n",
    "cb_checkpoint=keras.callbacks.ModelCheckpoint(cpfile,monitor='val_acc',verbose=1,save_best_only=True,mode='max')\n",
    "model.fit(xtrain,ytrain,validation_split=0.2,epochs=5,callbacks=[cb_checkpoint])\n"
   ]
  },
  {
   "cell_type": "markdown",
   "id": "7dc7a43e",
   "metadata": {},
   "source": [
    "- evaluate the model"
   ]
  },
  {
   "cell_type": "code",
   "execution_count": 57,
   "id": "c90b64bc",
   "metadata": {},
   "outputs": [
    {
     "name": "stdout",
     "output_type": "stream",
     "text": [
      "1250/1250 [==============================] - 2s 1ms/step\n",
      "[3 2 5 ... 9 7 8]\n",
      "train accuracy: 49.55\n",
      "313/313 [==============================] - 1s 3ms/step\n",
      "[5 8 0 ... 0 4 6]\n",
      "test accuracy: 47.89\n"
     ]
    }
   ],
   "source": [
    "pred_ytrain=model.predict(xtrain)\n",
    "pred_ytrain=np.argmax(pred_ytrain,axis=1)\n",
    "print(pred_ytrain)\n",
    "print(f'train accuracy: {scoring(ytraint,pred_ytrain,metric=\"accuracy\")*100}')\n",
    "pred_ytest=model.predict(xtest)\n",
    "pred_ytest=np.argmax(pred_ytest,axis=1)\n",
    "print(pred_ytest)\n",
    "print(f'test accuracy: {scoring(ytestt,pred_ytest,metric=\"accuracy\")*100}')"
   ]
  },
  {
   "cell_type": "markdown",
   "id": "63dca912",
   "metadata": {},
   "source": [
    "# stride 1 filter 2x2"
   ]
  },
  {
   "cell_type": "code",
   "execution_count": 59,
   "id": "89ea1781",
   "metadata": {},
   "outputs": [
    {
     "name": "stdout",
     "output_type": "stream",
     "text": [
      "Model: \"sequential_8\"\n",
      "_________________________________________________________________\n",
      " Layer (type)                Output Shape              Param #   \n",
      "=================================================================\n",
      " conv1 (Conv2D)              (None, 32, 32, 32)        416       \n",
      "                                                                 \n",
      " BN1 (Normalization)         (None, 32, 32, 32)        65        \n",
      "                                                                 \n",
      " maxpool1 (MaxPooling2D)     (None, 16, 16, 32)        0         \n",
      "                                                                 \n",
      " conv2 (Conv2D)              (None, 16, 16, 64)        8256      \n",
      "                                                                 \n",
      " BN2 (Normalization)         (None, 16, 16, 64)        129       \n",
      "                                                                 \n",
      " maxpool2 (MaxPooling2D)     (None, 8, 8, 64)          0         \n",
      "                                                                 \n",
      " Flat (Flatten)              (None, 4096)              0         \n",
      "                                                                 \n",
      " pred_layer (Dense)          (None, 10)                40970     \n",
      "                                                                 \n",
      "=================================================================\n",
      "Total params: 49,836\n",
      "Trainable params: 49,642\n",
      "Non-trainable params: 194\n",
      "_________________________________________________________________\n",
      "Epoch 1/5\n",
      " 991/1000 [============================>.] - ETA: 0s - loss: 2.8943 - accuracy: 0.3500WARNING:tensorflow:Can save best model only with val_acc available, skipping.\n",
      "1000/1000 [==============================] - 5s 4ms/step - loss: 2.8841 - accuracy: 0.3512 - val_loss: 1.8178 - val_accuracy: 0.4430\n",
      "Epoch 2/5\n",
      " 990/1000 [============================>.] - ETA: 0s - loss: 1.7156 - accuracy: 0.4721WARNING:tensorflow:Can save best model only with val_acc available, skipping.\n",
      "1000/1000 [==============================] - 4s 4ms/step - loss: 1.7145 - accuracy: 0.4723 - val_loss: 1.6828 - val_accuracy: 0.4714\n",
      "Epoch 3/5\n",
      " 994/1000 [============================>.] - ETA: 0s - loss: 1.5359 - accuracy: 0.5193WARNING:tensorflow:Can save best model only with val_acc available, skipping.\n",
      "1000/1000 [==============================] - 4s 4ms/step - loss: 1.5354 - accuracy: 0.5194 - val_loss: 1.5776 - val_accuracy: 0.5135\n",
      "Epoch 4/5\n",
      " 996/1000 [============================>.] - ETA: 0s - loss: 1.3895 - accuracy: 0.5640WARNING:tensorflow:Can save best model only with val_acc available, skipping.\n",
      "1000/1000 [==============================] - 4s 4ms/step - loss: 1.3893 - accuracy: 0.5638 - val_loss: 1.4207 - val_accuracy: 0.5575\n",
      "Epoch 5/5\n",
      "1000/1000 [==============================] - ETA: 0s - loss: 1.2750 - accuracy: 0.6006WARNING:tensorflow:Can save best model only with val_acc available, skipping.\n",
      "1000/1000 [==============================] - 4s 4ms/step - loss: 1.2750 - accuracy: 0.6006 - val_loss: 1.3667 - val_accuracy: 0.5648\n"
     ]
    },
    {
     "data": {
      "text/plain": [
       "<keras.callbacks.History at 0x21e07b99dc0>"
      ]
     },
     "execution_count": 59,
     "metadata": {},
     "output_type": "execute_result"
    }
   ],
   "source": [
    "num_classes=10\n",
    "model=Sequential([\n",
    "    keras.layers.Conv2D(filters=32,kernel_size=(2,2),strides=1,padding='same',activation='relu',kernel_regularizer=L2(0.01),input_shape=(32,32,3),name='conv1'),\n",
    "    keras.layers.Normalization(name='BN1'),\n",
    "    keras.layers.MaxPool2D(pool_size=(2,2),name='maxpool1'),\n",
    "    keras.layers.Conv2D(filters=64,kernel_size=(2,2),strides=1,padding='same',activation='relu',kernel_regularizer=L2(0.01),input_shape=(32,32,3),name='conv2'),\n",
    "    keras.layers.Normalization(name='BN2'),\n",
    "    keras.layers.MaxPool2D(pool_size=(2,2),name='maxpool2'),\n",
    "    keras.layers.Flatten(name='Flat'),\n",
    "    keras.layers.Dense(num_classes,activation='softmax',name='pred_layer'),\n",
    "    ])\n",
    "model.summary()\n",
    "model.compile(loss='categorical_crossentropy',optimizer=tf.optimizers.Adam(),metrics=['accuracy'])\n",
    "cpfile=r'cifar10.hdf5'\n",
    "cb_checkpoint=keras.callbacks.ModelCheckpoint(cpfile,monitor='val_acc',verbose=1,save_best_only=True,mode='max')\n",
    "model.fit(xtrain,ytrain,validation_split=0.2,epochs=5,callbacks=[cb_checkpoint])\n"
   ]
  },
  {
   "cell_type": "markdown",
   "id": "6316a3a5",
   "metadata": {},
   "source": [
    "- evaluate the model"
   ]
  },
  {
   "cell_type": "code",
   "execution_count": 60,
   "id": "6f0cea15",
   "metadata": {},
   "outputs": [
    {
     "name": "stdout",
     "output_type": "stream",
     "text": [
      "1250/1250 [==============================] - 2s 2ms/step\n",
      "[6 5 5 ... 8 8 8]\n",
      "train accuracy: 61.4525\n",
      "313/313 [==============================] - 1s 2ms/step\n",
      "[3 8 8 ... 8 4 6]\n",
      "test accuracy: 57.79\n"
     ]
    }
   ],
   "source": [
    "pred_ytrain=model.predict(xtrain)\n",
    "pred_ytrain=np.argmax(pred_ytrain,axis=1)\n",
    "print(pred_ytrain)\n",
    "print(f'train accuracy: {scoring(ytraint,pred_ytrain,metric=\"accuracy\")*100}')\n",
    "pred_ytest=model.predict(xtest)\n",
    "pred_ytest=np.argmax(pred_ytest,axis=1)\n",
    "print(pred_ytest)\n",
    "print(f'test accuracy: {scoring(ytestt,pred_ytest,metric=\"accuracy\")*100}')"
   ]
  },
  {
   "cell_type": "markdown",
   "id": "85f30f32",
   "metadata": {},
   "source": [
    "# stride 1 filter 4x4"
   ]
  },
  {
   "cell_type": "code",
   "execution_count": 61,
   "id": "d5a83960",
   "metadata": {},
   "outputs": [
    {
     "name": "stdout",
     "output_type": "stream",
     "text": [
      "Model: \"sequential_9\"\n",
      "_________________________________________________________________\n",
      " Layer (type)                Output Shape              Param #   \n",
      "=================================================================\n",
      " conv1 (Conv2D)              (None, 32, 32, 32)        1568      \n",
      "                                                                 \n",
      " BN1 (Normalization)         (None, 32, 32, 32)        65        \n",
      "                                                                 \n",
      " maxpool1 (MaxPooling2D)     (None, 16, 16, 32)        0         \n",
      "                                                                 \n",
      " conv2 (Conv2D)              (None, 16, 16, 64)        32832     \n",
      "                                                                 \n",
      " BN2 (Normalization)         (None, 16, 16, 64)        129       \n",
      "                                                                 \n",
      " maxpool2 (MaxPooling2D)     (None, 8, 8, 64)          0         \n",
      "                                                                 \n",
      " Flat (Flatten)              (None, 4096)              0         \n",
      "                                                                 \n",
      " pred_layer (Dense)          (None, 10)                40970     \n",
      "                                                                 \n",
      "=================================================================\n",
      "Total params: 75,564\n",
      "Trainable params: 75,370\n",
      "Non-trainable params: 194\n",
      "_________________________________________________________________\n",
      "Epoch 1/5\n",
      " 984/1000 [============================>.] - ETA: 0s - loss: 2.5325 - accuracy: 0.3719WARNING:tensorflow:Can save best model only with val_acc available, skipping.\n",
      "1000/1000 [==============================] - 4s 4ms/step - loss: 2.5205 - accuracy: 0.3734 - val_loss: 1.7535 - val_accuracy: 0.4564\n",
      "Epoch 2/5\n",
      " 984/1000 [============================>.] - ETA: 0s - loss: 1.5936 - accuracy: 0.5076WARNING:tensorflow:Can save best model only with val_acc available, skipping.\n",
      "1000/1000 [==============================] - 3s 3ms/step - loss: 1.5927 - accuracy: 0.5075 - val_loss: 1.6089 - val_accuracy: 0.4908\n",
      "Epoch 3/5\n",
      " 990/1000 [============================>.] - ETA: 0s - loss: 1.4311 - accuracy: 0.5527WARNING:tensorflow:Can save best model only with val_acc available, skipping.\n",
      "1000/1000 [==============================] - 4s 4ms/step - loss: 1.4326 - accuracy: 0.5521 - val_loss: 1.4678 - val_accuracy: 0.5428\n",
      "Epoch 4/5\n",
      " 998/1000 [============================>.] - ETA: 0s - loss: 1.3483 - accuracy: 0.5760WARNING:tensorflow:Can save best model only with val_acc available, skipping.\n",
      "1000/1000 [==============================] - 4s 4ms/step - loss: 1.3482 - accuracy: 0.5761 - val_loss: 1.3730 - val_accuracy: 0.5675\n",
      "Epoch 5/5\n",
      " 991/1000 [============================>.] - ETA: 0s - loss: 1.2792 - accuracy: 0.5946WARNING:tensorflow:Can save best model only with val_acc available, skipping.\n",
      "1000/1000 [==============================] - 4s 4ms/step - loss: 1.2789 - accuracy: 0.5949 - val_loss: 1.4870 - val_accuracy: 0.5378\n"
     ]
    },
    {
     "data": {
      "text/plain": [
       "<keras.callbacks.History at 0x21e0edb1190>"
      ]
     },
     "execution_count": 61,
     "metadata": {},
     "output_type": "execute_result"
    }
   ],
   "source": [
    "num_classes=10\n",
    "model=Sequential([\n",
    "    keras.layers.Conv2D(filters=32,kernel_size=(4,4),strides=1,padding='same',activation='relu',kernel_regularizer=L2(0.01),input_shape=(32,32,3),name='conv1'),\n",
    "    keras.layers.Normalization(name='BN1'),\n",
    "    keras.layers.MaxPool2D(pool_size=(2,2),name='maxpool1'),\n",
    "    keras.layers.Conv2D(filters=64,kernel_size=(4,4),strides=1,padding='same',activation='relu',kernel_regularizer=L2(0.01),input_shape=(32,32,3),name='conv2'),\n",
    "    keras.layers.Normalization(name='BN2'),\n",
    "    keras.layers.MaxPool2D(pool_size=(2,2),name='maxpool2'),\n",
    "    keras.layers.Flatten(name='Flat'),\n",
    "    keras.layers.Dense(num_classes,activation='softmax',name='pred_layer'),\n",
    "    ])\n",
    "model.summary()\n",
    "model.compile(loss='categorical_crossentropy',optimizer=tf.optimizers.Adam(),metrics=['accuracy'])\n",
    "cpfile=r'cifar10.hdf5'\n",
    "cb_checkpoint=keras.callbacks.ModelCheckpoint(cpfile,monitor='val_acc',verbose=1,save_best_only=True,mode='max')\n",
    "model.fit(xtrain,ytrain,validation_split=0.2,epochs=5,callbacks=[cb_checkpoint])\n"
   ]
  },
  {
   "cell_type": "markdown",
   "id": "5edc921a",
   "metadata": {},
   "source": [
    "- evaluate the model"
   ]
  },
  {
   "cell_type": "code",
   "execution_count": 62,
   "id": "0f7f9671",
   "metadata": {},
   "outputs": [
    {
     "name": "stdout",
     "output_type": "stream",
     "text": [
      "1250/1250 [==============================] - 2s 2ms/step\n",
      "[6 2 5 ... 8 8 8]\n",
      "train accuracy: 58.2325\n",
      "313/313 [==============================] - 1s 2ms/step\n",
      "[0 8 8 ... 8 4 2]\n",
      "test accuracy: 54.50000000000001\n"
     ]
    }
   ],
   "source": [
    "pred_ytrain=model.predict(xtrain)\n",
    "pred_ytrain=np.argmax(pred_ytrain,axis=1)\n",
    "print(pred_ytrain)\n",
    "print(f'train accuracy: {scoring(ytraint,pred_ytrain,metric=\"accuracy\")*100}')\n",
    "pred_ytest=model.predict(xtest)\n",
    "pred_ytest=np.argmax(pred_ytest,axis=1)\n",
    "print(pred_ytest)\n",
    "print(f'test accuracy: {scoring(ytestt,pred_ytest,metric=\"accuracy\")*100}')"
   ]
  },
  {
   "cell_type": "code",
   "execution_count": null,
   "id": "6586d048",
   "metadata": {},
   "outputs": [],
   "source": []
  }
 ],
 "metadata": {
  "kernelspec": {
   "display_name": "tf",
   "language": "python",
   "name": "tf"
  },
  "language_info": {
   "codemirror_mode": {
    "name": "ipython",
    "version": 3
   },
   "file_extension": ".py",
   "mimetype": "text/x-python",
   "name": "python",
   "nbconvert_exporter": "python",
   "pygments_lexer": "ipython3",
   "version": "3.9.18"
  }
 },
 "nbformat": 4,
 "nbformat_minor": 5
}
