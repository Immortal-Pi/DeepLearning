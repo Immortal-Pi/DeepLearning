{
 "cells": [
  {
   "cell_type": "markdown",
   "id": "0d228ea6",
   "metadata": {},
   "source": [
    "# CNN hyperparameter tuning \n",
    "- stride 1 filter 3x3\n",
    "- stride 2 filter 3x3\n",
    "- stride 3 filter 3x3\n",
    "- stride 1 filter 2x2\n",
    "- stride 1 filter 4x4"
   ]
  },
  {
   "cell_type": "code",
   "execution_count": 2,
   "id": "001ec795",
   "metadata": {},
   "outputs": [],
   "source": [
    "#get data\n",
    "#show random picture\n",
    "#split the data test and train\n",
    "#take the image data and normalize the data\n",
    "#label encode\n",
    "#define CNN\n",
    "#prediction and actual accuracy\n",
    "#Confusion matrix visulization\n",
    "\n",
    "import warnings\n",
    "import numpy as np\n",
    "import tensorflow as tf\n",
    "import pandas as pd\n",
    "import os\n",
    "from PIL import Image\n",
    "import imageio.v2 as imageio\n",
    "import matplotlib.pyplot as plt\n",
    "from sklearn.metrics import confusion_matrix\n",
    "from sklearn.model_selection import train_test_split\n",
    "from sklearn.preprocessing import LabelEncoder\n",
    "import keras.layers\n",
    "from keras.utils.np_utils import to_categorical\n",
    "from keras import Sequential\n",
    "from keras.regularizers import L2\n",
    "#get data\n",
    "label_data=pd.read_csv('E:\\python\\python_projects\\deepfaceTensorflow\\DeepLearning\\CNN\\datasets\\cifar10Labels.csv',index_col=0)\n",
    "import keras.callbacks\n",
    "# from warnings\n",
    "from mlxtend.evaluate import confusion_matrix,scoring\n",
    "from mlxtend.plotting import plot_confusion_matrix\n",
    "from skimage.transform import resize\n",
    "from  vis.visualization import visualize_cam,visualize_saliency,overlay\n",
    "from vis.utils import utils"
   ]
  },
  {
   "cell_type": "code",
   "execution_count": 3,
   "id": "4a7d11ae",
   "metadata": {},
   "outputs": [
    {
     "name": "stdout",
     "output_type": "stream",
     "text": [
      "            label\n",
      "id               \n",
      "1            frog\n",
      "2           truck\n",
      "3           truck\n",
      "4            deer\n",
      "5      automobile\n",
      "...           ...\n",
      "49996        bird\n",
      "49997        frog\n",
      "49998       truck\n",
      "49999  automobile\n",
      "50000  automobile\n",
      "\n",
      "[50000 rows x 1 columns]\n"
     ]
    }
   ],
   "source": [
    "print(label_data)"
   ]
  },
  {
   "cell_type": "code",
   "execution_count": null,
   "id": "8ce2103f",
   "metadata": {},
   "outputs": [],
   "source": []
  }
 ],
 "metadata": {
  "kernelspec": {
   "display_name": "tf",
   "language": "python",
   "name": "tf"
  },
  "language_info": {
   "codemirror_mode": {
    "name": "ipython",
    "version": 3
   },
   "file_extension": ".py",
   "mimetype": "text/x-python",
   "name": "python",
   "nbconvert_exporter": "python",
   "pygments_lexer": "ipython3",
   "version": "3.9.18"
  }
 },
 "nbformat": 4,
 "nbformat_minor": 5
}
