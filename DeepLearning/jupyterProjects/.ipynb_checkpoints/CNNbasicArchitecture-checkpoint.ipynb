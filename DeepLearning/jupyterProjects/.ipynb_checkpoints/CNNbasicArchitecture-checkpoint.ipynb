{
 "cells": [
  {
   "cell_type": "markdown",
   "id": "39b90552",
   "metadata": {},
   "source": [
    "# Tasks to do in this program\n",
    "\n",
    "- import necessary packages\n",
    "- get data\n",
    "- show random picture\n",
    "- split the data test and train\n",
    "- take the image data and normalize the data\n",
    "- label encode\n",
    "- define CNN\n",
    "- prediction and actual accuracy\n",
    "- Confusion matrix visulization"
   ]
  },
  {
   "cell_type": "code",
   "execution_count": 2,
   "id": "ccbd9b16",
   "metadata": {},
   "outputs": [],
   "source": [
    "import warnings\n",
    "import numpy as np\n",
    "import tensorflow as tf\n",
    "import pandas as pd\n",
    "import os\n",
    "from PIL import Image\n",
    "import imageio.v2 as imageio\n",
    "import matplotlib.pyplot as plt\n",
    "from sklearn.metrics import confusion_matrix\n",
    "from sklearn.model_selection import train_test_split\n",
    "from sklearn.preprocessing import LabelEncoder\n",
    "import keras.layers\n",
    "from keras.utils.np_utils import to_categorical\n",
    "from keras import Sequential\n",
    "from keras.regularizers import L2\n",
    "from mlxtend.evaluate import confusion_matrix,scoring\n",
    "from mlxtend.plotting import plot_confusion_matrix\n",
    "from skimage.transform import resize\n",
    "from  vis.visualization import visualize_cam,visualize_saliency,overlay\n",
    "from vis.utils import utils\n",
    "import keras.callbacks"
   ]
  },
  {
   "cell_type": "code",
   "execution_count": 3,
   "id": "fa448e1d",
   "metadata": {},
   "outputs": [],
   "source": [
    "#get data\n",
    "label_data=pd.read_csv('E:\\python\\python_projects\\deepfaceTensorflow\\DeepLearning\\CNN\\datasets\\cifar10Labels.csv',index_col=0)\n"
   ]
  },
  {
   "cell_type": "code",
   "execution_count": 4,
   "id": "f8d2a031",
   "metadata": {},
   "outputs": [
    {
     "name": "stdout",
     "output_type": "stream",
     "text": [
      "id\n",
      "39088     frog\n",
      "30894     bird\n",
      "45279      dog\n",
      "16399     frog\n",
      "13654      cat\n",
      "         ...  \n",
      "11285    horse\n",
      "44733     bird\n",
      "38159     ship\n",
      "861       ship\n",
      "15796     ship\n",
      "Name: label, Length: 40000, dtype: object\n"
     ]
    }
   ],
   "source": [
    "ytrain,ytest=train_test_split(label_data['label'],test_size=0.2,random_state=42)\n",
    "print(ytrain)"
   ]
  },
  {
   "cell_type": "code",
   "execution_count": 5,
   "id": "29155cdc",
   "metadata": {},
   "outputs": [
    {
     "name": "stdout",
     "output_type": "stream",
     "text": [
      "(40000, 32, 32, 3)\n",
      "(10000, 32, 32, 3)\n"
     ]
    }
   ],
   "source": [
    "temp=[]\n",
    "for i in ytrain.index:\n",
    "    img_path=os.path.join('E:\\python\\python_projects\\deepfaceTensorflow\\DeepLearning\\CNN\\datasets\\cifar10',f'{i}.png')\n",
    "    img=np.array(imageio.imread(img_path)).astype('float32')\n",
    "    temp.append(img)\n",
    "\n",
    "xtrain=np.stack(temp)\n",
    "print(xtrain.shape)\n",
    "temp=[]\n",
    "for i in ytest.index:\n",
    "    img_path=os.path.join('E:\\python\\python_projects\\deepfaceTensorflow\\DeepLearning\\CNN\\datasets\\cifar10',f'{i}.png')\n",
    "    img=np.array(imageio.imread(img_path)).astype('float32')\n",
    "    temp.append(img)\n",
    "xtest=np.stack(temp)\n",
    "print(xtest.shape)"
   ]
  },
  {
   "cell_type": "code",
   "execution_count": 6,
   "id": "294f7294",
   "metadata": {},
   "outputs": [
    {
     "name": "stdout",
     "output_type": "stream",
     "text": [
      "(40000, 10) (10000, 10)\n"
     ]
    }
   ],
   "source": [
    "xtrain=xtrain/255.\n",
    "xtest=xtest/255.\n",
    "\n",
    "\n",
    "#encode\n",
    "lb=LabelEncoder()\n",
    "\n",
    "ytrain=lb.fit_transform(ytrain)\n",
    "ytrain_norm=to_categorical(ytrain)\n",
    "\n",
    "#\n",
    "# print(ytest)\n",
    "ytest=lb.fit_transform(ytest)\n",
    "ytest_norm=to_categorical(ytest)\n",
    "print(ytrain_norm.shape,ytest_norm.shape)\n"
   ]
  },
  {
   "cell_type": "code",
   "execution_count": 9,
   "id": "7768a4d1",
   "metadata": {},
   "outputs": [
    {
     "name": "stdout",
     "output_type": "stream",
     "text": [
      "Model: \"sequential_1\"\n",
      "_________________________________________________________________\n",
      " Layer (type)                Output Shape              Param #   \n",
      "=================================================================\n",
      " conv1 (Conv2D)              (None, 32, 32, 32)        896       \n",
      "                                                                 \n",
      " norm1 (Normalization)       (None, 32, 32, 32)        65        \n",
      "                                                                 \n",
      " maxpool1 (MaxPooling2D)     (None, 16, 16, 32)        0         \n",
      "                                                                 \n",
      " conv2 (Conv2D)              (None, 16, 16, 64)        18496     \n",
      "                                                                 \n",
      " norm2 (Normalization)       (None, 16, 16, 64)        129       \n",
      "                                                                 \n",
      " maxpool2 (MaxPooling2D)     (None, 8, 8, 64)          0         \n",
      "                                                                 \n",
      " flat (Flatten)              (None, 4096)              0         \n",
      "                                                                 \n",
      " pred_values (Dense)         (None, 10)                40970     \n",
      "                                                                 \n",
      "=================================================================\n",
      "Total params: 60,556\n",
      "Trainable params: 60,362\n",
      "Non-trainable params: 194\n",
      "_________________________________________________________________\n",
      "Epoch 1/5\n",
      " 998/1000 [============================>.] - ETA: 0s - loss: 1.7769 - accuracy: 0.4124WARNING:tensorflow:Can save best model only with val_acc available, skipping.\n",
      "1000/1000 [==============================] - 4s 4ms/step - loss: 1.7765 - accuracy: 0.4126 - val_loss: 1.5667 - val_accuracy: 0.4737\n",
      "Epoch 2/5\n",
      " 996/1000 [============================>.] - ETA: 0s - loss: 1.4527 - accuracy: 0.5309WARNING:tensorflow:Can save best model only with val_acc available, skipping.\n",
      "1000/1000 [==============================] - 3s 3ms/step - loss: 1.4518 - accuracy: 0.5313 - val_loss: 1.4097 - val_accuracy: 0.5452\n",
      "Epoch 3/5\n",
      " 989/1000 [============================>.] - ETA: 0s - loss: 1.3483 - accuracy: 0.5724WARNING:tensorflow:Can save best model only with val_acc available, skipping.\n",
      "1000/1000 [==============================] - 3s 3ms/step - loss: 1.3475 - accuracy: 0.5730 - val_loss: 1.3708 - val_accuracy: 0.5655\n",
      "Epoch 4/5\n",
      "1000/1000 [==============================] - ETA: 0s - loss: 1.2847 - accuracy: 0.6008WARNING:tensorflow:Can save best model only with val_acc available, skipping.\n",
      "1000/1000 [==============================] - 3s 3ms/step - loss: 1.2847 - accuracy: 0.6008 - val_loss: 1.2944 - val_accuracy: 0.5943\n",
      "Epoch 5/5\n",
      "1000/1000 [==============================] - ETA: 0s - loss: 1.2317 - accuracy: 0.6223WARNING:tensorflow:Can save best model only with val_acc available, skipping.\n",
      "1000/1000 [==============================] - 3s 3ms/step - loss: 1.2317 - accuracy: 0.6223 - val_loss: 1.2698 - val_accuracy: 0.6021\n"
     ]
    },
    {
     "data": {
      "text/plain": [
       "<keras.callbacks.History at 0x289c6a1adf0>"
      ]
     },
     "execution_count": 9,
     "metadata": {},
     "output_type": "execute_result"
    }
   ],
   "source": [
    "#build CNN network\n",
    "num_classes=10\n",
    "\n",
    "model=Sequential([\n",
    "    keras.layers.Conv2D(filters=32,kernel_size=(3,3),strides=1,padding='same',activation='relu',kernel_regularizer=L2(0.01),input_shape=(32,32,3),name='conv1'),\n",
    "    keras.layers.Normalization(name='norm1'),\n",
    "    keras.layers.MaxPool2D(pool_size=(2,2),name='maxpool1'),\n",
    "    keras.layers.Conv2D(filters=64,kernel_size=(3,3),strides=1,padding='same',activation='relu',kernel_regularizer=L2(0.01),input_shape=(32,32,3),name='conv2'),\n",
    "    keras.layers.Normalization(name='norm2'),\n",
    "    keras.layers.MaxPool2D(pool_size=(2,2),name='maxpool2'),\n",
    "    keras.layers.Flatten(name='flat'),\n",
    "    keras.layers.Dense(num_classes,activation='softmax',name='pred_values'),\n",
    "])\n",
    "\n",
    "model.compile(loss='categorical_crossentropy',optimizer=tf.optimizers.Adam(),metrics=['accuracy'])\n",
    "cpfile=r'cifar10.hdf5'\n",
    "cb_checkpoint=keras.callbacks.ModelCheckpoint(cpfile,monitor='val_acc',verbose=1,save_best_only=True,mode='max')\n",
    "model.summary()\n",
    "model.fit(xtrain,ytrain_norm,epochs=5,callbacks=[cb_checkpoint],validation_split=0.2,)\n"
   ]
  },
  {
   "cell_type": "code",
   "execution_count": 8,
   "id": "22448137",
   "metadata": {},
   "outputs": [
    {
     "ename": "NameError",
     "evalue": "name 'prediction' is not defined",
     "output_type": "error",
     "traceback": [
      "\u001b[1;31m---------------------------------------------------------------------------\u001b[0m",
      "\u001b[1;31mNameError\u001b[0m                                 Traceback (most recent call last)",
      "Cell \u001b[1;32mIn[8], line 1\u001b[0m\n\u001b[1;32m----> 1\u001b[0m \u001b[43mprediction\u001b[49m\n\u001b[0;32m      2\u001b[0m y_train_pred\u001b[38;5;241m=\u001b[39mmodel\u001b[38;5;241m.\u001b[39mpredict(xtrain)\n\u001b[0;32m      3\u001b[0m y_train_pred\u001b[38;5;241m=\u001b[39mnp\u001b[38;5;241m.\u001b[39margmax(y_train_pred,axis\u001b[38;5;241m=\u001b[39m\u001b[38;5;241m1\u001b[39m)\n",
      "\u001b[1;31mNameError\u001b[0m: name 'prediction' is not defined"
     ]
    }
   ],
   "source": [
    "prediction\n",
    "y_train_pred=model.predict(xtrain)\n",
    "y_train_pred=np.argmax(y_train_pred,axis=1)\n",
    "print(y_train_pred)\n",
    "\n",
    "y_test_pred=model.predict(xtest)\n",
    "y_test_pred=np.argmax(y_test_pred,axis=1)\n",
    "print(y_test_pred)"
   ]
  },
  {
   "cell_type": "code",
   "execution_count": null,
   "id": "2f5071b0",
   "metadata": {},
   "outputs": [],
   "source": [
    "\n",
    "train_acc=scoring(lb.inverse_transform(y_train_pred),lb.inverse_transform(ytrain))\n",
    "test_acc=scoring(lb.inverse_transform(y_test_pred),lb.inverse_transform(ytest))\n",
    "print(f'train accuracy: {train_acc} test accuracy: {test_acc}')"
   ]
  },
  {
   "cell_type": "code",
   "execution_count": null,
   "id": "b6c835e9",
   "metadata": {},
   "outputs": [],
   "source": [
    "def plot_cm(cm,text):\n",
    "    class_names=['airplane', 'automobile', 'bird', 'cat', 'deer', 'dog', 'frog', 'horse', 'ship', 'truck']\n",
    "    plot_confusion_matrix(conf_mat=cm,figsize=(8,8),colorbar=True,cmap='Greens',show_absolute=False,show_normed=True)\n",
    "    tick_marks=np.arange(len(class_names))\n",
    "    plt.xticks(tick_marks,class_names,rotation=45)\n",
    "    plt.yticks(tick_marks,class_names)\n",
    "    plt.title(text)\n",
    "    plt.show()\n",
    "\n",
    "\n",
    "    return\n",
    "\n",
    "train_cm=confusion_matrix(lb.inverse_transform(ytrain),lb.inverse_transform(y_train_pred))\n",
    "test_cm=confusion_matrix(lb.inverse_transform(ytest),lb.inverse_transform(y_test_pred))\n",
    "plot_cm(train_cm,'Confusion matrix train data')\n",
    "plot_cm(test_cm,'Confusion matrix test data')\n"
   ]
  },
  {
   "cell_type": "code",
   "execution_count": null,
   "id": "750ddffc",
   "metadata": {},
   "outputs": [],
   "source": [
    "#dense layer visualization\n",
    "\n",
    "#index of categories for our model\n",
    "classes=lb.inverse_transform(np.arange(10))\n",
    "print(classes)\n",
    "# img_path=os.path.join('datasets/cifar10',f'{6}.png')\n",
    "ship_img = utils.load_img('datasets/cifar10/'+f'{6}.png')\n",
    "plt.imshow(ship_img)\n",
    "plt.show()\n",
    "\n",
    "\n",
    "#predicting the probility for each of the class for the image\n",
    "ship_prob=model.predict(xtest[6:7]).ravel().copy()\n",
    "pd.Series(ship_prob,index=classes).plot.barh()\n",
    "plt.show()"
   ]
  }
 ],
 "metadata": {
  "kernelspec": {
   "display_name": "tf",
   "language": "python",
   "name": "tf"
  },
  "language_info": {
   "codemirror_mode": {
    "name": "ipython",
    "version": 3
   },
   "file_extension": ".py",
   "mimetype": "text/x-python",
   "name": "python",
   "nbconvert_exporter": "python",
   "pygments_lexer": "ipython3",
   "version": "3.9.18"
  }
 },
 "nbformat": 4,
 "nbformat_minor": 5
}
