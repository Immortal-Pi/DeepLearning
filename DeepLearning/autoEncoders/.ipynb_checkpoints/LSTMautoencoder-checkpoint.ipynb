{
 "cells": [
  {
   "cell_type": "markdown",
   "id": "05397cd2-200f-4bde-beef-cce91f88ff2c",
   "metadata": {},
   "source": [
    "# LSTM based auto encoders "
   ]
  },
  {
   "cell_type": "markdown",
   "id": "1a740ddb-6e90-4dff-887f-5b9214cdbf21",
   "metadata": {},
   "source": [
    "# 1. Reconstruction fo sequence using autoencoders "
   ]
  },
  {
   "cell_type": "code",
   "execution_count": 2,
   "id": "01c562e7-61f8-48e3-a0a4-36c5cb0424ca",
   "metadata": {},
   "outputs": [],
   "source": [
    "import numpy as np\n",
    "from keras.models import Sequential\n",
    "from keras.layers import LSTM\n",
    "from keras.layers import Dense \n",
    "from keras.layers import RepeatVector \n",
    "from keras.layers import TimeDistributed \n",
    "from keras.utils import plot_model"
   ]
  },
  {
   "cell_type": "code",
   "execution_count": 14,
   "id": "6a3527a1-f2f3-4e63-b5fd-84299be0c199",
   "metadata": {},
   "outputs": [
    {
     "data": {
      "text/plain": [
       "(1, 9, 1)"
      ]
     },
     "execution_count": 14,
     "metadata": {},
     "output_type": "execute_result"
    }
   ],
   "source": [
    "# input sequence \n",
    "sequence = np.array([0.1, 0.2, 0.3, 0.4, 0.5, 0.6, 0.7, 0.8, 0.9])\n",
    "sequence= sequence.reshape((1,len(sequence),1))\n",
    "sequence.shape"
   ]
  },
  {
   "cell_type": "code",
   "execution_count": 15,
   "id": "ebf06d78-6924-45c5-9f97-9b33e373d867",
   "metadata": {},
   "outputs": [
    {
     "name": "stdout",
     "output_type": "stream",
     "text": [
      "WARNING:tensorflow:Layer lstm_7 will not use cuDNN kernels since it doesn't meet the criteria. It will use a generic GPU kernel as fallback when running on GPU.\n",
      "WARNING:tensorflow:Layer lstm_8 will not use cuDNN kernels since it doesn't meet the criteria. It will use a generic GPU kernel as fallback when running on GPU.\n"
     ]
    }
   ],
   "source": [
    "model=Sequential([\n",
    "    LSTM(100,activation='relu',input_shape=(sequence.shape[1],1)),\n",
    "    RepeatVector(len(sequence)),\n",
    "    LSTM(100,activation='relu',return_sequences=True ),\n",
    "    TimeDistributed(Dense(1))\n",
    "])"
   ]
  },
  {
   "cell_type": "code",
   "execution_count": 16,
   "id": "859ca1dd-2414-4ad0-87af-8adb068a9b9d",
   "metadata": {},
   "outputs": [
    {
     "data": {
      "text/plain": [
       "<keras.callbacks.History at 0x18c7aa44ee0>"
      ]
     },
     "execution_count": 16,
     "metadata": {},
     "output_type": "execute_result"
    }
   ],
   "source": [
    "model.compile(optimizer='adam',loss='mse')\n",
    "model.fit(sequence,sequence,epochs=300, verbose=0)"
   ]
  },
  {
   "cell_type": "code",
   "execution_count": 21,
   "id": "e2158e79-ad0f-496f-adcc-e392175966c0",
   "metadata": {},
   "outputs": [
    {
     "name": "stdout",
     "output_type": "stream",
     "text": [
      "You must install pydot (`pip install pydot`) and install graphviz (see instructions at https://graphviz.gitlab.io/download/) for plot_model to work.\n",
      "[0.49999994]\n"
     ]
    }
   ],
   "source": [
    "plot_model(model, show_shapes=True, to_file='reconstruct_lstm_autoencoder.png')\n",
    "# demonstrate recreation\n",
    "yhat = model.predict(sequence, verbose=0)\n",
    "print(yhat[0,:,0])"
   ]
  },
  {
   "cell_type": "code",
   "execution_count": null,
   "id": "7199c41d-bf6e-4ebc-a954-f62581a2b83e",
   "metadata": {},
   "outputs": [],
   "source": []
  },
  {
   "cell_type": "code",
   "execution_count": null,
   "id": "1c3085c9-d759-405b-a292-d9134d780de2",
   "metadata": {},
   "outputs": [],
   "source": []
  }
 ],
 "metadata": {
  "kernelspec": {
   "display_name": "tf",
   "language": "python",
   "name": "tf"
  },
  "language_info": {
   "codemirror_mode": {
    "name": "ipython",
    "version": 3
   },
   "file_extension": ".py",
   "mimetype": "text/x-python",
   "name": "python",
   "nbconvert_exporter": "python",
   "pygments_lexer": "ipython3",
   "version": "3.9.18"
  }
 },
 "nbformat": 4,
 "nbformat_minor": 5
}
