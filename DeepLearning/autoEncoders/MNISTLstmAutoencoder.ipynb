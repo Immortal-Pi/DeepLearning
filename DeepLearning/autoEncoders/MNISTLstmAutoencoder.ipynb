{
 "cells": [
  {
   "cell_type": "code",
   "execution_count": 14,
   "id": "948aeb82-57f2-48ab-8385-4ac2e385bfe4",
   "metadata": {},
   "outputs": [],
   "source": [
    "import numpy as np\n",
    "import keras\n",
    "from keras.datasets import mnist\n",
    "from keras.models import Sequential, Model\n",
    "from keras.layers import Dense, Input\n",
    "from keras import optimizers\n",
    "from keras.optimizers import Adam\n",
    "import matplotlib.pyplot as plt"
   ]
  },
  {
   "cell_type": "code",
   "execution_count": 3,
   "id": "0d6c65de-e5cb-413f-b6af-1604f247e086",
   "metadata": {},
   "outputs": [],
   "source": [
    "(x_train, y_train), (x_test, y_test) = mnist.load_data()\n",
    "train_x = x_train.reshape(60000, 784) / 255\n",
    "val_x = x_test.reshape(10000, 784) / 255"
   ]
  },
  {
   "cell_type": "code",
   "execution_count": 6,
   "id": "9f10da2e-b5db-4994-abb1-d6da6e3f6e7f",
   "metadata": {},
   "outputs": [
    {
     "name": "stdout",
     "output_type": "stream",
     "text": [
      "Model: \"sequential_2\"\n",
      "_________________________________________________________________\n",
      " Layer (type)                Output Shape              Param #   \n",
      "=================================================================\n",
      " dense_10 (Dense)            (None, 512)               401920    \n",
      "                                                                 \n",
      " dense_11 (Dense)            (None, 128)               65664     \n",
      "                                                                 \n",
      " bottleneck (Dense)          (None, 10)                1290      \n",
      "                                                                 \n",
      " dense_12 (Dense)            (None, 128)               1408      \n",
      "                                                                 \n",
      " dense_13 (Dense)            (None, 1512)              195048    \n",
      "                                                                 \n",
      " dense_14 (Dense)            (None, 784)               1186192   \n",
      "                                                                 \n",
      "=================================================================\n",
      "Total params: 1,851,522\n",
      "Trainable params: 1,851,522\n",
      "Non-trainable params: 0\n",
      "_________________________________________________________________\n"
     ]
    }
   ],
   "source": [
    "model=Sequential([\n",
    "    Dense(512,activation='elu',input_shape=(784,)),\n",
    "    Dense(128,activation='elu'),\n",
    "    Dense(10,activation='linear', name='bottleneck'),\n",
    "    Dense(128,activation='elu'),\n",
    "    Dense(1512,activation='elu'),\n",
    "    Dense(784, activation='sigmoid')\n",
    "    \n",
    "])\n",
    "model.compile(loss='mean_squared_error',optimizer='adam')\n",
    "model.summary()"
   ]
  },
  {
   "cell_type": "code",
   "execution_count": 7,
   "id": "db64dc1d-76bd-4228-b6ea-011b9ad044d7",
   "metadata": {},
   "outputs": [
    {
     "name": "stdout",
     "output_type": "stream",
     "text": [
      "Epoch 1/10\n",
      "59/59 [==============================] - 6s 16ms/step - loss: 0.0673 - val_loss: 0.0457\n",
      "Epoch 2/10\n",
      "59/59 [==============================] - 0s 8ms/step - loss: 0.0397 - val_loss: 0.0329\n",
      "Epoch 3/10\n",
      "59/59 [==============================] - 0s 8ms/step - loss: 0.0296 - val_loss: 0.0261\n",
      "Epoch 4/10\n",
      "59/59 [==============================] - 0s 8ms/step - loss: 0.0250 - val_loss: 0.0231\n",
      "Epoch 5/10\n",
      "59/59 [==============================] - 0s 8ms/step - loss: 0.0226 - val_loss: 0.0212\n",
      "Epoch 6/10\n",
      "59/59 [==============================] - 0s 8ms/step - loss: 0.0210 - val_loss: 0.0200\n",
      "Epoch 7/10\n",
      "59/59 [==============================] - 0s 8ms/step - loss: 0.0198 - val_loss: 0.0190\n",
      "Epoch 8/10\n",
      "59/59 [==============================] - 0s 8ms/step - loss: 0.0189 - val_loss: 0.0182\n",
      "Epoch 9/10\n",
      "59/59 [==============================] - 0s 8ms/step - loss: 0.0182 - val_loss: 0.0176\n",
      "Epoch 10/10\n",
      "59/59 [==============================] - 0s 8ms/step - loss: 0.0175 - val_loss: 0.0170\n"
     ]
    },
    {
     "data": {
      "text/plain": [
       "<keras.callbacks.History at 0x20e1146aee0>"
      ]
     },
     "execution_count": 7,
     "metadata": {},
     "output_type": "execute_result"
    }
   ],
   "source": [
    "model.fit(train_x,train_x,batch_size=1024,epochs=10,verbose=1,validation_data=(val_x,val_x))"
   ]
  },
  {
   "cell_type": "code",
   "execution_count": 20,
   "id": "22bfa429-85c8-4a71-986e-cc69ead43f00",
   "metadata": {},
   "outputs": [
    {
     "name": "stdout",
     "output_type": "stream",
     "text": [
      "1875/1875 [==============================] - 2s 871us/step\n"
     ]
    }
   ],
   "source": [
    "encoder=Model(model.input, model.get_layer('bottleneck').output)\n",
    "encoder_data=encoder.predict(train_x)\n",
    "encode_dim=10\n",
    "\n",
    "#return the decoder\n",
    "encoder_input=Input(shape=(encode_dim,))\n",
    "decode=model.layers[-3](encoder_input)\n",
    "decode=model.layers[-2](decode)\n",
    "decode=model.layers[-1](decode)\n",
    "decoder=Model(encoder_input, decode)"
   ]
  },
  {
   "cell_type": "markdown",
   "id": "201e44d5-d450-4d1e-afc0-1bee1576fd7f",
   "metadata": {},
   "source": [
    "# Anamoly Detection"
   ]
  },
  {
   "cell_type": "code",
   "execution_count": 39,
   "id": "79d2c23e-e1b4-4f47-b4ac-105757574edf",
   "metadata": {},
   "outputs": [
    {
     "name": "stdout",
     "output_type": "stream",
     "text": [
      "1/1 [==============================] - 0s 20ms/step\n",
      "[1880.9967]\n"
     ]
    }
   ],
   "source": [
    "from tensorflow.keras.preprocessing import image \n",
    "img = image.load_img(r\"E:\\python\\python_projects\\deepfaceTensorflow\\data\\numbers\\4.png\",target_size=(28,28),color_mode='grayscale')\n",
    "input_image=image.img_to_array(img)\n",
    "inputs=input_image.reshape(1,784)\n",
    "target_data=model.predict(inputs)\n",
    "dist = np.linalg.norm(inputs - target_data, axis=-1)\n",
    "print(dist)"
   ]
  },
  {
   "cell_type": "markdown",
   "id": "014eba3f-0ca0-43c2-8deb-6ae71ca09279",
   "metadata": {},
   "source": [
    "### "
   ]
  },
  {
   "cell_type": "code",
   "execution_count": null,
   "id": "e7b0585f-f264-40d0-ad7d-d19bcc37acf1",
   "metadata": {},
   "outputs": [],
   "source": []
  }
 ],
 "metadata": {
  "kernelspec": {
   "display_name": "tf",
   "language": "python",
   "name": "tf"
  },
  "language_info": {
   "codemirror_mode": {
    "name": "ipython",
    "version": 3
   },
   "file_extension": ".py",
   "mimetype": "text/x-python",
   "name": "python",
   "nbconvert_exporter": "python",
   "pygments_lexer": "ipython3",
   "version": "3.9.18"
  }
 },
 "nbformat": 4,
 "nbformat_minor": 5
}
