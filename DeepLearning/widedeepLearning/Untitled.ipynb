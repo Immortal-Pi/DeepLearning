{
 "cells": [
  {
   "cell_type": "markdown",
   "id": "fb00321a-1839-424c-8dc8-0d67a435b997",
   "metadata": {},
   "source": [
    "# Setup for wide and deep learning"
   ]
  },
  {
   "cell_type": "code",
   "execution_count": 1,
   "id": "5d81a5b1-9c9d-4802-bad4-2c6e2fcd9b31",
   "metadata": {},
   "outputs": [],
   "source": [
    "import tensorflow as tf\n",
    "import numpy as np\n",
    "import pandas as pd"
   ]
  },
  {
   "cell_type": "code",
   "execution_count": 2,
   "id": "7c627800-93e6-4542-8b81-7dbfb4ffd300",
   "metadata": {},
   "outputs": [
    {
     "data": {
      "text/plain": [
       "(32560, 15)"
      ]
     },
     "execution_count": 2,
     "metadata": {},
     "output_type": "execute_result"
    }
   ],
   "source": [
    "train_data=pd.read_csv('datasets/adultdata.csv')\n",
    "train_data.shape"
   ]
  },
  {
   "cell_type": "markdown",
   "id": "33de59d8-7486-4011-83af-a1c8d9a5da86",
   "metadata": {},
   "source": [
    "# define base feature column"
   ]
  },
  {
   "cell_type": "code",
   "execution_count": 3,
   "id": "88d95a8c-b8b5-4570-a169-fcdea8b81ae1",
   "metadata": {},
   "outputs": [],
   "source": [
    "age = tf.feature_column.numeric_column('age')\n",
    "education_num = tf.feature_column.numeric_column('education_num')\n",
    "capital_gain = tf.feature_column.numeric_column('capital_gain')\n",
    "capital_loss = tf.feature_column.numeric_column('capital_loss')\n",
    "hours_per_week = tf.feature_column.numeric_column('hours_per_week')\n",
    "education = tf.feature_column.categorical_column_with_vocabulary_list(\n",
    "'education', [\n",
    "'Bachelors', 'HS-grad', '11th', 'Masters', '9th', 'Some-college',\n",
    "'Assoc-acdm', 'Assoc-voc', '7th-8th', 'Doctorate', 'Prof-school',\n",
    "'5th-6th', '10th', '1st-4th', 'Preschool', '12th'])\n",
    "marital_status = tf.feature_column.categorical_column_with_vocabulary_list(\n",
    "'marital_status', [\n",
    "'Married-civ-spouse', 'Divorced', 'Married-spouse-absent',\n",
    "'Never-married', 'Separated', 'Married-AF-spouse', 'Widowed'])\n",
    "relationship = tf.feature_column.categorical_column_with_vocabulary_list(\n",
    "'relationship', [\n",
    "'Husband', 'Not-in-family', 'Wife', 'Own-child', 'Unmarried',\n",
    "'Other-relative'])\n",
    "workclass = tf.feature_column.categorical_column_with_vocabulary_list(\n",
    "'workclass', [\n",
    "'Self-emp-not-inc', 'Private', 'State-gov', 'Federal-gov',\n",
    "'Local-gov', '?', 'Self-emp-inc', 'Without-pay', 'Never-worked'])\n",
    "# hashing:\n",
    "occupation = tf.feature_column.categorical_column_with_hash_bucket(\n",
    "'occupation', hash_bucket_size=1000)\n",
    "# Transforming.\n",
    "age_buckets = tf.feature_column.bucketized_column(\n",
    "age, boundaries=[18, 25, 30, 35, 40, 45, 50, 55, 60, 65])\n"
   ]
  },
  {
   "cell_type": "markdown",
   "id": "dc631787-5919-4622-8a2b-66e0cddab649",
   "metadata": {},
   "source": [
    "# Deep model: neural network with embedding"
   ]
  },
  {
   "cell_type": "code",
   "execution_count": 4,
   "id": "71760b20-1adf-4ab7-96f1-cf7e74e4993e",
   "metadata": {},
   "outputs": [],
   "source": [
    "deep_columns = [\n",
    "    age,\n",
    "    education_num,\n",
    "    capital_gain,\n",
    "    capital_loss,\n",
    "    hours_per_week,    tf.feature_column.indicator_column(workclass),\n",
    "    tf.feature_column.indicator_column(education),\n",
    "    tf.feature_column.indicator_column(marital_status),\n",
    "    tf.feature_column.indicator_column(relationship),\n",
    "    # To show an example of embedding\n",
    "    tf.feature_column.embedding_column(occupation, dimension=8),\n",
    "]\n"
   ]
  },
  {
   "cell_type": "markdown",
   "id": "0f94e91c-9873-439c-9a5d-28d3339434cc",
   "metadata": {},
   "source": [
    "# combining wide and deep model "
   ]
  },
  {
   "cell_type": "code",
   "execution_count": 6,
   "id": "fee76c33-871f-41d6-bd8c-84bb4932f8be",
   "metadata": {},
   "outputs": [
    {
     "ename": "NameError",
     "evalue": "name 'base_columns' is not defined",
     "output_type": "error",
     "traceback": [
      "\u001b[1;31m---------------------------------------------------------------------------\u001b[0m",
      "\u001b[1;31mNameError\u001b[0m                                 Traceback (most recent call last)",
      "Cell \u001b[1;32mIn[6], line 3\u001b[0m\n\u001b[0;32m      1\u001b[0m model \u001b[38;5;241m=\u001b[39m tf\u001b[38;5;241m.\u001b[39mestimator\u001b[38;5;241m.\u001b[39mDNNLinearCombinedClassifier(\n\u001b[0;32m      2\u001b[0m     model_dir\u001b[38;5;241m=\u001b[39m\u001b[38;5;124m'\u001b[39m\u001b[38;5;124mtmp/census_model\u001b[39m\u001b[38;5;124m'\u001b[39m,\n\u001b[1;32m----> 3\u001b[0m     linear_feature_columns \u001b[38;5;241m=\u001b[39m \u001b[43mbase_columns\u001b[49m \u001b[38;5;241m+\u001b[39m crossed_columns,\n\u001b[0;32m      4\u001b[0m     dnn_feature_columns \u001b[38;5;241m=\u001b[39m deep_columns,\n\u001b[0;32m      5\u001b[0m     dnn_hidden_units\u001b[38;5;241m=\u001b[39m[\u001b[38;5;241m100\u001b[39m,\u001b[38;5;241m50\u001b[39m]\n\u001b[0;32m      6\u001b[0m )\n",
      "\u001b[1;31mNameError\u001b[0m: name 'base_columns' is not defined"
     ]
    }
   ],
   "source": [
    "model = tf.estimator.DNNLinearCombinedClassifier(\n",
    "    model_dir='tmp/census_model',\n",
    "    linear_feature_columns = base_columns + crossed_columns,\n",
    "    dnn_feature_columns = deep_columns,\n",
    "    dnn_hidden_units=[100,50]\n",
    ")"
   ]
  },
  {
   "cell_type": "code",
   "execution_count": null,
   "id": "24f8aec4-a66e-4815-b8bd-5c9912286c16",
   "metadata": {},
   "outputs": [],
   "source": []
  }
 ],
 "metadata": {
  "kernelspec": {
   "display_name": "tf",
   "language": "python",
   "name": "tf"
  },
  "language_info": {
   "codemirror_mode": {
    "name": "ipython",
    "version": 3
   },
   "file_extension": ".py",
   "mimetype": "text/x-python",
   "name": "python",
   "nbconvert_exporter": "python",
   "pygments_lexer": "ipython3",
   "version": "3.9.18"
  }
 },
 "nbformat": 4,
 "nbformat_minor": 5
}
